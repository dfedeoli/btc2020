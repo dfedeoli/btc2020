{
  "nbformat": 4,
  "nbformat_minor": 0,
  "metadata": {
    "kernelspec": {
      "display_name": "Python 3",
      "language": "python",
      "name": "python3"
    },
    "language_info": {
      "codemirror_mode": {
        "name": "ipython",
        "version": 3
      },
      "file_extension": ".py",
      "mimetype": "text/x-python",
      "name": "python",
      "nbconvert_exporter": "python",
      "pygments_lexer": "ipython3",
      "version": "3.8.3"
    },
    "colab": {
      "name": "BTCdesafio7.ipynb",
      "provenance": [],
      "collapsed_sections": [],
      "include_colab_link": true
    }
  },
  "cells": [
    {
      "cell_type": "markdown",
      "metadata": {
        "id": "view-in-github",
        "colab_type": "text"
      },
      "source": [
        "<a href=\"https://colab.research.google.com/github/dfedeoli/btc2020/blob/main/BTCdesafio7.ipynb\" target=\"_parent\"><img src=\"https://colab.research.google.com/assets/colab-badge.svg\" alt=\"Open In Colab\"/></a>"
      ]
    },
    {
      "cell_type": "markdown",
      "metadata": {
        "collapsed": true,
        "id": "gYomultxBu6X"
      },
      "source": [
        "# MARATONA BEHIND THE CODE 2020\n",
        "\n",
        "## DESAFIO 7 - TNT\n",
        "\n",
        "O mercado de energéticos vem crescendo ano após ano, muito impulsionado por mudanças no hábito de consumo do brasileiro, que antigamente via a bebida energética apenas como um produto de mixologia. Agora, passou a ser um produto de consumo diário devido às suas funcionalidades. Os pontos de vendas (PDV) ganharam então uma atenção ainda maior, pois os produtos precisam estar à disposição do cliente nos momentos que eles necessitam dessas funcionalidades. Como desafio, TNT Energy Drink quer propor uma opção de utilização das *vending machines* como PDV nos momentos que os clientes mais necessitam (Metrôs, Academias, etc.).\n",
        "\n",
        "Cada *vending machine* servirá como um grande banco de dados fornecendo informações em tempo real de quantidade de produtos, possibilitando o melhor controle de estoque, recomendação de reabastecimentos, melhores pontos de vendas, etc.\n",
        "\n",
        "Os desenvolvedores deverão utilizar o *IBM Watson Studio* e *IoT* na *IBM Cloud* para criar um modelo preditivo capaz de alertar o momento ideal para recarga de uma máquina de venda automática de TNT. Os participantes deverão se conectar a dispositivos *IoT* para receber os dados de estoque das máquinas em tempo real e ajudar a empresa na reposição, assim as máquinas de venda automática somente serão visitadas quando houver a necessidade de reabastecimento, poupando gastos desnecessários.\n",
        "\n",
        "Proposição completa do Desafio: https://github.com/maratonadev-br/desafio-7-2020"
      ]
    },
    {
      "cell_type": "markdown",
      "metadata": {
        "id": "U1f5KGkyBu6Z"
      },
      "source": [
        "<hr>"
      ]
    },
    {
      "cell_type": "markdown",
      "metadata": {
        "id": "_UoOQBSJfsug"
      },
      "source": [
        "## Importando bibliotecas importantes"
      ]
    },
    {
      "cell_type": "code",
      "metadata": {
        "id": "z_H2ZiJOBu6g"
      },
      "source": [
        "# import warnings filter\n",
        "from warnings import simplefilter\n",
        "# ignore all future warnings\n",
        "simplefilter(action='ignore', category=FutureWarning)\n",
        "\n",
        "import pandas as pd\n",
        "import numpy as np\n",
        "import matplotlib.pyplot as plt\n",
        "import seaborn as sns\n",
        "%matplotlib inline"
      ],
      "execution_count": null,
      "outputs": []
    },
    {
      "cell_type": "markdown",
      "metadata": {
        "id": "ZZRgN_IBfx5W"
      },
      "source": [
        "## Aquisição de dados via *IoT* (*Broker MQTT*)"
      ]
    },
    {
      "cell_type": "markdown",
      "metadata": {
        "id": "9ytc8WcFdt7e"
      },
      "source": [
        "A TNT, em conjunto com a organização da Maratona criou um dispotivo IoT que está publicando dados referentes ao seus postos de venda num tópico. Os dados publicados pelo dispotivo IoT formaram a base necessária para construir a segunda parte do desafios. O Dispotivo ficará ligado até o fim da Maratona e basta apenas uma hora para você adquirir todos os dados. Junto dos dados vai vir um indice para saibam quando a base começar a se repetir.\r\n",
        "\r\n",
        "Para adquirir os dados será necessário se conectar ao seguinte endereço por meio do protocolo MQTT com a seguinte configuração:\r\n",
        "\r\n",
        "```\r\n",
        "HOST: tnt-iot.maratona.dev\r\n",
        "PORT: 30573\r\n",
        "USERNAME: maratoners\r\n",
        "PASSWORD: ndsjknvkdnvjsbvj\r\n",
        "```\r\n",
        "\r\n",
        "A aquisição dos dados foi feita através de uma aplicação em *NODE-RED* e de uma base de dados *Cloudant* na *IBM Cloud*, da mesma forma feita neste [vídeo](https://www.youtube.com/watch?v=yT_DIEu6uzA&feature=youtu.be). Para fazer o download dos dados, é necessário instalar o pacote ``cloudant`` no Jupyter Notebook, da seguinte forma:\r\n"
      ]
    },
    {
      "cell_type": "code",
      "metadata": {
        "id": "bXVwa7EnwWGK"
      },
      "source": [
        "!pip install cloudant"
      ],
      "execution_count": null,
      "outputs": []
    },
    {
      "cell_type": "markdown",
      "metadata": {
        "id": "6_7I7HX8gUNG"
      },
      "source": [
        "Em seguida, é necessário se conectar à base de dados com o *username* (``u``, ``a``) e *password* (``p``), obtidos nas credenciais de serviço do *Cloudant*."
      ]
    },
    {
      "cell_type": "code",
      "metadata": {
        "id": "PPnADkn1vVR7"
      },
      "source": [
        "from cloudant import Cloudant\r\n",
        "u = '5d1547e2-d12d-44a9-93f9-162cfeec78dd-bluemix'\r\n",
        "p = '6aed5872fba7370c99c5c195522a1a402824d2d83b2bf4ba0322614ab2383908'\r\n",
        "a = '5d1547e2-d12d-44a9-93f9-162cfeec78dd-bluemix'\r\n",
        "client = Cloudant(u, p, account=a, connect=True, auto_renew=True)"
      ],
      "execution_count": null,
      "outputs": []
    },
    {
      "cell_type": "markdown",
      "metadata": {
        "id": "nVJgArQDhLLg"
      },
      "source": [
        "Para se conectar à base de dados referente aos dados das máquinas de venda automática (no meu caso, ``dfo-iot``):"
      ]
    },
    {
      "cell_type": "code",
      "metadata": {
        "id": "tZFe_YDSvZq5"
      },
      "source": [
        "db = client['dfo-iot']"
      ],
      "execution_count": null,
      "outputs": []
    },
    {
      "cell_type": "markdown",
      "metadata": {
        "id": "PbnvRSz2h9iT"
      },
      "source": [
        "Coloca-se então o corpo do documento em forma de matriz, para subsequente transformação em um DataFrame pandas ``df``."
      ]
    },
    {
      "cell_type": "code",
      "metadata": {
        "id": "G-2qChNXvb5T"
      },
      "source": [
        "response = db.all_docs(include_docs=True)\r\n",
        "\r\n",
        "docs = []\r\n",
        "for r in response['rows']:\r\n",
        "    docs.append(r['doc'])\r\n",
        "type(docs)"
      ],
      "execution_count": null,
      "outputs": []
    },
    {
      "cell_type": "code",
      "metadata": {
        "id": "zxeTJ-NGvjSy"
      },
      "source": [
        "df = pd.DataFrame(data=docs)"
      ],
      "execution_count": null,
      "outputs": []
    },
    {
      "cell_type": "markdown",
      "metadata": {
        "id": "VcZoF6aZibcO"
      },
      "source": [
        "Removendo colunas referentes à identificação dos dados obtidos dentro do *Cloudant* e excluindo linhas repetidas, obtêm-se o dataset ``dt``."
      ]
    },
    {
      "cell_type": "code",
      "metadata": {
        "id": "Lyltw0N3vqNg"
      },
      "source": [
        "df1 = df.drop(['_id','_rev'], axis=1)\r\n",
        "dt = df1.drop_duplicates()"
      ],
      "execution_count": null,
      "outputs": []
    },
    {
      "cell_type": "markdown",
      "metadata": {
        "id": "nUUnP5CgjDkS"
      },
      "source": [
        "O dataset obtido foi então transformado em um arquivo \".csv\" e salvo, para que não seja necessária uma nova conexão ao *Cloudant* toda vez que o notebook for reiniciado."
      ]
    },
    {
      "cell_type": "code",
      "metadata": {
        "id": "4u_DnigbvvJf"
      },
      "source": [
        "dt.to_csv('training_dataset_desafio7.csv',index=False)"
      ],
      "execution_count": null,
      "outputs": []
    },
    {
      "cell_type": "markdown",
      "metadata": {
        "id": "j2MagzgXBu6g"
      },
      "source": [
        "## Download dos conjuntos de dados em formato .csv\r\n",
        "\r\n",
        "O dataset foi upado para minha página do *GitHub*, facilitando a obtenção dos dados para mim e para quem queira realizar este mesmo projeto de maneira diferente.\r\n",
        "\r\n",
        "Dataset: https://raw.githubusercontent.com/dfedeoli/btc2020/main/training_dataset_desafio7.csv"
      ]
    },
    {
      "cell_type": "code",
      "metadata": {
        "id": "u0YTlVvCBu6g",
        "colab": {
          "base_uri": "https://localhost:8080/"
        },
        "outputId": "e79d417c-cf9c-4746-a3bc-9633e8fcc70e"
      },
      "source": [
        "!wget --no-check-certificate --content-disposition https://raw.githubusercontent.com/dfedeoli/btc2020/main/training_dataset_desafio7.csv\n",
        "df_data_1 = pd.read_csv(r'training_dataset_desafio7.csv')"
      ],
      "execution_count": null,
      "outputs": [
        {
          "output_type": "stream",
          "text": [
            "--2021-03-05 17:35:17--  https://raw.githubusercontent.com/dfedeoli/btc2020/main/training_dataset_desafio7.csv\n",
            "Resolving raw.githubusercontent.com (raw.githubusercontent.com)... 185.199.110.133, 185.199.111.133, 185.199.109.133, ...\n",
            "Connecting to raw.githubusercontent.com (raw.githubusercontent.com)|185.199.110.133|:443... connected.\n",
            "HTTP request sent, awaiting response... 200 OK\n",
            "Length: 1412464 (1.3M) [text/plain]\n",
            "Saving to: ‘training_dataset_desafio7.csv’\n",
            "\n",
            "training_dataset_de 100%[===================>]   1.35M  --.-KB/s    in 0.04s   \n",
            "\n",
            "2021-03-05 17:35:17 (30.7 MB/s) - ‘training_dataset_desafio7.csv’ saved [1412464/1412464]\n",
            "\n"
          ],
          "name": "stdout"
        }
      ]
    },
    {
      "cell_type": "markdown",
      "metadata": {
        "id": "mc0npS6ok7YC"
      },
      "source": [
        "É necessário remover a coluna ``row`` do dataset, para deixá-lo no formato pedido na Maratona Behind The Code 2020."
      ]
    },
    {
      "cell_type": "code",
      "metadata": {
        "id": "Etf0TbIhBu6h",
        "colab": {
          "base_uri": "https://localhost:8080/",
          "height": 195
        },
        "outputId": "27d743e8-ff64-45d6-a034-2afde2158c52"
      },
      "source": [
        "df_training_dataset = df_data_1.drop(['row'], axis=1)\n",
        "df_training_dataset.head()"
      ],
      "execution_count": null,
      "outputs": [
        {
          "output_type": "execute_result",
          "data": {
            "text/html": [
              "<div>\n",
              "<style scoped>\n",
              "    .dataframe tbody tr th:only-of-type {\n",
              "        vertical-align: middle;\n",
              "    }\n",
              "\n",
              "    .dataframe tbody tr th {\n",
              "        vertical-align: top;\n",
              "    }\n",
              "\n",
              "    .dataframe thead th {\n",
              "        text-align: right;\n",
              "    }\n",
              "</style>\n",
              "<table border=\"1\" class=\"dataframe\">\n",
              "  <thead>\n",
              "    <tr style=\"text-align: right;\">\n",
              "      <th></th>\n",
              "      <th>Tempo</th>\n",
              "      <th>Estação</th>\n",
              "      <th>LAT</th>\n",
              "      <th>LONG</th>\n",
              "      <th>Movimentação</th>\n",
              "      <th>Original_473</th>\n",
              "      <th>Original_269</th>\n",
              "      <th>Zero</th>\n",
              "      <th>Maçã-Verde</th>\n",
              "      <th>Tangerina</th>\n",
              "      <th>Citrus</th>\n",
              "      <th>Açaí-Guaraná</th>\n",
              "      <th>Pêssego</th>\n",
              "      <th>TARGET</th>\n",
              "    </tr>\n",
              "  </thead>\n",
              "  <tbody>\n",
              "    <tr>\n",
              "      <th>0</th>\n",
              "      <td>2018-1-11</td>\n",
              "      <td>Trianon-Masp</td>\n",
              "      <td>-23.5634</td>\n",
              "      <td>-46.6544</td>\n",
              "      <td>42064</td>\n",
              "      <td>78</td>\n",
              "      <td>65</td>\n",
              "      <td>50</td>\n",
              "      <td>7</td>\n",
              "      <td>4</td>\n",
              "      <td>20</td>\n",
              "      <td>38</td>\n",
              "      <td>2</td>\n",
              "      <td>REABASTECER</td>\n",
              "    </tr>\n",
              "    <tr>\n",
              "      <th>1</th>\n",
              "      <td>2018-11-21</td>\n",
              "      <td>Sé</td>\n",
              "      <td>-23.5500</td>\n",
              "      <td>-46.6333</td>\n",
              "      <td>192282</td>\n",
              "      <td>6</td>\n",
              "      <td>41</td>\n",
              "      <td>50</td>\n",
              "      <td>28</td>\n",
              "      <td>5</td>\n",
              "      <td>39</td>\n",
              "      <td>8</td>\n",
              "      <td>43</td>\n",
              "      <td>NORMAL</td>\n",
              "    </tr>\n",
              "    <tr>\n",
              "      <th>2</th>\n",
              "      <td>2019-1-22</td>\n",
              "      <td>Sé</td>\n",
              "      <td>-23.5500</td>\n",
              "      <td>-46.6333</td>\n",
              "      <td>192261</td>\n",
              "      <td>52</td>\n",
              "      <td>60</td>\n",
              "      <td>20</td>\n",
              "      <td>21</td>\n",
              "      <td>28</td>\n",
              "      <td>17</td>\n",
              "      <td>38</td>\n",
              "      <td>12</td>\n",
              "      <td>NORMAL</td>\n",
              "    </tr>\n",
              "    <tr>\n",
              "      <th>3</th>\n",
              "      <td>2019-7-21</td>\n",
              "      <td>Tamanduateí</td>\n",
              "      <td>-23.5929</td>\n",
              "      <td>-46.5897</td>\n",
              "      <td>50953</td>\n",
              "      <td>42</td>\n",
              "      <td>33</td>\n",
              "      <td>43</td>\n",
              "      <td>37</td>\n",
              "      <td>23</td>\n",
              "      <td>22</td>\n",
              "      <td>43</td>\n",
              "      <td>32</td>\n",
              "      <td>NORMAL</td>\n",
              "    </tr>\n",
              "    <tr>\n",
              "      <th>4</th>\n",
              "      <td>2019-8-15</td>\n",
              "      <td>Tamanduateí</td>\n",
              "      <td>-23.5929</td>\n",
              "      <td>-46.5897</td>\n",
              "      <td>51931</td>\n",
              "      <td>75</td>\n",
              "      <td>25</td>\n",
              "      <td>10</td>\n",
              "      <td>29</td>\n",
              "      <td>6</td>\n",
              "      <td>20</td>\n",
              "      <td>43</td>\n",
              "      <td>22</td>\n",
              "      <td>REABASTECER</td>\n",
              "    </tr>\n",
              "  </tbody>\n",
              "</table>\n",
              "</div>"
            ],
            "text/plain": [
              "        Tempo       Estação      LAT  ...  Açaí-Guaraná  Pêssego       TARGET\n",
              "0   2018-1-11  Trianon-Masp -23.5634  ...            38        2  REABASTECER\n",
              "1  2018-11-21            Sé -23.5500  ...             8       43       NORMAL\n",
              "2   2019-1-22            Sé -23.5500  ...            38       12       NORMAL\n",
              "3   2019-7-21   Tamanduateí -23.5929  ...            43       32       NORMAL\n",
              "4   2019-8-15   Tamanduateí -23.5929  ...            43       22  REABASTECER\n",
              "\n",
              "[5 rows x 14 columns]"
            ]
          },
          "metadata": {
            "tags": []
          },
          "execution_count": 3
        }
      ]
    },
    {
      "cell_type": "markdown",
      "metadata": {
        "id": "vU5JAzuCBu6k"
      },
      "source": [
        "Através do conjunto de dados ``df_training_dataset``, temos algumas informações gerais sobre os pontos de vendas da TNT:\n",
        "\n",
        "**Tempo**: data da informação enviada pela *vending machine*;\n",
        "\n",
        "**Estação**: estação de metrô referente;\n",
        "\n",
        "**LAT**: latitude;\n",
        "\n",
        "**LONG**: longitude;\n",
        "\n",
        "**Movimentação**: número geral de movimentação das máquinas;\n",
        "\n",
        "**Original_473**: quantidade de TNT Original 473ml disponível;\n",
        "\n",
        "**Original_269**: quantidade de TNT Original 269ml disponível;\n",
        "\n",
        "**Zero**: quantidade de TNT Zero disponível;\n",
        "\n",
        "**Maçã-Verde**: quantidade de TNT Maçã-Verde disponível;\n",
        "\n",
        "**Tangerina**: quantidade de TNT Tangerina disponível;\n",
        "\n",
        "**Citrus**: quantidade de TNT Citrus disponível;\n",
        "\n",
        "**Açaí-Guaraná**: quantidade de TNT Açaí-Guaraná disponível;\n",
        "\n",
        "**Pêssego**: quantidade de TNT Pêssego disponível;\n",
        "\n",
        "**TARGET**: se é necessário reabastecer ou não."
      ]
    },
    {
      "cell_type": "code",
      "metadata": {
        "id": "7eMYzYVDBu6k",
        "colab": {
          "base_uri": "https://localhost:8080/"
        },
        "outputId": "a5c1f645-9f1f-4c2d-db45-8c73e37009e4"
      },
      "source": [
        "df_training_dataset.info()"
      ],
      "execution_count": null,
      "outputs": [
        {
          "output_type": "stream",
          "text": [
            "<class 'pandas.core.frame.DataFrame'>\n",
            "RangeIndex: 17014 entries, 0 to 17013\n",
            "Data columns (total 14 columns):\n",
            " #   Column        Non-Null Count  Dtype  \n",
            "---  ------        --------------  -----  \n",
            " 0   Tempo         17014 non-null  object \n",
            " 1   Estação       17014 non-null  object \n",
            " 2   LAT           17014 non-null  float64\n",
            " 3   LONG          17014 non-null  float64\n",
            " 4   Movimentação  17014 non-null  int64  \n",
            " 5   Original_473  17014 non-null  int64  \n",
            " 6   Original_269  17014 non-null  int64  \n",
            " 7   Zero          17014 non-null  int64  \n",
            " 8   Maçã-Verde    17014 non-null  int64  \n",
            " 9   Tangerina     17014 non-null  int64  \n",
            " 10  Citrus        17014 non-null  int64  \n",
            " 11  Açaí-Guaraná  17014 non-null  int64  \n",
            " 12  Pêssego       17014 non-null  int64  \n",
            " 13  TARGET        17014 non-null  object \n",
            "dtypes: float64(2), int64(9), object(3)\n",
            "memory usage: 1.8+ MB\n"
          ],
          "name": "stdout"
        }
      ]
    },
    {
      "cell_type": "markdown",
      "metadata": {
        "id": "1Z74ce7ApIHv"
      },
      "source": [
        "O dataset não possui dados faltantes, então não será necessário fazer tratamento de dados neste sentido."
      ]
    },
    {
      "cell_type": "code",
      "metadata": {
        "id": "ixZ9gE56Bu6k",
        "colab": {
          "base_uri": "https://localhost:8080/"
        },
        "outputId": "a8362d02-0881-4ac4-c7b7-386f592fe102"
      },
      "source": [
        "df_training_dataset.nunique()"
      ],
      "execution_count": null,
      "outputs": [
        {
          "output_type": "execute_result",
          "data": {
            "text/plain": [
              "Tempo             720\n",
              "Estação            25\n",
              "LAT                25\n",
              "LONG               25\n",
              "Movimentação    14871\n",
              "Original_473       81\n",
              "Original_269       65\n",
              "Zero               63\n",
              "Maçã-Verde         43\n",
              "Tangerina          42\n",
              "Citrus             43\n",
              "Açaí-Guaraná       42\n",
              "Pêssego            42\n",
              "TARGET              2\n",
              "dtype: int64"
            ]
          },
          "metadata": {
            "tags": []
          },
          "execution_count": 5
        }
      ]
    },
    {
      "cell_type": "markdown",
      "metadata": {
        "id": "Pj-__7kTBu6l"
      },
      "source": [
        "<hr>\n",
        "\n",
        "## Detalhamento do Desafio: classificação binária\n",
        "\n",
        "Este é um desafio cujo objetivo de negócio é a determinação se uma *vendind machine* precisa ser reabastecida de energético TNT ou não. Para tal, será utilizada uma abordagem de aprendizado de máquina supervisionado (classificação), pois foi disponibilizado um dataset já com \"labels\", ou em outras palavras, já com exemplos de dados e suas variáveis-alvo. A coluna-alvo neste desafio é a coluna ``TARGET``.\n",
        "\n",
        "Na biblioteca scikit-learn temos diversos algoritmos para classificação, além da biblioteca xgboost. O participante é livre para utilizar o framework que desejar para completar esse desafio."
      ]
    },
    {
      "cell_type": "markdown",
      "metadata": {
        "id": "YxTq-zCJBu6l"
      },
      "source": [
        "<hr>\r\n",
        "\r\n",
        "## Análise prévia do conjunto de dados\r\n",
        "\r\n",
        "Fazendo uma simples análise do conjunto de dados, podemos verificar abaixo, podemos visualizar a distribuição de quantidade restante reportada de cada tipo de TNT. Explicando de maneira simples, os gráficos representam o número de vezes que uma determinada quantidade de TNT foi reportada. Na seguinte célula, é possível visualizar os gráficos dos energéticos: Original 473 ml, Original 269 ml, Zero e Maçã-Verde. A célula subsequente apresenta os dados dos energéticos restantes (Tangerina, Citrus, Açaí-Guaraná e Pêssego)."
      ]
    },
    {
      "cell_type": "code",
      "metadata": {
        "colab": {
          "base_uri": "https://localhost:8080/",
          "height": 264
        },
        "id": "bXcz10LQ0VXk",
        "outputId": "98409cfd-d071-4ae5-bf37-aa2cf3929fa6"
      },
      "source": [
        "fig, axes = plt.subplots(nrows=1, ncols=4, figsize=(28, 4))\r\n",
        "\r\n",
        "sns.countplot(ax=axes[0], x='Original_473', data=df_training_dataset).set(xticks= np.arange(0,90,10),xlabel='Quantidade: Original_473',ylabel='count')\r\n",
        "axes[0].set_xticklabels(np.arange(0,90,10))\r\n",
        "sns.countplot(ax=axes[1], x='Original_269', data=df_training_dataset).set(xticks=np.arange(0,65,10),xlabel='Quantidade: Original_269',ylabel='')\r\n",
        "axes[1].set_xticklabels(np.arange(0,65,10))\r\n",
        "sns.countplot(ax=axes[2], x='Zero', data=df_training_dataset).set(xticks=np.arange(0,65,10),xlabel='Quantidade: Zero',ylabel='')\r\n",
        "axes[2].set_xticklabels(np.arange(0,65,10))\r\n",
        "sns.countplot(ax=axes[3], x='Maçã-Verde', data=df_training_dataset).set(xticks=np.arange(0,43,10),xlabel='Quantidade: Maçã-Verde',ylabel='')\r\n",
        "axes[3].set_xticklabels(np.arange(0,43,10))\r\n",
        "print('Gráficos 1 a 4:')"
      ],
      "execution_count": null,
      "outputs": [
        {
          "output_type": "stream",
          "text": [
            "Gráficos 1 a 4:\n"
          ],
          "name": "stdout"
        },
        {
          "output_type": "display_data",
          "data": {
            "image/png": "[encoded data removed]",
            "text/plain": [
              "<Figure size 2016x288 with 4 Axes>"
            ]
          },
          "metadata": {
            "tags": [],
            "needs_background": "light"
          }
        }
      ]
    },
    {
      "cell_type": "code",
      "metadata": {
        "colab": {
          "base_uri": "https://localhost:8080/",
          "height": 263
        },
        "id": "_lg_Qvmh0YEv",
        "outputId": "d7891ace-25ed-4de8-ab33-955af1ba4b84"
      },
      "source": [
        "fig, axes = plt.subplots(nrows=1, ncols=4, figsize=(28, 4))\r\n",
        "\r\n",
        "sns.countplot(ax=axes[0], x='Tangerina', data=df_training_dataset).set(xticks=np.arange(0,43,10),xlabel='Quantidade: Tangerina',ylabel='count')\r\n",
        "axes[0].set_xticklabels(np.arange(0,43,10))\r\n",
        "sns.countplot(ax=axes[1], x='Citrus', data=df_training_dataset).set(xticks=np.arange(0,43,10),xlabel='Quantidade: Citrus',ylabel='')\r\n",
        "axes[1].set_xticklabels(np.arange(0,43,10))\r\n",
        "sns.countplot(ax=axes[2], x='Açaí-Guaraná', data=df_training_dataset).set(xticks=np.arange(0,43,10),xlabel='Quantidade: Açaí-Guaraná',ylabel='')\r\n",
        "axes[2].set_xticklabels(np.arange(0,43,10))\r\n",
        "sns.countplot(ax=axes[3], x='Pêssego', data=df_training_dataset).set(xticks=np.arange(0,43,10),xlabel='Quantidade: Pêssego',ylabel='')\r\n",
        "axes[3].set_xticklabels(np.arange(0,43,10))\r\n",
        "print('Gráficos 5 a 8:')"
      ],
      "execution_count": null,
      "outputs": [
        {
          "output_type": "stream",
          "text": [
            "Gráficos 5 a 8:\n"
          ],
          "name": "stdout"
        },
        {
          "output_type": "display_data",
          "data": {
            "image/png": "[encoded data removed]",
            "text/plain": [
              "<Figure size 2016x288 with 4 Axes>"
            ]
          },
          "metadata": {
            "tags": [],
            "needs_background": "light"
          }
        }
      ]
    },
    {
      "cell_type": "markdown",
      "metadata": {
        "id": "68XcCvT4au_K"
      },
      "source": [
        "Em todos os gráficos acima, a quantidade de energético mais vezes reportada representa a quantidade quando o estoque está completo, e o número de vezes que essa quantidade é reportada é muito maior que o restante.\r\n",
        "\r\n",
        "Avaliando a coluna-alvo (``TARGET``) no gráfico abaixo, é possível verificar que o dataset está desbalanceado, e por isso será utilizada a técnica *SMOTE* de balanceamento *over-sampling*."
      ]
    },
    {
      "cell_type": "code",
      "metadata": {
        "colab": {
          "base_uri": "https://localhost:8080/",
          "height": 299
        },
        "id": "jdbwfMnuz0hk",
        "outputId": "d5a439d3-114a-478d-aea0-df10fc0b8dab"
      },
      "source": [
        "fig = plt.plot()\r\n",
        "sns.countplot(x='TARGET', data=df_training_dataset)"
      ],
      "execution_count": null,
      "outputs": [
        {
          "output_type": "execute_result",
          "data": {
            "text/plain": [
              "<matplotlib.axes._subplots.AxesSubplot at 0x7f57f8f1aed0>"
            ]
          },
          "metadata": {
            "tags": []
          },
          "execution_count": 101
        },
        {
          "output_type": "display_data",
          "data": {
            "image/png": "[encoded data removed]",
            "text/plain": [
              "<Figure size 432x288 with 1 Axes>"
            ]
          },
          "metadata": {
            "tags": [],
            "needs_background": "light"
          }
        }
      ]
    },
    {
      "cell_type": "markdown",
      "metadata": {
        "id": "WSKAWWbjd7Mx"
      },
      "source": [
        "Plotando a matriz de correlação, é possível verificar a relativamente alta correlação entre Latitude, Longitude e movimentação. As coordenadas geográficas servem apenas para localizar a posição da estação de metrô referente."
      ]
    },
    {
      "cell_type": "code",
      "metadata": {
        "id": "so2B5yihBu6m",
        "colab": {
          "base_uri": "https://localhost:8080/",
          "height": 293
        },
        "outputId": "4e138266-fc1c-402f-9df7-f5aa2eff82b2"
      },
      "source": [
        "plt.figure(figsize=(28, 6))\n",
        "corrMatrix = df_training_dataset.corr()\n",
        "sns.heatmap(corrMatrix, annot=True)\n",
        "plt.show()"
      ],
      "execution_count": null,
      "outputs": [
        {
          "output_type": "display_data",
          "data": {
            "image/png": "[encoded data removed]",
            "text/plain": [
              "<Figure size 2016x432 with 2 Axes>"
            ]
          },
          "metadata": {
            "tags": [],
            "needs_background": "light"
          }
        }
      ]
    },
    {
      "cell_type": "markdown",
      "metadata": {
        "id": "6m1w_LS_Bu6o"
      },
      "source": [
        "## Pré-processando o dataset antes do treinamento"
      ]
    },
    {
      "cell_type": "markdown",
      "metadata": {
        "id": "yusYkEyEBu6q"
      },
      "source": [
        "### Eliminando colunas indesejadas\n",
        "\n",
        "Vamos **demonstrar** abaixo como usar o método **DataFrame.drop()**.\n",
        "\n",
        "Docs: https://pandas.pydata.org/pandas-docs/stable/reference/api/pandas.DataFrame.drop.html\n",
        "\n",
        "Como a estação de metrô não influencia na questão de reabastecer ou não as *vending machines*, esta coluna será removida. Tendo em vista que, através de ``LAT`` e ``LONG``, ``Movimentação`` tem certa correlação com a estação de metrô, estas três colunas também serão removidas."
      ]
    },
    {
      "cell_type": "code",
      "metadata": {
        "id": "KaPSmED7Bu6s",
        "colab": {
          "base_uri": "https://localhost:8080/",
          "height": 195
        },
        "outputId": "97ae516b-eaa5-4450-a068-e1236f0edfcb"
      },
      "source": [
        "df_training_dataset_rmcolumns = df_training_dataset.drop(columns=['Tempo', 'LAT', 'LONG', 'Movimentação','Estação'], inplace=False)\r\n",
        "df_training_dataset_rmcolumns.tail()"
      ],
      "execution_count": null,
      "outputs": [
        {
          "output_type": "execute_result",
          "data": {
            "text/html": [
              "<div>\n",
              "<style scoped>\n",
              "    .dataframe tbody tr th:only-of-type {\n",
              "        vertical-align: middle;\n",
              "    }\n",
              "\n",
              "    .dataframe tbody tr th {\n",
              "        vertical-align: top;\n",
              "    }\n",
              "\n",
              "    .dataframe thead th {\n",
              "        text-align: right;\n",
              "    }\n",
              "</style>\n",
              "<table border=\"1\" class=\"dataframe\">\n",
              "  <thead>\n",
              "    <tr style=\"text-align: right;\">\n",
              "      <th></th>\n",
              "      <th>Original_473</th>\n",
              "      <th>Original_269</th>\n",
              "      <th>Zero</th>\n",
              "      <th>Maçã-Verde</th>\n",
              "      <th>Tangerina</th>\n",
              "      <th>Citrus</th>\n",
              "      <th>Açaí-Guaraná</th>\n",
              "      <th>Pêssego</th>\n",
              "      <th>TARGET</th>\n",
              "    </tr>\n",
              "  </thead>\n",
              "  <tbody>\n",
              "    <tr>\n",
              "      <th>17009</th>\n",
              "      <td>59</td>\n",
              "      <td>35</td>\n",
              "      <td>32</td>\n",
              "      <td>5</td>\n",
              "      <td>22</td>\n",
              "      <td>9</td>\n",
              "      <td>43</td>\n",
              "      <td>2</td>\n",
              "      <td>REABASTECER</td>\n",
              "    </tr>\n",
              "    <tr>\n",
              "      <th>17010</th>\n",
              "      <td>23</td>\n",
              "      <td>59</td>\n",
              "      <td>41</td>\n",
              "      <td>14</td>\n",
              "      <td>30</td>\n",
              "      <td>32</td>\n",
              "      <td>5</td>\n",
              "      <td>8</td>\n",
              "      <td>REABASTECER</td>\n",
              "    </tr>\n",
              "    <tr>\n",
              "      <th>17011</th>\n",
              "      <td>86</td>\n",
              "      <td>36</td>\n",
              "      <td>31</td>\n",
              "      <td>33</td>\n",
              "      <td>28</td>\n",
              "      <td>4</td>\n",
              "      <td>28</td>\n",
              "      <td>21</td>\n",
              "      <td>REABASTECER</td>\n",
              "    </tr>\n",
              "    <tr>\n",
              "      <th>17012</th>\n",
              "      <td>60</td>\n",
              "      <td>48</td>\n",
              "      <td>32</td>\n",
              "      <td>28</td>\n",
              "      <td>43</td>\n",
              "      <td>43</td>\n",
              "      <td>39</td>\n",
              "      <td>26</td>\n",
              "      <td>NORMAL</td>\n",
              "    </tr>\n",
              "    <tr>\n",
              "      <th>17013</th>\n",
              "      <td>39</td>\n",
              "      <td>12</td>\n",
              "      <td>21</td>\n",
              "      <td>25</td>\n",
              "      <td>12</td>\n",
              "      <td>4</td>\n",
              "      <td>43</td>\n",
              "      <td>16</td>\n",
              "      <td>NORMAL</td>\n",
              "    </tr>\n",
              "  </tbody>\n",
              "</table>\n",
              "</div>"
            ],
            "text/plain": [
              "       Original_473  Original_269  Zero  ...  Açaí-Guaraná  Pêssego       TARGET\n",
              "17009            59            35    32  ...            43        2  REABASTECER\n",
              "17010            23            59    41  ...             5        8  REABASTECER\n",
              "17011            86            36    31  ...            28       21  REABASTECER\n",
              "17012            60            48    32  ...            39       26       NORMAL\n",
              "17013            39            12    21  ...            43       16       NORMAL\n",
              "\n",
              "[5 rows x 9 columns]"
            ]
          },
          "metadata": {
            "tags": []
          },
          "execution_count": 66
        }
      ]
    },
    {
      "cell_type": "markdown",
      "metadata": {
        "id": "-m2hFm9BxcIF"
      },
      "source": [
        "### Criando uma nova coluna\r\n",
        "\r\n",
        "Para incrementar o nosso conjunto de dados, será adicionada uma nova coluna através da função abaixo criada, ``SingleDigitValue``. O intuito desta é contar quantos tipos de energético possuem menos de 10 unidades (valores de apenas um dígito, como diz o nome da função) disponíveis na máquina."
      ]
    },
    {
      "cell_type": "code",
      "metadata": {
        "id": "ulqoTlRFBu6m"
      },
      "source": [
        "from sklearn.base import BaseEstimator, TransformerMixin\n",
        "\n",
        "class SingleDigitValue(BaseEstimator, TransformerMixin):\n",
        "    def __init__(self, columns, name):\n",
        "        self.columns = columns\n",
        "        self.name = name\n",
        "\n",
        "    def fit(self, X, y=None):\n",
        "        return self\n",
        "      \n",
        "    def comb(self, data):\n",
        "        a = 0\n",
        "        for energ in self.columns:\n",
        "            if data[energ] <10:\n",
        "                a += 1                \n",
        "        return pd.Series([a], index =[f'SINGLE_{self.name}'])\n",
        "          \n",
        "    def transform(self, X):\n",
        "        # Primeiro realizamos a cópia do dataframe 'X' de entrada\n",
        "        data = X.copy()\n",
        "        data = data.join(data.apply(self.comb, axis=1))\n",
        "        return data"
      ],
      "execution_count": null,
      "outputs": []
    },
    {
      "cell_type": "markdown",
      "metadata": {
        "id": "hbVrZDtfqTN-"
      },
      "source": [
        "Aplicando esta função ao nosso conjunto de dados para verificar os sabores que possuem menos de 10 unidades disponíveis em cada linha do dataset, obtêm-se o conjunto de dados ``df_training_dataset_sd``, com a nova coluna ``SINGLE_QUANT``. "
      ]
    },
    {
      "cell_type": "code",
      "metadata": {
        "id": "H8orBMFrBu6t",
        "colab": {
          "base_uri": "https://localhost:8080/",
          "height": 195
        },
        "outputId": "adc7245f-bfc8-4952-c780-ba53064d8f94"
      },
      "source": [
        "sd = SingleDigitValue(['Original_473', 'Original_269', 'Zero', 'Maçã-Verde', 'Tangerina', 'Citrus',\n",
        "                       'Açaí-Guaraná', 'Pêssego'], 'QUANT')\n",
        "\n",
        "df_training_dataset_sd = pd.DataFrame.from_records(sd.fit_transform(df_training_dataset_rmcolumns))\n",
        "df_training_dataset_sd.tail()"
      ],
      "execution_count": null,
      "outputs": [
        {
          "output_type": "execute_result",
          "data": {
            "text/html": [
              "<div>\n",
              "<style scoped>\n",
              "    .dataframe tbody tr th:only-of-type {\n",
              "        vertical-align: middle;\n",
              "    }\n",
              "\n",
              "    .dataframe tbody tr th {\n",
              "        vertical-align: top;\n",
              "    }\n",
              "\n",
              "    .dataframe thead th {\n",
              "        text-align: right;\n",
              "    }\n",
              "</style>\n",
              "<table border=\"1\" class=\"dataframe\">\n",
              "  <thead>\n",
              "    <tr style=\"text-align: right;\">\n",
              "      <th></th>\n",
              "      <th>Original_473</th>\n",
              "      <th>Original_269</th>\n",
              "      <th>Zero</th>\n",
              "      <th>Maçã-Verde</th>\n",
              "      <th>Tangerina</th>\n",
              "      <th>Citrus</th>\n",
              "      <th>Açaí-Guaraná</th>\n",
              "      <th>Pêssego</th>\n",
              "      <th>TARGET</th>\n",
              "      <th>SINGLE_QUANT</th>\n",
              "    </tr>\n",
              "  </thead>\n",
              "  <tbody>\n",
              "    <tr>\n",
              "      <th>17009</th>\n",
              "      <td>59</td>\n",
              "      <td>35</td>\n",
              "      <td>32</td>\n",
              "      <td>5</td>\n",
              "      <td>22</td>\n",
              "      <td>9</td>\n",
              "      <td>43</td>\n",
              "      <td>2</td>\n",
              "      <td>REABASTECER</td>\n",
              "      <td>3</td>\n",
              "    </tr>\n",
              "    <tr>\n",
              "      <th>17010</th>\n",
              "      <td>23</td>\n",
              "      <td>59</td>\n",
              "      <td>41</td>\n",
              "      <td>14</td>\n",
              "      <td>30</td>\n",
              "      <td>32</td>\n",
              "      <td>5</td>\n",
              "      <td>8</td>\n",
              "      <td>REABASTECER</td>\n",
              "      <td>2</td>\n",
              "    </tr>\n",
              "    <tr>\n",
              "      <th>17011</th>\n",
              "      <td>86</td>\n",
              "      <td>36</td>\n",
              "      <td>31</td>\n",
              "      <td>33</td>\n",
              "      <td>28</td>\n",
              "      <td>4</td>\n",
              "      <td>28</td>\n",
              "      <td>21</td>\n",
              "      <td>REABASTECER</td>\n",
              "      <td>1</td>\n",
              "    </tr>\n",
              "    <tr>\n",
              "      <th>17012</th>\n",
              "      <td>60</td>\n",
              "      <td>48</td>\n",
              "      <td>32</td>\n",
              "      <td>28</td>\n",
              "      <td>43</td>\n",
              "      <td>43</td>\n",
              "      <td>39</td>\n",
              "      <td>26</td>\n",
              "      <td>NORMAL</td>\n",
              "      <td>0</td>\n",
              "    </tr>\n",
              "    <tr>\n",
              "      <th>17013</th>\n",
              "      <td>39</td>\n",
              "      <td>12</td>\n",
              "      <td>21</td>\n",
              "      <td>25</td>\n",
              "      <td>12</td>\n",
              "      <td>4</td>\n",
              "      <td>43</td>\n",
              "      <td>16</td>\n",
              "      <td>NORMAL</td>\n",
              "      <td>1</td>\n",
              "    </tr>\n",
              "  </tbody>\n",
              "</table>\n",
              "</div>"
            ],
            "text/plain": [
              "       Original_473  Original_269  Zero  ...  Pêssego       TARGET  SINGLE_QUANT\n",
              "17009            59            35    32  ...        2  REABASTECER             3\n",
              "17010            23            59    41  ...        8  REABASTECER             2\n",
              "17011            86            36    31  ...       21  REABASTECER             1\n",
              "17012            60            48    32  ...       26       NORMAL             0\n",
              "17013            39            12    21  ...       16       NORMAL             1\n",
              "\n",
              "[5 rows x 10 columns]"
            ]
          },
          "metadata": {
            "tags": []
          },
          "execution_count": 70
        }
      ]
    },
    {
      "cell_type": "markdown",
      "metadata": {
        "id": "jULFwEZMrIAx"
      },
      "source": [
        "É possível verificar que a função funcionou corretamente, analisando as quantidades disponíveis e o número de opções com menos de uma dezena de unidades.\r\n",
        "\r\n",
        "Abaixo é apresentada a matriz de correlação incluindo esta nova coluna."
      ]
    },
    {
      "cell_type": "code",
      "metadata": {
        "id": "Jd7jEltcBu6v",
        "colab": {
          "base_uri": "https://localhost:8080/",
          "height": 365
        },
        "outputId": "882d81d1-c21b-4660-a0c9-f465af6c45e1"
      },
      "source": [
        "plt.figure(figsize=(28, 6))\n",
        "corrMatrix = df_training_dataset_sd.corr()\n",
        "sns.heatmap(corrMatrix, annot=True)\n",
        "plt.show()"
      ],
      "execution_count": null,
      "outputs": [
        {
          "output_type": "display_data",
          "data": {
            "image/png": "[encoded data removed]",
            "text/plain": [
              "<Figure size 2016x432 with 2 Axes>"
            ]
          },
          "metadata": {
            "tags": [],
            "needs_background": "light"
          }
        }
      ]
    },
    {
      "cell_type": "markdown",
      "metadata": {
        "id": "sGv_0ODdBu6w"
      },
      "source": [
        "## Treinando um classificador"
      ]
    },
    {
      "cell_type": "markdown",
      "metadata": {
        "id": "0BI8gG-wBu6w"
      },
      "source": [
        "### Selecionando FEATURES e definindo a variável TARGET\r\n",
        "\r\n",
        "Antes de iniciar o treinamento do modelo de classificação, é necessário dividir as variáveis do dataset entre *features* (variáveis-características) e *target* (variável-alvo)."
      ]
    },
    {
      "cell_type": "code",
      "metadata": {
        "id": "m1_IMbi-Bu6w",
        "colab": {
          "base_uri": "https://localhost:8080/"
        },
        "outputId": "b00019f5-a8e4-4d45-87aa-732012934e34"
      },
      "source": [
        "df_training_dataset_sd.columns"
      ],
      "execution_count": null,
      "outputs": [
        {
          "output_type": "execute_result",
          "data": {
            "text/plain": [
              "Index(['Original_473', 'Original_269', 'Zero', 'Maçã-Verde', 'Tangerina',\n",
              "       'Citrus', 'Açaí-Guaraná', 'Pêssego', 'TARGET', 'SINGLE_QUANT'],\n",
              "      dtype='object')"
            ]
          },
          "metadata": {
            "tags": []
          },
          "execution_count": 72
        }
      ]
    },
    {
      "cell_type": "code",
      "metadata": {
        "id": "-3M6VPHfBu6x"
      },
      "source": [
        "features = df_training_dataset_sd[\n",
        "    [\n",
        "       'Original_473', 'Original_269', 'Zero', 'Maçã-Verde', 'Tangerina',\n",
        "       'Citrus', 'Açaí-Guaraná', 'Pêssego', 'SINGLE_QUANT'\n",
        "    ]\n",
        "]\n",
        "target = df_training_dataset_sd['TARGET']"
      ],
      "execution_count": null,
      "outputs": []
    },
    {
      "cell_type": "markdown",
      "metadata": {
        "id": "U9L-lc7zBu6x"
      },
      "source": [
        "### Descobrindo o melhor método\r\n",
        "\r\n",
        "Para garantir um modelo otimizado é possível utilizar o ``RandomizedSearchCV``, uma função que permite uma pesquisa randomizada do melhor modelo a ser utilizado, de acordo com uma série de valores definidos pelo usuários para os hiper-parâmetros. Foi escolhida esta função de pesquisa pois não é tão demorada quanto o ``GridSearchCV``, que faz uma busca mais extensa.\r\n",
        "\r\n",
        "Para este desafio, foram testados diversos tipos de modelos de classificação, como regressão logística, árvore de decisão, SVM e redes neurais artificiais. "
      ]
    },
    {
      "cell_type": "code",
      "metadata": {
        "id": "2TXKDU-GsSyP"
      },
      "source": [
        "from sklearn.model_selection import RandomizedSearchCV\r\n",
        "from sklearn.svm import LinearSVC\r\n",
        "from sklearn.tree import DecisionTreeClassifier\r\n",
        "from sklearn.neural_network import MLPClassifier\r\n",
        "from sklearn.linear_model import LogisticRegression, SGDClassifier\r\n",
        "from xgboost import XGBClassifier"
      ],
      "execution_count": null,
      "outputs": []
    },
    {
      "cell_type": "markdown",
      "metadata": {
        "id": "DYKn7dmOCaEN"
      },
      "source": [
        "Os parâmetros e valores para a determinação do melhor modelo possível, para cada modelo diferente, são os dispostos na célula seguinte. O único modelo que não está em forma de comentário é o modelo que proporcionou os melhores resultados de acurácia e *F1-Score* mais adiante.\r\n",
        "\r\n",
        "A busca de hiperparâmetros é por 600 iterações, *cross-validation* = 5 (3000 iterações totais) e o valor a ser otimizado é o *F1-Score*."
      ]
    },
    {
      "cell_type": "code",
      "metadata": {
        "id": "EsIrrYhpBu6x"
      },
      "source": [
        "params = {\n",
        "        'learning_rate': [0.15, 0.20, 0.25, 0.3],\n",
        "        'min_child_weight': [35, 40, 45, 50, 60],\n",
        "        'gamma': [2, 5, 7.5, 9],\n",
        "        'colsample_bytree': [0.6, 0.8, 1.0],\n",
        "        'max_depth': [ 7, 8, 9, 10, 11, 12, 13],\n",
        "        'n_estimators': [900, 1100, 1200, 1300, 1400],\n",
        "        'objective': ['binary:logistic', 'reg:logistic','binary:logitraw']\n",
        "        }\n",
        "\n",
        "classifier = XGBClassifier()\n",
        "\n",
        "# params = {\n",
        "#     'hidden_layer_sizes': [(50,50), (12,12), (25,), (50,)],\n",
        "#     'activation': ['tanh', 'relu', 'logistic'],\n",
        "#     'solver': ['sgd', 'adam', 'lbfgs'],\n",
        "#     'alpha': [0.0001, 0.0003, 0.001, 0.003, 0.01, 0.03],\n",
        "#     'learning_rate': ['constant','adaptive', 'invscaling'],\n",
        "# }\n",
        "\n",
        "# classifier = MLPClassifier()\n",
        "\n",
        "# params = {\n",
        "#     'penalty': ['l1', 'l2'],\n",
        "#     'solver': ['sag', 'saga', 'lbfgs', 'newton-cg'],\n",
        "#     'warm_start': [True],\n",
        "#     'max_iter': [300,500, 700, 1000],\n",
        "#     'class_weight': ['balanced', None],\n",
        "#     'random_state': [133]\n",
        "# }\n",
        "\n",
        "# classifier = LogisticRegression()\n",
        "\n",
        "# params = {\n",
        "#     'penalty': ['l1', 'l2'],\n",
        "#     'loss': ['hinge', 'squared-hinge'],\n",
        "#     'C': [1, 0.3,0.1, 0.03, 0.01],\n",
        "#     'max_iter': [1000, 3000, 5000, 7000],\n",
        "#     'class_weight': ['balanced', None],\n",
        "#     'random_state': [133]\n",
        "# }\n",
        "\n",
        "# classifier = LinearSVC()\n",
        "\n",
        "# params = {\n",
        "#     'penalty': ['l1', 'l2'],\n",
        "#     'loss': ['hinge', 'log', 'modified_huber', 'squared_hinge', 'perceptron'],\n",
        "#     'alpha': [0.03, 0.01, 0.003, 0.001, 0.0003, 0.0001],\n",
        "#     'max_iter': [1000, 3000, 5000, 7000],\n",
        "#     'learning_rate': ['constant', 'optimal', 'invscaling'],\n",
        "#     'eta0': [0.01, 0.1, 0.03, 0.3],\n",
        "#     'random_state': [133]\n",
        "# }\n",
        "\n",
        "# classifier = SGDClassifier()\n",
        "\n",
        "# params = {\n",
        "#     'criterion': ['gini', 'entropy'],\n",
        "#     'splitter': ['best', 'random'],\n",
        "#     'max_features': ['auto', 'sqrt', 'log2'],\n",
        "#     'random_state': [133]\n",
        "# }\n",
        "\n",
        "# classifier = DecisionTreeClassifier()\n",
        "\n",
        "random_search_f1 = RandomizedSearchCV(classifier, param_distributions=params, n_iter=600, scoring='f1_weighted', cv=5, verbose=3, n_jobs=-1)\n",
        "\n",
        "random_search_f1.fit(features, target)\n",
        "\n",
        "random_search_f1.best_estimator_\n",
        "\n",
        "print('\\n Best estimator:')\n",
        "print(random_search_f1.best_estimator_)\n",
        "print('\\n Best normalized gini score:')\n",
        "print(random_search_f1.best_score_ * 2 - 1)\n",
        "print('\\n Best hyperparameters:')\n",
        "print(random_search_f1.best_params_)"
      ],
      "execution_count": null,
      "outputs": []
    },
    {
      "cell_type": "markdown",
      "metadata": {
        "id": "yGmYrdXgCScq"
      },
      "source": [
        "O melhor modelo encontrado foi um classificador XGBoost, da forma:\r\n",
        "\r\n",
        "```\r\n",
        "XGBClassifier(objective='binary:logistic', n_estimators=1100, min_child_weight=40, max_depth=10, learning_rate=0.2, gamma=7.5, colsample_bytree=1.0)\r\n",
        "```\r\n",
        "\r\n",
        "utilizado mais à frente para treinamento e predição. A célula acima foi rodada em um notebook diferente, e não será rodada neste pois é um processo demorado."
      ]
    },
    {
      "cell_type": "markdown",
      "metadata": {
        "id": "oXSCQU5SBu6x"
      },
      "source": [
        "### Dividindo nosso conjunto de dados em conjuntos de treinamento e teste\r\n",
        "\r\n",
        "Então, é necessário dividir o conjunto de dados em conjunto de treinamento e conjunto de teste:"
      ]
    },
    {
      "cell_type": "code",
      "metadata": {
        "id": "55DzyvgUBu6y"
      },
      "source": [
        "from sklearn.model_selection import train_test_split\n",
        "from imblearn.over_sampling import SMOTE\n",
        "\n",
        "features_np = features.to_numpy()\n",
        "target_np = target.to_numpy()\n",
        "X_train, X_test, y_train, y_test = train_test_split(features_np, target_np.ravel(), test_size=0.25, random_state=133)\n",
        "\n",
        "# Smote\n",
        "smote = SMOTE(n_jobs=2, random_state=342)\n",
        "X_train, y_train = smote.fit_resample(X_train, y_train)\n"
      ],
      "execution_count": null,
      "outputs": []
    },
    {
      "cell_type": "markdown",
      "metadata": {
        "id": "IESvvt1cEVWq"
      },
      "source": [
        "Devido ao desbalanceamento do conjunto de dados, foi utilizada a função de balanceamento *SMOTE*, que utiliza técnicas de *over-sampling*. Foram testadas funções de *Tomek Links* e *SMOTE* + *Tomek*, mas o melhor resultado foi obtido por esta forma utilizada."
      ]
    },
    {
      "cell_type": "markdown",
      "metadata": {
        "id": "BCBgW33LBu6y"
      },
      "source": [
        "### Treinando um modelo de predição\r\n",
        "\r\n",
        "Com o modelo definido, inicia-se o treinamento com os dataset ``X_train`` e ``y_train``."
      ]
    },
    {
      "cell_type": "code",
      "metadata": {
        "id": "rdIloDbwBu6y"
      },
      "source": [
        "xgb_model = XGBClassifier(objective='binary:logistic', n_estimators=1100,\n",
        "                           min_child_weight=40, max_depth=10, learning_rate=0.2, gamma=7.5, colsample_bytree=1.0\n",
        "                           ).fit(X_train, y_train)"
      ],
      "execution_count": null,
      "outputs": []
    },
    {
      "cell_type": "markdown",
      "metadata": {
        "id": "gTdmqWTHBu6y"
      },
      "source": [
        "### Fazendo previsões na amostra de teste\r\n",
        "\r\n",
        "Em seguida, é realizada a predição do y utilizando as variáveis ``X_test``."
      ]
    },
    {
      "cell_type": "code",
      "metadata": {
        "id": "srgev-82Bu6y",
        "colab": {
          "base_uri": "https://localhost:8080/"
        },
        "outputId": "7c0832fd-b1c8-4b8e-de2b-cbaf60bff042"
      },
      "source": [
        "y_pred = xgb_model.predict(X_test)\n",
        "print(y_pred)"
      ],
      "execution_count": null,
      "outputs": [
        {
          "output_type": "stream",
          "text": [
            "['REABASTECER' 'REABASTECER' 'REABASTECER' ... 'NORMAL' 'REABASTECER'\n",
            " 'NORMAL']\n"
          ],
          "name": "stdout"
        }
      ]
    },
    {
      "cell_type": "markdown",
      "metadata": {
        "id": "JDVHaTiLBu6z"
      },
      "source": [
        "### Analisando a qualidade do modelo através da matriz de confusão\r\n",
        "\r\n",
        "A função abaixo é escrita para a plotagem da matriz de confusão:"
      ]
    },
    {
      "cell_type": "code",
      "metadata": {
        "id": "bLxugrkUBu6z"
      },
      "source": [
        "import itertools\n",
        "\n",
        "def plot_confusion_matrix(cm, target_names, title='Confusion matrix', cmap=None, normalize=True):\n",
        "    accuracy = np.trace(cm) / float(np.sum(cm))\n",
        "    misclass = 1 - accuracy\n",
        "    if cmap is None:\n",
        "        cmap = plt.get_cmap('Blues')\n",
        "    plt.figure(figsize=(8, 6))\n",
        "    plt.imshow(cm, interpolation='nearest', cmap=cmap)\n",
        "    plt.title(title)\n",
        "    plt.colorbar()\n",
        "    if target_names is not None:\n",
        "        tick_marks = np.arange(len(target_names))\n",
        "        plt.xticks(tick_marks, target_names, rotation=45)\n",
        "        plt.yticks(tick_marks, target_names)\n",
        "    if normalize:\n",
        "        cm = cm.astype('float') / cm.sum(axis=1)[:, np.newaxis]\n",
        "    thresh = cm.max() / 1.5 if normalize else cm.max() / 2\n",
        "    for i, j in itertools.product(range(cm.shape[0]), range(cm.shape[1])):\n",
        "        if normalize:\n",
        "            plt.text(j, i, \"{:0.2f}\".format(cm[i, j]),\n",
        "                     horizontalalignment=\"center\",\n",
        "                     color=\"white\" if cm[i, j] > thresh else \"black\")\n",
        "        else:\n",
        "            plt.text(j, i, \"{:,}\".format(cm[i, j]),\n",
        "                     horizontalalignment=\"center\",\n",
        "                     color=\"white\" if cm[i, j] > thresh else \"black\")\n",
        "    plt.tight_layout()\n",
        "    plt.ylabel('True label')\n",
        "    plt.xlabel('Predicted label\\naccuracy={:0.4f}; misclass={:0.4f}'.format(accuracy, misclass))\n",
        "    plt.show()"
      ],
      "execution_count": null,
      "outputs": []
    },
    {
      "cell_type": "markdown",
      "metadata": {
        "id": "vwl1aWhbJaNk"
      },
      "source": [
        "Comparando os vetores ``y_test`` e ``y_pred``, obtêm-se a matriz de confusão e o relatório de classificação seguintes:"
      ]
    },
    {
      "cell_type": "code",
      "metadata": {
        "id": "FNAwyIZNBu6z",
        "colab": {
          "base_uri": "https://localhost:8080/",
          "height": 618
        },
        "outputId": "48106656-129f-417b-f964-c9022a2f916c"
      },
      "source": [
        "from sklearn.metrics import confusion_matrix\n",
        "from sklearn.metrics import classification_report\n",
        "\n",
        "plot_confusion_matrix(confusion_matrix(y_test, y_pred), ['NORMAL', 'REABASTECER'])\n",
        "print(classification_report(y_test, y_pred))"
      ],
      "execution_count": null,
      "outputs": [
        {
          "output_type": "display_data",
          "data": {
            "image/png": "[encoded data removed]",
            "text/plain": [
              "<Figure size 576x432 with 2 Axes>"
            ]
          },
          "metadata": {
            "tags": [],
            "needs_background": "light"
          }
        },
        {
          "output_type": "stream",
          "text": [
            "              precision    recall  f1-score   support\n",
            "\n",
            "      NORMAL       1.00      0.70      0.82      2892\n",
            " REABASTECER       0.61      0.99      0.75      1362\n",
            "\n",
            "    accuracy                           0.79      4254\n",
            "   macro avg       0.80      0.84      0.79      4254\n",
            "weighted avg       0.87      0.79      0.80      4254\n",
            "\n"
          ],
          "name": "stdout"
        }
      ]
    },
    {
      "cell_type": "markdown",
      "metadata": {
        "id": "ugctmYbdJ7bW"
      },
      "source": [
        "Pela matriz de confusão, é possível visualizar que 30% dos dados que deveriam ser atribuídos ao valor-alvo ``NORMAL`` foram atribuídos ao valor ``REABASTECER``. De maneira mais simples, isto quer dizer que o modelo acertou praticamente todos os valores reais ``REABASTECER``, mas ele também englobou erroneamente nesta categoria alguns dados que pertenciam à categoria ``NORMAL``.\r\n",
        "\r\n",
        "Porém, no geral, os *F1-Score* tiveram valores satisfatórios (82 e 75%) assim como a acurácia de 79%.\r\n",
        "\r\n",
        "Abaixo é disponibilizada uma tabela com a importância de cada *feature* do modelo de predição treinado, demonstrando a influência proporcionada pela coluna ``SINGLE_QUANT`` no modelo."
      ]
    },
    {
      "cell_type": "code",
      "metadata": {
        "id": "ZTnC8RlSBu60",
        "colab": {
          "base_uri": "https://localhost:8080/",
          "height": 314
        },
        "outputId": "7af23f06-74ad-4f74-bc3d-2b4f5e197a39"
      },
      "source": [
        "feature_importance = xgb_model.feature_importances_\n",
        "\n",
        "feats = pd.DataFrame(data=feature_importance, index=features.columns)\n",
        "feats.sort_values(by=0)"
      ],
      "execution_count": 97,
      "outputs": [
        {
          "output_type": "execute_result",
          "data": {
            "text/html": [
              "<div>\n",
              "<style scoped>\n",
              "    .dataframe tbody tr th:only-of-type {\n",
              "        vertical-align: middle;\n",
              "    }\n",
              "\n",
              "    .dataframe tbody tr th {\n",
              "        vertical-align: top;\n",
              "    }\n",
              "\n",
              "    .dataframe thead th {\n",
              "        text-align: right;\n",
              "    }\n",
              "</style>\n",
              "<table border=\"1\" class=\"dataframe\">\n",
              "  <thead>\n",
              "    <tr style=\"text-align: right;\">\n",
              "      <th></th>\n",
              "      <th>0</th>\n",
              "    </tr>\n",
              "  </thead>\n",
              "  <tbody>\n",
              "    <tr>\n",
              "      <th>Zero</th>\n",
              "      <td>0.034044</td>\n",
              "    </tr>\n",
              "    <tr>\n",
              "      <th>Original_269</th>\n",
              "      <td>0.036710</td>\n",
              "    </tr>\n",
              "    <tr>\n",
              "      <th>Pêssego</th>\n",
              "      <td>0.039524</td>\n",
              "    </tr>\n",
              "    <tr>\n",
              "      <th>Açaí-Guaraná</th>\n",
              "      <td>0.040222</td>\n",
              "    </tr>\n",
              "    <tr>\n",
              "      <th>Tangerina</th>\n",
              "      <td>0.067952</td>\n",
              "    </tr>\n",
              "    <tr>\n",
              "      <th>Maçã-Verde</th>\n",
              "      <td>0.082872</td>\n",
              "    </tr>\n",
              "    <tr>\n",
              "      <th>Citrus</th>\n",
              "      <td>0.087147</td>\n",
              "    </tr>\n",
              "    <tr>\n",
              "      <th>Original_473</th>\n",
              "      <td>0.109893</td>\n",
              "    </tr>\n",
              "    <tr>\n",
              "      <th>SINGLE_QUANT</th>\n",
              "      <td>0.501636</td>\n",
              "    </tr>\n",
              "  </tbody>\n",
              "</table>\n",
              "</div>"
            ],
            "text/plain": [
              "                     0\n",
              "Zero          0.034044\n",
              "Original_269  0.036710\n",
              "Pêssego       0.039524\n",
              "Açaí-Guaraná  0.040222\n",
              "Tangerina     0.067952\n",
              "Maçã-Verde    0.082872\n",
              "Citrus        0.087147\n",
              "Original_473  0.109893\n",
              "SINGLE_QUANT  0.501636"
            ]
          },
          "metadata": {
            "tags": []
          },
          "execution_count": 97
        }
      ]
    },
    {
      "cell_type": "markdown",
      "metadata": {
        "id": "fLvoHRWoBu61"
      },
      "source": [
        "<hr>"
      ]
    },
    {
      "cell_type": "markdown",
      "metadata": {
        "id": "HFePu_E_Bu61"
      },
      "source": [
        "## Scoring dos dados necessários para entregar a solução"
      ]
    },
    {
      "cell_type": "markdown",
      "metadata": {
        "id": "ufjx7XC_Bu61"
      },
      "source": [
        "Como entrega da solução, espera-se os resultados classificados no seguinte dataset, chamado \"to_be_scored.csv\":"
      ]
    },
    {
      "cell_type": "markdown",
      "metadata": {
        "id": "VhWbYbu5Bu62"
      },
      "source": [
        "### Download da \"folha de respostas\""
      ]
    },
    {
      "cell_type": "code",
      "metadata": {
        "id": "MvWEJiqhBu62",
        "colab": {
          "base_uri": "https://localhost:8080/",
          "height": 380
        },
        "outputId": "7784eac2-3739-4c6e-addb-ba6e99247c5a"
      },
      "source": [
        "!wget --no-check-certificate --content-disposition https://gitlab.com/JoaoPedroPP/datasets/-/raw/master/ntn/to_be_scored.csv\n",
        "df_to_be_scored = pd.read_csv('to_be_scored.csv')\n",
        "df_to_be_scored.tail()"
      ],
      "execution_count": null,
      "outputs": [
        {
          "output_type": "stream",
          "text": [
            "--2021-03-05 18:52:58--  https://gitlab.com/JoaoPedroPP/datasets/-/raw/master/ntn/to_be_scored.csv\n",
            "Resolving gitlab.com (gitlab.com)... 172.65.251.78, 2606:4700:90:0:f22e:fbec:5bed:a9b9\n",
            "Connecting to gitlab.com (gitlab.com)|172.65.251.78|:443... connected.\n",
            "HTTP request sent, awaiting response... 200 OK\n",
            "Length: unspecified [text/plain]\n",
            "Saving to: ‘to_be_scored.csv’\n",
            "\n",
            "to_be_scored.csv        [ <=>                ]  68.64K  --.-KB/s    in 0.008s  \n",
            "\n",
            "2021-03-05 18:52:58 (8.32 MB/s) - ‘to_be_scored.csv’ saved [70291]\n",
            "\n"
          ],
          "name": "stdout"
        },
        {
          "output_type": "execute_result",
          "data": {
            "text/html": [
              "<div>\n",
              "<style scoped>\n",
              "    .dataframe tbody tr th:only-of-type {\n",
              "        vertical-align: middle;\n",
              "    }\n",
              "\n",
              "    .dataframe tbody tr th {\n",
              "        vertical-align: top;\n",
              "    }\n",
              "\n",
              "    .dataframe thead th {\n",
              "        text-align: right;\n",
              "    }\n",
              "</style>\n",
              "<table border=\"1\" class=\"dataframe\">\n",
              "  <thead>\n",
              "    <tr style=\"text-align: right;\">\n",
              "      <th></th>\n",
              "      <th>Tempo</th>\n",
              "      <th>Estação</th>\n",
              "      <th>LAT</th>\n",
              "      <th>LONG</th>\n",
              "      <th>Movimentação</th>\n",
              "      <th>Original_473</th>\n",
              "      <th>Original_269</th>\n",
              "      <th>Zero</th>\n",
              "      <th>Maçã-Verde</th>\n",
              "      <th>Tangerina</th>\n",
              "      <th>Citrus</th>\n",
              "      <th>Açaí-Guaraná</th>\n",
              "      <th>Pêssego</th>\n",
              "    </tr>\n",
              "  </thead>\n",
              "  <tbody>\n",
              "    <tr>\n",
              "      <th>979</th>\n",
              "      <td>2019-8-19</td>\n",
              "      <td>Hospital São Paulo</td>\n",
              "      <td>-23.5984</td>\n",
              "      <td>-46.6455</td>\n",
              "      <td>26787</td>\n",
              "      <td>34</td>\n",
              "      <td>65</td>\n",
              "      <td>28</td>\n",
              "      <td>17</td>\n",
              "      <td>33</td>\n",
              "      <td>27</td>\n",
              "      <td>6</td>\n",
              "      <td>2</td>\n",
              "    </tr>\n",
              "    <tr>\n",
              "      <th>980</th>\n",
              "      <td>2019-8-20</td>\n",
              "      <td>Hospital São Paulo</td>\n",
              "      <td>-23.5984</td>\n",
              "      <td>-46.6455</td>\n",
              "      <td>26629</td>\n",
              "      <td>21</td>\n",
              "      <td>60</td>\n",
              "      <td>18</td>\n",
              "      <td>15</td>\n",
              "      <td>27</td>\n",
              "      <td>22</td>\n",
              "      <td>43</td>\n",
              "      <td>43</td>\n",
              "    </tr>\n",
              "    <tr>\n",
              "      <th>981</th>\n",
              "      <td>2019-8-21</td>\n",
              "      <td>Hospital São Paulo</td>\n",
              "      <td>-23.5984</td>\n",
              "      <td>-46.6455</td>\n",
              "      <td>27517</td>\n",
              "      <td>9</td>\n",
              "      <td>56</td>\n",
              "      <td>13</td>\n",
              "      <td>14</td>\n",
              "      <td>21</td>\n",
              "      <td>17</td>\n",
              "      <td>37</td>\n",
              "      <td>37</td>\n",
              "    </tr>\n",
              "    <tr>\n",
              "      <th>982</th>\n",
              "      <td>2019-8-22</td>\n",
              "      <td>Hospital São Paulo</td>\n",
              "      <td>-23.5984</td>\n",
              "      <td>-46.6455</td>\n",
              "      <td>26860</td>\n",
              "      <td>86</td>\n",
              "      <td>49</td>\n",
              "      <td>7</td>\n",
              "      <td>14</td>\n",
              "      <td>17</td>\n",
              "      <td>12</td>\n",
              "      <td>33</td>\n",
              "      <td>33</td>\n",
              "    </tr>\n",
              "    <tr>\n",
              "      <th>983</th>\n",
              "      <td>2019-8-23</td>\n",
              "      <td>Hospital São Paulo</td>\n",
              "      <td>-23.5984</td>\n",
              "      <td>-46.6455</td>\n",
              "      <td>24571</td>\n",
              "      <td>74</td>\n",
              "      <td>41</td>\n",
              "      <td>65</td>\n",
              "      <td>8</td>\n",
              "      <td>14</td>\n",
              "      <td>7</td>\n",
              "      <td>27</td>\n",
              "      <td>27</td>\n",
              "    </tr>\n",
              "  </tbody>\n",
              "</table>\n",
              "</div>"
            ],
            "text/plain": [
              "         Tempo             Estação      LAT  ...  Citrus  Açaí-Guaraná  Pêssego\n",
              "979  2019-8-19  Hospital São Paulo -23.5984  ...      27             6        2\n",
              "980  2019-8-20  Hospital São Paulo -23.5984  ...      22            43       43\n",
              "981  2019-8-21  Hospital São Paulo -23.5984  ...      17            37       37\n",
              "982  2019-8-22  Hospital São Paulo -23.5984  ...      12            33       33\n",
              "983  2019-8-23  Hospital São Paulo -23.5984  ...       7            27       27\n",
              "\n",
              "[5 rows x 13 columns]"
            ]
          },
          "metadata": {
            "tags": []
          },
          "execution_count": 81
        }
      ]
    },
    {
      "cell_type": "markdown",
      "metadata": {
        "id": "x6x_wTuQBu63"
      },
      "source": [
        "O dataframe ``to_be_scored`` é a \"folha de respostas\". Note que a coluna \"TARGET\" não existe nessa amostra, que não pode ser então utilizada para treino de modelos de aprendizado supervisionado."
      ]
    },
    {
      "cell_type": "code",
      "metadata": {
        "scrolled": true,
        "id": "MG4AJz1UBu63",
        "outputId": "f2e7772c-9879-4708-a088-d1b0d08adc8c"
      },
      "source": [
        "df_to_be_scored.info()"
      ],
      "execution_count": null,
      "outputs": [
        {
          "output_type": "stream",
          "text": [
            "<class 'pandas.core.frame.DataFrame'>\n",
            "RangeIndex: 984 entries, 0 to 983\n",
            "Data columns (total 13 columns):\n",
            " #   Column        Non-Null Count  Dtype  \n",
            "---  ------        --------------  -----  \n",
            " 0   Tempo         984 non-null    object \n",
            " 1   Estação       984 non-null    object \n",
            " 2   LAT           984 non-null    float64\n",
            " 3   LONG          984 non-null    float64\n",
            " 4   Movimentação  984 non-null    int64  \n",
            " 5   Original_473  984 non-null    int64  \n",
            " 6   Original_269  984 non-null    int64  \n",
            " 7   Zero          984 non-null    int64  \n",
            " 8   Maçã-Verde    984 non-null    int64  \n",
            " 9   Tangerina     984 non-null    int64  \n",
            " 10  Citrus        984 non-null    int64  \n",
            " 11  Açaí-Guaraná  984 non-null    int64  \n",
            " 12  Pêssego       984 non-null    int64  \n",
            "dtypes: float64(2), int64(9), object(2)\n",
            "memory usage: 100.1+ KB\n"
          ],
          "name": "stdout"
        }
      ]
    },
    {
      "cell_type": "markdown",
      "metadata": {
        "id": "EHM-8IraBu63"
      },
      "source": [
        "\n",
        "Para poder aplicar o modelo e classificar a folha de respostas, é necessário primeiro aplicar as mesmas transformações com colunas que foram aplicadas no dataset de treino, exceto remover linhas da folha de respostas. Ao final, as 1000 entradas devem estar classificadas, com os valores previstos em uma coluna chamada ``TARGET``.\n"
      ]
    },
    {
      "cell_type": "markdown",
      "metadata": {
        "id": "aHFmJazLBu64"
      },
      "source": [
        "Na célula abaixo, repetimos rapidamente os mesmos passos de pré-processamento utilizados previamente no modelo de aprendizado de máquina XGBoost."
      ]
    },
    {
      "cell_type": "code",
      "metadata": {
        "id": "IffI_XyxBu64",
        "colab": {
          "base_uri": "https://localhost:8080/",
          "height": 195
        },
        "outputId": "77c9e936-e248-49db-a7ee-5d9f95bc9008"
      },
      "source": [
        "# 1 - Remoção de colunas\n",
        "df_to_be_scored_2 = df_to_be_scored.drop(columns=['Tempo', 'Estação', 'LAT', 'LONG', 'Movimentação'], inplace=False)\n",
        "\n",
        "# 2 - Quantidade de energéticos com menos de 10 unidades\n",
        "df_to_be_scored_3 = pd.DataFrame.from_records(sd.fit_transform(df_to_be_scored_2))\n",
        "\n",
        "df_to_be_scored_3.tail()"
      ],
      "execution_count": null,
      "outputs": [
        {
          "output_type": "execute_result",
          "data": {
            "text/html": [
              "<div>\n",
              "<style scoped>\n",
              "    .dataframe tbody tr th:only-of-type {\n",
              "        vertical-align: middle;\n",
              "    }\n",
              "\n",
              "    .dataframe tbody tr th {\n",
              "        vertical-align: top;\n",
              "    }\n",
              "\n",
              "    .dataframe thead th {\n",
              "        text-align: right;\n",
              "    }\n",
              "</style>\n",
              "<table border=\"1\" class=\"dataframe\">\n",
              "  <thead>\n",
              "    <tr style=\"text-align: right;\">\n",
              "      <th></th>\n",
              "      <th>Original_473</th>\n",
              "      <th>Original_269</th>\n",
              "      <th>Zero</th>\n",
              "      <th>Maçã-Verde</th>\n",
              "      <th>Tangerina</th>\n",
              "      <th>Citrus</th>\n",
              "      <th>Açaí-Guaraná</th>\n",
              "      <th>Pêssego</th>\n",
              "      <th>SINGLE_QUANT</th>\n",
              "    </tr>\n",
              "  </thead>\n",
              "  <tbody>\n",
              "    <tr>\n",
              "      <th>979</th>\n",
              "      <td>34</td>\n",
              "      <td>65</td>\n",
              "      <td>28</td>\n",
              "      <td>17</td>\n",
              "      <td>33</td>\n",
              "      <td>27</td>\n",
              "      <td>6</td>\n",
              "      <td>2</td>\n",
              "      <td>2</td>\n",
              "    </tr>\n",
              "    <tr>\n",
              "      <th>980</th>\n",
              "      <td>21</td>\n",
              "      <td>60</td>\n",
              "      <td>18</td>\n",
              "      <td>15</td>\n",
              "      <td>27</td>\n",
              "      <td>22</td>\n",
              "      <td>43</td>\n",
              "      <td>43</td>\n",
              "      <td>0</td>\n",
              "    </tr>\n",
              "    <tr>\n",
              "      <th>981</th>\n",
              "      <td>9</td>\n",
              "      <td>56</td>\n",
              "      <td>13</td>\n",
              "      <td>14</td>\n",
              "      <td>21</td>\n",
              "      <td>17</td>\n",
              "      <td>37</td>\n",
              "      <td>37</td>\n",
              "      <td>1</td>\n",
              "    </tr>\n",
              "    <tr>\n",
              "      <th>982</th>\n",
              "      <td>86</td>\n",
              "      <td>49</td>\n",
              "      <td>7</td>\n",
              "      <td>14</td>\n",
              "      <td>17</td>\n",
              "      <td>12</td>\n",
              "      <td>33</td>\n",
              "      <td>33</td>\n",
              "      <td>1</td>\n",
              "    </tr>\n",
              "    <tr>\n",
              "      <th>983</th>\n",
              "      <td>74</td>\n",
              "      <td>41</td>\n",
              "      <td>65</td>\n",
              "      <td>8</td>\n",
              "      <td>14</td>\n",
              "      <td>7</td>\n",
              "      <td>27</td>\n",
              "      <td>27</td>\n",
              "      <td>2</td>\n",
              "    </tr>\n",
              "  </tbody>\n",
              "</table>\n",
              "</div>"
            ],
            "text/plain": [
              "     Original_473  Original_269  Zero  ...  Açaí-Guaraná  Pêssego  SINGLE_QUANT\n",
              "979            34            65    28  ...             6        2             2\n",
              "980            21            60    18  ...            43       43             0\n",
              "981             9            56    13  ...            37       37             1\n",
              "982            86            49     7  ...            33       33             1\n",
              "983            74            41    65  ...            27       27             2\n",
              "\n",
              "[5 rows x 9 columns]"
            ]
          },
          "metadata": {
            "tags": []
          },
          "execution_count": 90
        }
      ]
    },
    {
      "cell_type": "markdown",
      "metadata": {
        "id": "Zb5S671VBu64"
      },
      "source": [
        "<hr>\n",
        "\n",
        "Pode ser verificado abaixo que as colunas da folha de resposta agora são idênticas às que foram usadas para treinar o modelo:"
      ]
    },
    {
      "cell_type": "code",
      "metadata": {
        "id": "lLbiEDDQBu65",
        "colab": {
          "base_uri": "https://localhost:8080/"
        },
        "outputId": "37e92aa8-66bf-440a-e82a-523ee5eb6032"
      },
      "source": [
        "features.columns"
      ],
      "execution_count": null,
      "outputs": [
        {
          "output_type": "execute_result",
          "data": {
            "text/plain": [
              "Index(['Original_473', 'Original_269', 'Zero', 'Maçã-Verde', 'Tangerina',\n",
              "       'Citrus', 'Açaí-Guaraná', 'Pêssego', 'SINGLE_QUANT'],\n",
              "      dtype='object')"
            ]
          },
          "metadata": {
            "tags": []
          },
          "execution_count": 88
        }
      ]
    },
    {
      "cell_type": "code",
      "metadata": {
        "id": "LdOg87aDBu65",
        "colab": {
          "base_uri": "https://localhost:8080/"
        },
        "outputId": "430c3c25-cf1e-43c1-ce61-6123df6450bf"
      },
      "source": [
        "df_to_be_scored_3.columns"
      ],
      "execution_count": null,
      "outputs": [
        {
          "output_type": "execute_result",
          "data": {
            "text/plain": [
              "Index(['Original_473', 'Original_269', 'Zero', 'Maçã-Verde', 'Tangerina',\n",
              "       'Citrus', 'Açaí-Guaraná', 'Pêssego', 'SINGLE_QUANT'],\n",
              "      dtype='object')"
            ]
          },
          "metadata": {
            "tags": []
          },
          "execution_count": 91
        }
      ]
    },
    {
      "cell_type": "markdown",
      "metadata": {
        "id": "RoFjbWeEQt4u"
      },
      "source": [
        "Realizando a predição do reabastecimento das máquinas de venda automática, obtêm-se o dataset final com a varíavel ``TARGET`` inclusa."
      ]
    },
    {
      "cell_type": "code",
      "metadata": {
        "scrolled": false,
        "id": "tq2dVCcOBu66",
        "colab": {
          "base_uri": "https://localhost:8080/",
          "height": 195
        },
        "outputId": "1db9c5a6-208c-4747-83c4-803489efdfb0"
      },
      "source": [
        "y_pred = xgb_model.predict(df_to_be_scored_3.to_numpy())\n",
        "df_to_be_scored_3['TARGET'] = y_pred\n",
        "df_to_be_scored_3.tail()"
      ],
      "execution_count": null,
      "outputs": [
        {
          "output_type": "execute_result",
          "data": {
            "text/html": [
              "<div>\n",
              "<style scoped>\n",
              "    .dataframe tbody tr th:only-of-type {\n",
              "        vertical-align: middle;\n",
              "    }\n",
              "\n",
              "    .dataframe tbody tr th {\n",
              "        vertical-align: top;\n",
              "    }\n",
              "\n",
              "    .dataframe thead th {\n",
              "        text-align: right;\n",
              "    }\n",
              "</style>\n",
              "<table border=\"1\" class=\"dataframe\">\n",
              "  <thead>\n",
              "    <tr style=\"text-align: right;\">\n",
              "      <th></th>\n",
              "      <th>Original_473</th>\n",
              "      <th>Original_269</th>\n",
              "      <th>Zero</th>\n",
              "      <th>Maçã-Verde</th>\n",
              "      <th>Tangerina</th>\n",
              "      <th>Citrus</th>\n",
              "      <th>Açaí-Guaraná</th>\n",
              "      <th>Pêssego</th>\n",
              "      <th>SINGLE_QUANT</th>\n",
              "      <th>TARGET</th>\n",
              "    </tr>\n",
              "  </thead>\n",
              "  <tbody>\n",
              "    <tr>\n",
              "      <th>979</th>\n",
              "      <td>34</td>\n",
              "      <td>65</td>\n",
              "      <td>28</td>\n",
              "      <td>17</td>\n",
              "      <td>33</td>\n",
              "      <td>27</td>\n",
              "      <td>6</td>\n",
              "      <td>2</td>\n",
              "      <td>2</td>\n",
              "      <td>REABASTECER</td>\n",
              "    </tr>\n",
              "    <tr>\n",
              "      <th>980</th>\n",
              "      <td>21</td>\n",
              "      <td>60</td>\n",
              "      <td>18</td>\n",
              "      <td>15</td>\n",
              "      <td>27</td>\n",
              "      <td>22</td>\n",
              "      <td>43</td>\n",
              "      <td>43</td>\n",
              "      <td>0</td>\n",
              "      <td>NORMAL</td>\n",
              "    </tr>\n",
              "    <tr>\n",
              "      <th>981</th>\n",
              "      <td>9</td>\n",
              "      <td>56</td>\n",
              "      <td>13</td>\n",
              "      <td>14</td>\n",
              "      <td>21</td>\n",
              "      <td>17</td>\n",
              "      <td>37</td>\n",
              "      <td>37</td>\n",
              "      <td>1</td>\n",
              "      <td>REABASTECER</td>\n",
              "    </tr>\n",
              "    <tr>\n",
              "      <th>982</th>\n",
              "      <td>86</td>\n",
              "      <td>49</td>\n",
              "      <td>7</td>\n",
              "      <td>14</td>\n",
              "      <td>17</td>\n",
              "      <td>12</td>\n",
              "      <td>33</td>\n",
              "      <td>33</td>\n",
              "      <td>1</td>\n",
              "      <td>REABASTECER</td>\n",
              "    </tr>\n",
              "    <tr>\n",
              "      <th>983</th>\n",
              "      <td>74</td>\n",
              "      <td>41</td>\n",
              "      <td>65</td>\n",
              "      <td>8</td>\n",
              "      <td>14</td>\n",
              "      <td>7</td>\n",
              "      <td>27</td>\n",
              "      <td>27</td>\n",
              "      <td>2</td>\n",
              "      <td>NORMAL</td>\n",
              "    </tr>\n",
              "  </tbody>\n",
              "</table>\n",
              "</div>"
            ],
            "text/plain": [
              "     Original_473  Original_269  Zero  ...  Pêssego  SINGLE_QUANT       TARGET\n",
              "979            34            65    28  ...        2             2  REABASTECER\n",
              "980            21            60    18  ...       43             0       NORMAL\n",
              "981             9            56    13  ...       37             1  REABASTECER\n",
              "982            86            49     7  ...       33             1  REABASTECER\n",
              "983            74            41    65  ...       27             2       NORMAL\n",
              "\n",
              "[5 rows x 10 columns]"
            ]
          },
          "metadata": {
            "tags": []
          },
          "execution_count": 93
        }
      ]
    },
    {
      "cell_type": "markdown",
      "metadata": {
        "id": "Yb31tMaNBu66"
      },
      "source": [
        "### Salvando a folha de respostas como um arquivo .csv para ser submetido"
      ]
    },
    {
      "cell_type": "code",
      "metadata": {
        "id": "VzgNDVSaBu66"
      },
      "source": [
        "df_to_be_scored_3.to_csv(\"results.csv\",index=False)"
      ],
      "execution_count": null,
      "outputs": []
    },
    {
      "cell_type": "markdown",
      "metadata": {
        "id": "h-GfKPI7Bu67"
      },
      "source": [
        "Pronto! Com uma solução satisfatória, é possível submeter a minha solução para o Desafio 7 da Maratona Behind The Code 2020."
      ]
    }
  ]
}
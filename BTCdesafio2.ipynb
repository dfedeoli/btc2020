{
  "nbformat": 4,
  "nbformat_minor": 0,
  "metadata": {
    "kernelspec": {
      "display_name": "Python 3",
      "language": "python",
      "name": "python3"
    },
    "language_info": {
      "codemirror_mode": {
        "name": "ipython",
        "version": 3
      },
      "file_extension": ".py",
      "mimetype": "text/x-python",
      "name": "python",
      "nbconvert_exporter": "python",
      "pygments_lexer": "ipython3",
      "version": "3.8.3"
    },
    "colab": {
      "name": "BTCdesafio2.ipynb",
      "provenance": [],
      "collapsed_sections": [],
      "include_colab_link": true
    }
  },
  "cells": [
    {
      "cell_type": "markdown",
      "metadata": {
        "id": "view-in-github",
        "colab_type": "text"
      },
      "source": [
        "<a href=\"https://colab.research.google.com/github/dfedeoli/btc2020/blob/main/BTCdesafio2.ipynb\" target=\"_parent\"><img src=\"https://colab.research.google.com/assets/colab-badge.svg\" alt=\"Open In Colab\"/></a>"
      ]
    },
    {
      "cell_type": "markdown",
      "metadata": {
        "collapsed": true,
        "id": "1C2OvLm0-l9D"
      },
      "source": [
        "# MARATONA BEHIND THE CODE 2020\n",
        "\n",
        "## DESAFIO 2: UNINASSAU"
      ]
    },
    {
      "cell_type": "markdown",
      "metadata": {
        "id": "zIUDXhoNQYDI"
      },
      "source": [
        "O ensino a distância (EaD) proporciona diversas novas possibilidades. Atualmente centenas de estudantes têm acesso aos mesmos conteúdos, participam das mesmas aulas e têm os mesmos professores, tudo de forma remota. Uma das grandes vantagens do EaD é a flexibilidade para que estudantes de todo o país possam trabalhar e estudar ao mesmo tempo. Entretanto, a boa e velha interação interpessoal nem sempre é possível, seja por baixa oferta de horários disponíveis para professores e tutores, ou choques de horários com trabalho e outras obrigações dos estudantes.\r\n",
        "\r\n",
        "Atualmente é possível a realização de uma tutoria remota automática com o auxílio de assistentes virtuais. Esses assistentes podem ser integrados com modelos avançados de aprendizado de máquina, que são alimentados com dados sobre o estudante e seu desempenho nas diferentes disciplinas de seu curso. Esses modelos, por sua vez, podem ser capazes de identificar áreas ou competências específicas em que o estudante tenha certa dificuldade e recomendar conteúdo personalizado para cada aluno, de forma completamente escalável e com atendimento *24/7*.\r\n",
        "\r\n",
        "Neste desafio, o participante deve utilizar ferramentas para construir um modelo baseado em *machine learning* com um conjunto de dados de alunos da UNINASSAU, capaz de ser integrado com uma solução de assistente virtual voltada para a tutoria remota.\r\n",
        "\r\n",
        "Proposição completa do Desafio: https://github.com/maratonadev-br/desafio-2-2020."
      ]
    },
    {
      "cell_type": "markdown",
      "metadata": {
        "id": "suaBfrGh-ywB"
      },
      "source": [
        "## Preparação do *notebook*, obtenção e visualização dos dados"
      ]
    },
    {
      "cell_type": "markdown",
      "metadata": {
        "id": "n964kxNi-l9F"
      },
      "source": [
        "### Instalando bibliotecas"
      ]
    },
    {
      "cell_type": "code",
      "metadata": {
        "id": "Im6f0mEt-l9H"
      },
      "source": [
        "# import warnings filter\n",
        "from warnings import simplefilter\n",
        "# ignore all future warnings\n",
        "simplefilter(action='ignore', category=FutureWarning)\n",
        "\n",
        "# Em seguida iremos importar diversas bibliotecas que serão utilizadas:\n",
        "\n",
        "# Pacote para exploração e análise de dados\n",
        "import pandas as pd\n",
        "\n",
        "# Pacote com métodos numéricos e representações matriciais\n",
        "import numpy as np\n",
        "\n",
        "# Pacote para construção de modelo baseado na técnica Gradient Boosting\n",
        "import xgboost as xgb\n",
        "\n",
        "# Pacotes do scikit-learn para pré-processamento de dados\n",
        "# \"SimpleImputer\" é uma transformação para preencher valores faltantes em conjuntos de dados\n",
        "from sklearn.impute import SimpleImputer\n",
        "\n",
        "# Pacotes do scikit-learn para treinamento de modelos\n",
        "# Método para separação de conjunto de dados em amostras de treino e teste\n",
        "from sklearn.model_selection import train_test_split\n",
        "# Métodos para criação de modelos baseados em árvores de decisão e redes neurais\n",
        "from sklearn.tree import DecisionTreeClassifier\n",
        "from sklearn.neural_network import MLPClassifier\n",
        "\n",
        "# Pacotes do scikit-learn para avaliação de modelos\n",
        "from sklearn.metrics import classification_report\n",
        "\n",
        "#Pacotes para balanceamento de datasets\n",
        "from imblearn.over_sampling import SMOTE"
      ],
      "execution_count": 1,
      "outputs": []
    },
    {
      "cell_type": "markdown",
      "metadata": {
        "id": "ykgP4357-l9I"
      },
      "source": [
        "### Download dos conjuntos de dados em formato .csv"
      ]
    },
    {
      "cell_type": "code",
      "metadata": {
        "id": "NVBXtSZi-l9I",
        "colab": {
          "base_uri": "https://localhost:8080/",
          "height": 518
        },
        "outputId": "ba85be0b-6dcb-4629-c1c6-a792980e7fd1"
      },
      "source": [
        "!wget --no-check-certificate --content-disposition https://raw.githubusercontent.com/maratonadev-br/desafio-2-2020/master/Assets/Data/dataset_desafio_2.csv\n",
        "df_training_dataset = pd.read_csv(r'dataset_desafio_2.csv')\n",
        "df_training_dataset.tail()"
      ],
      "execution_count": 2,
      "outputs": [
        {
          "output_type": "stream",
          "text": [
            "--2021-03-08 19:08:25--  https://raw.githubusercontent.com/maratonadev-br/desafio-2-2020/master/Assets/Data/dataset_desafio_2.csv\n",
            "Resolving raw.githubusercontent.com (raw.githubusercontent.com)... 185.199.108.133, 185.199.109.133, 185.199.111.133, ...\n",
            "Connecting to raw.githubusercontent.com (raw.githubusercontent.com)|185.199.108.133|:443... connected.\n",
            "HTTP request sent, awaiting response... 200 OK\n",
            "Length: 1500234 (1.4M) [text/plain]\n",
            "Saving to: ‘dataset_desafio_2.csv’\n",
            "\n",
            "dataset_desafio_2.c 100%[===================>]   1.43M  --.-KB/s    in 0.1s    \n",
            "\n",
            "2021-03-08 19:08:26 (10.9 MB/s) - ‘dataset_desafio_2.csv’ saved [1500234/1500234]\n",
            "\n"
          ],
          "name": "stdout"
        },
        {
          "output_type": "execute_result",
          "data": {
            "text/html": [
              "<div>\n",
              "<style scoped>\n",
              "    .dataframe tbody tr th:only-of-type {\n",
              "        vertical-align: middle;\n",
              "    }\n",
              "\n",
              "    .dataframe tbody tr th {\n",
              "        vertical-align: top;\n",
              "    }\n",
              "\n",
              "    .dataframe thead th {\n",
              "        text-align: right;\n",
              "    }\n",
              "</style>\n",
              "<table border=\"1\" class=\"dataframe\">\n",
              "  <thead>\n",
              "    <tr style=\"text-align: right;\">\n",
              "      <th></th>\n",
              "      <th>MATRICULA</th>\n",
              "      <th>NOME</th>\n",
              "      <th>REPROVACOES_DE</th>\n",
              "      <th>REPROVACOES_EM</th>\n",
              "      <th>REPROVACOES_MF</th>\n",
              "      <th>REPROVACOES_GO</th>\n",
              "      <th>NOTA_DE</th>\n",
              "      <th>NOTA_EM</th>\n",
              "      <th>NOTA_MF</th>\n",
              "      <th>NOTA_GO</th>\n",
              "      <th>INGLES</th>\n",
              "      <th>H_AULA_PRES</th>\n",
              "      <th>TAREFAS_ONLINE</th>\n",
              "      <th>FALTAS</th>\n",
              "      <th>PERFIL</th>\n",
              "    </tr>\n",
              "  </thead>\n",
              "  <tbody>\n",
              "    <tr>\n",
              "      <th>19995</th>\n",
              "      <td>856673</td>\n",
              "      <td>Laércio Mário da Silva</td>\n",
              "      <td>0</td>\n",
              "      <td>0</td>\n",
              "      <td>0</td>\n",
              "      <td>0</td>\n",
              "      <td>7.0</td>\n",
              "      <td>7.9</td>\n",
              "      <td>5.8</td>\n",
              "      <td>7.0</td>\n",
              "      <td>1.0</td>\n",
              "      <td>9</td>\n",
              "      <td>5</td>\n",
              "      <td>6</td>\n",
              "      <td>EXATAS</td>\n",
              "    </tr>\n",
              "    <tr>\n",
              "      <th>19996</th>\n",
              "      <td>576100</td>\n",
              "      <td>Cibele Quésia Poza</td>\n",
              "      <td>1</td>\n",
              "      <td>1</td>\n",
              "      <td>1</td>\n",
              "      <td>1</td>\n",
              "      <td>0.0</td>\n",
              "      <td>0.0</td>\n",
              "      <td>0.0</td>\n",
              "      <td>NaN</td>\n",
              "      <td>1.0</td>\n",
              "      <td>3</td>\n",
              "      <td>2</td>\n",
              "      <td>5</td>\n",
              "      <td>DIFICULDADE</td>\n",
              "    </tr>\n",
              "    <tr>\n",
              "      <th>19997</th>\n",
              "      <td>888739</td>\n",
              "      <td>Marcielle Chale Bape</td>\n",
              "      <td>0</td>\n",
              "      <td>0</td>\n",
              "      <td>0</td>\n",
              "      <td>0</td>\n",
              "      <td>7.9</td>\n",
              "      <td>7.6</td>\n",
              "      <td>8.3</td>\n",
              "      <td>7.2</td>\n",
              "      <td>NaN</td>\n",
              "      <td>8</td>\n",
              "      <td>3</td>\n",
              "      <td>1</td>\n",
              "      <td>EXCELENTE</td>\n",
              "    </tr>\n",
              "    <tr>\n",
              "      <th>19998</th>\n",
              "      <td>722743</td>\n",
              "      <td>Suzanne Mirian Mourão</td>\n",
              "      <td>0</td>\n",
              "      <td>0</td>\n",
              "      <td>1</td>\n",
              "      <td>1</td>\n",
              "      <td>6.3</td>\n",
              "      <td>5.1</td>\n",
              "      <td>0.0</td>\n",
              "      <td>0.0</td>\n",
              "      <td>1.0</td>\n",
              "      <td>3</td>\n",
              "      <td>2</td>\n",
              "      <td>6</td>\n",
              "      <td>DIFICULDADE</td>\n",
              "    </tr>\n",
              "    <tr>\n",
              "      <th>19999</th>\n",
              "      <td>417268</td>\n",
              "      <td>Maria Isaiane da Silva Luwequisman</td>\n",
              "      <td>0</td>\n",
              "      <td>0</td>\n",
              "      <td>1</td>\n",
              "      <td>1</td>\n",
              "      <td>7.0</td>\n",
              "      <td>7.3</td>\n",
              "      <td>0.0</td>\n",
              "      <td>0.0</td>\n",
              "      <td>NaN</td>\n",
              "      <td>3</td>\n",
              "      <td>0</td>\n",
              "      <td>6</td>\n",
              "      <td>DIFICULDADE</td>\n",
              "    </tr>\n",
              "  </tbody>\n",
              "</table>\n",
              "</div>"
            ],
            "text/plain": [
              "       MATRICULA                                NOME  ...  FALTAS       PERFIL\n",
              "19995     856673              Laércio Mário da Silva  ...       6       EXATAS\n",
              "19996     576100                  Cibele Quésia Poza  ...       5  DIFICULDADE\n",
              "19997     888739                Marcielle Chale Bape  ...       1    EXCELENTE\n",
              "19998     722743               Suzanne Mirian Mourão  ...       6  DIFICULDADE\n",
              "19999     417268  Maria Isaiane da Silva Luwequisman  ...       6  DIFICULDADE\n",
              "\n",
              "[5 rows x 15 columns]"
            ]
          },
          "metadata": {
            "tags": []
          },
          "execution_count": 2
        }
      ]
    },
    {
      "cell_type": "markdown",
      "metadata": {
        "id": "iQvExan--l9I"
      },
      "source": [
        "Temos 15 colunas presentes no *dataset* fornecido, sendo dezessete delas variáveis-características (dados de entrada) e um delas uma variável-alvo (que queremos que o nosso modelo seja capaz de prever). \n",
        "\n",
        "As variáveis-características são:\n",
        "\n",
        "    MATRICULA       - número de matrícula do estudante\n",
        "    NOME            - nome completo do estudante\n",
        "    REPROVACOES_DE  - número de reprovações na disciplina de ``Direito Empresarial``\n",
        "    REPROVACOES_EM  - número de reprovações na disciplina de ``Empreendedorismo``\n",
        "    REPROVACOES_MF  - número de reprovações na disciplina de ``Matemática Financeira``\n",
        "    REPROVACOES_GO  - número de reprovações na disciplina de ``Gestão Operacional``\n",
        "    NOTA_DE         - média simples das notas do aluno na disciplina de ``Direito Empresarial`` (0-10)\n",
        "    NOTA_EM         - média simples das notas do aluno na disciplina de ``Empreendedorismo`` (0-10)\n",
        "    NOTA_MF         - média simples das notas do aluno na disciplina de ``Matemática Financeira`` (0-10)\n",
        "    NOTA_GO         - média simples das notas do aluno na disciplina de ``Gestão Operacional`` (0-10)\n",
        "    INGLES          - variável binária que indica se o estudante tem conhecimento em língua inglesa (0 -> sim ou 1 -> não).\n",
        "    H_AULA_PRES     - horas de estudo presencial realizadas pelo estudante\n",
        "    TAREFAS_ONLINE  - número de tarefas online entregues pelo estudante\n",
        "    FALTAS          - número de faltas acumuladas do estudante (todas disciplinas)\n",
        "    \n",
        "A variável-alvo é:\n",
        "\n",
        "    PERFIL               - uma *string* que indica uma de cinco possibilidades: \n",
        "        \"EXCELENTE\"      - Estudante não necessita de mentoria\n",
        "        \"MUITO BOM\"      - Estudante não necessita de mentoria\n",
        "        \"HUMANAS\"        - Estudante necessita de mentoria exclusivamente em matérias com conteúdo de ciências humanas\n",
        "        \"EXATAS\"         - Estudante necessita de mentoria apenas em disciplinas com conteúdo de ciências exatas\n",
        "        \"DIFICULDADE\"    - Estudante necessita de mentoria em duas ou mais disciplinas\n",
        "        \n",
        "Com um modelo capaz de classificar um estudante em uma dessas categorias, podemos automatizar parte da mentoria estudantil através de assistentes virtuais, que serão capazes de recomendar práticas de estudo e conteúdo personalizado com base nas necessidades de cada aluno."
      ]
    },
    {
      "cell_type": "markdown",
      "metadata": {
        "id": "0UERSSsb-l9K"
      },
      "source": [
        "### Explorando os dados fornecidos\n",
        "\n",
        "Podemos continuar a exploração dos dados fornecidos com a função ``info()``:"
      ]
    },
    {
      "cell_type": "code",
      "metadata": {
        "id": "-T5gjOMC-l9K",
        "colab": {
          "base_uri": "https://localhost:8080/"
        },
        "outputId": "84b38e65-4200-4335-9397-4dd5c2766985"
      },
      "source": [
        "df_training_dataset.info()"
      ],
      "execution_count": 3,
      "outputs": [
        {
          "output_type": "stream",
          "text": [
            "<class 'pandas.core.frame.DataFrame'>\n",
            "RangeIndex: 20000 entries, 0 to 19999\n",
            "Data columns (total 15 columns):\n",
            " #   Column          Non-Null Count  Dtype  \n",
            "---  ------          --------------  -----  \n",
            " 0   MATRICULA       20000 non-null  int64  \n",
            " 1   NOME            20000 non-null  object \n",
            " 2   REPROVACOES_DE  20000 non-null  int64  \n",
            " 3   REPROVACOES_EM  20000 non-null  int64  \n",
            " 4   REPROVACOES_MF  20000 non-null  int64  \n",
            " 5   REPROVACOES_GO  20000 non-null  int64  \n",
            " 6   NOTA_DE         20000 non-null  float64\n",
            " 7   NOTA_EM         20000 non-null  float64\n",
            " 8   NOTA_MF         20000 non-null  float64\n",
            " 9   NOTA_GO         16284 non-null  float64\n",
            " 10  INGLES          16372 non-null  float64\n",
            " 11  H_AULA_PRES     20000 non-null  int64  \n",
            " 12  TAREFAS_ONLINE  20000 non-null  int64  \n",
            " 13  FALTAS          20000 non-null  int64  \n",
            " 14  PERFIL          20000 non-null  object \n",
            "dtypes: float64(5), int64(8), object(2)\n",
            "memory usage: 2.3+ MB\n"
          ],
          "name": "stdout"
        }
      ]
    },
    {
      "cell_type": "markdown",
      "metadata": {
        "id": "nil__NJb-l9L"
      },
      "source": [
        "É notado que existem variáveis do tipo ``float64`` (números \"decimais\"), variáveis do tipo ``int64`` (números inteiros) e do tipo ``object`` (nesse caso são *strings*, ou texto). \n",
        "\n",
        "Como a maioria dos algoritmos de aprendizado estatístico supervisionado só aceita valores numéricos como entrada, é necessário então o pré-processamento das variáveis do tipo \"object\" antes de usar esse dataset como entrada para o treinamento de um modelo. Também é notado que existem valores faltantes em algumas colunas (``NOTA_GO`` e ``INGLES``). Esses valores faltantes também devem ser tratados antes de serem construídos modelos com esse conjunto de dados base."
      ]
    },
    {
      "cell_type": "markdown",
      "metadata": {
        "id": "88Zj9mRy-l9L"
      },
      "source": [
        "A função ``describe()`` gera várias informações sobre as variáveis numéricas que também podem ser úteis:"
      ]
    },
    {
      "cell_type": "code",
      "metadata": {
        "id": "ne8qIPJf-l9M",
        "colab": {
          "base_uri": "https://localhost:8080/",
          "height": 304
        },
        "outputId": "82557e1c-16dd-495b-a00e-3fe30aacfe65"
      },
      "source": [
        "df_training_dataset.describe()"
      ],
      "execution_count": null,
      "outputs": [
        {
          "output_type": "execute_result",
          "data": {
            "text/html": [
              "<div>\n",
              "<style scoped>\n",
              "    .dataframe tbody tr th:only-of-type {\n",
              "        vertical-align: middle;\n",
              "    }\n",
              "\n",
              "    .dataframe tbody tr th {\n",
              "        vertical-align: top;\n",
              "    }\n",
              "\n",
              "    .dataframe thead th {\n",
              "        text-align: right;\n",
              "    }\n",
              "</style>\n",
              "<table border=\"1\" class=\"dataframe\">\n",
              "  <thead>\n",
              "    <tr style=\"text-align: right;\">\n",
              "      <th></th>\n",
              "      <th>MATRICULA</th>\n",
              "      <th>REPROVACOES_DE</th>\n",
              "      <th>REPROVACOES_EM</th>\n",
              "      <th>REPROVACOES_MF</th>\n",
              "      <th>REPROVACOES_GO</th>\n",
              "      <th>NOTA_DE</th>\n",
              "      <th>NOTA_EM</th>\n",
              "      <th>NOTA_MF</th>\n",
              "      <th>NOTA_GO</th>\n",
              "      <th>INGLES</th>\n",
              "      <th>H_AULA_PRES</th>\n",
              "      <th>TAREFAS_ONLINE</th>\n",
              "      <th>FALTAS</th>\n",
              "    </tr>\n",
              "  </thead>\n",
              "  <tbody>\n",
              "    <tr>\n",
              "      <th>count</th>\n",
              "      <td>20000.000000</td>\n",
              "      <td>20000.000000</td>\n",
              "      <td>20000.000000</td>\n",
              "      <td>20000.000000</td>\n",
              "      <td>20000.000000</td>\n",
              "      <td>20000.000000</td>\n",
              "      <td>20000.000000</td>\n",
              "      <td>20000.000000</td>\n",
              "      <td>16284.000000</td>\n",
              "      <td>16372.000000</td>\n",
              "      <td>20000.000000</td>\n",
              "      <td>20000.000000</td>\n",
              "      <td>20000.000000</td>\n",
              "    </tr>\n",
              "    <tr>\n",
              "      <th>mean</th>\n",
              "      <td>551148.271400</td>\n",
              "      <td>0.242850</td>\n",
              "      <td>0.242850</td>\n",
              "      <td>0.297650</td>\n",
              "      <td>0.293350</td>\n",
              "      <td>5.196560</td>\n",
              "      <td>5.080285</td>\n",
              "      <td>4.817630</td>\n",
              "      <td>4.534101</td>\n",
              "      <td>0.646286</td>\n",
              "      <td>5.102950</td>\n",
              "      <td>3.140300</td>\n",
              "      <td>4.060600</td>\n",
              "    </tr>\n",
              "    <tr>\n",
              "      <th>std</th>\n",
              "      <td>259488.766584</td>\n",
              "      <td>0.615055</td>\n",
              "      <td>0.615055</td>\n",
              "      <td>0.672813</td>\n",
              "      <td>0.661829</td>\n",
              "      <td>2.522545</td>\n",
              "      <td>2.523928</td>\n",
              "      <td>2.734775</td>\n",
              "      <td>2.509209</td>\n",
              "      <td>0.478136</td>\n",
              "      <td>4.118422</td>\n",
              "      <td>1.854909</td>\n",
              "      <td>1.674714</td>\n",
              "    </tr>\n",
              "    <tr>\n",
              "      <th>min</th>\n",
              "      <td>100003.000000</td>\n",
              "      <td>0.000000</td>\n",
              "      <td>0.000000</td>\n",
              "      <td>0.000000</td>\n",
              "      <td>0.000000</td>\n",
              "      <td>0.000000</td>\n",
              "      <td>0.000000</td>\n",
              "      <td>0.000000</td>\n",
              "      <td>0.000000</td>\n",
              "      <td>0.000000</td>\n",
              "      <td>0.000000</td>\n",
              "      <td>0.000000</td>\n",
              "      <td>1.000000</td>\n",
              "    </tr>\n",
              "    <tr>\n",
              "      <th>25%</th>\n",
              "      <td>326554.250000</td>\n",
              "      <td>0.000000</td>\n",
              "      <td>0.000000</td>\n",
              "      <td>0.000000</td>\n",
              "      <td>0.000000</td>\n",
              "      <td>5.200000</td>\n",
              "      <td>4.900000</td>\n",
              "      <td>4.700000</td>\n",
              "      <td>4.500000</td>\n",
              "      <td>0.000000</td>\n",
              "      <td>2.000000</td>\n",
              "      <td>2.000000</td>\n",
              "      <td>3.000000</td>\n",
              "    </tr>\n",
              "    <tr>\n",
              "      <th>50%</th>\n",
              "      <td>550630.000000</td>\n",
              "      <td>0.000000</td>\n",
              "      <td>0.000000</td>\n",
              "      <td>0.000000</td>\n",
              "      <td>0.000000</td>\n",
              "      <td>6.200000</td>\n",
              "      <td>5.900000</td>\n",
              "      <td>5.500000</td>\n",
              "      <td>5.400000</td>\n",
              "      <td>1.000000</td>\n",
              "      <td>4.000000</td>\n",
              "      <td>3.000000</td>\n",
              "      <td>4.000000</td>\n",
              "    </tr>\n",
              "    <tr>\n",
              "      <th>75%</th>\n",
              "      <td>775524.750000</td>\n",
              "      <td>0.000000</td>\n",
              "      <td>0.000000</td>\n",
              "      <td>0.000000</td>\n",
              "      <td>0.000000</td>\n",
              "      <td>6.700000</td>\n",
              "      <td>6.700000</td>\n",
              "      <td>6.500000</td>\n",
              "      <td>6.200000</td>\n",
              "      <td>1.000000</td>\n",
              "      <td>6.000000</td>\n",
              "      <td>5.000000</td>\n",
              "      <td>6.000000</td>\n",
              "    </tr>\n",
              "    <tr>\n",
              "      <th>max</th>\n",
              "      <td>999995.000000</td>\n",
              "      <td>3.000000</td>\n",
              "      <td>3.000000</td>\n",
              "      <td>3.000000</td>\n",
              "      <td>3.000000</td>\n",
              "      <td>9.000000</td>\n",
              "      <td>9.400000</td>\n",
              "      <td>11.500000</td>\n",
              "      <td>10.000000</td>\n",
              "      <td>1.000000</td>\n",
              "      <td>25.000000</td>\n",
              "      <td>7.000000</td>\n",
              "      <td>8.000000</td>\n",
              "    </tr>\n",
              "  </tbody>\n",
              "</table>\n",
              "</div>"
            ],
            "text/plain": [
              "           MATRICULA  REPROVACOES_DE  ...  TAREFAS_ONLINE        FALTAS\n",
              "count   20000.000000    20000.000000  ...    20000.000000  20000.000000\n",
              "mean   551148.271400        0.242850  ...        3.140300      4.060600\n",
              "std    259488.766584        0.615055  ...        1.854909      1.674714\n",
              "min    100003.000000        0.000000  ...        0.000000      1.000000\n",
              "25%    326554.250000        0.000000  ...        2.000000      3.000000\n",
              "50%    550630.000000        0.000000  ...        3.000000      4.000000\n",
              "75%    775524.750000        0.000000  ...        5.000000      6.000000\n",
              "max    999995.000000        3.000000  ...        7.000000      8.000000\n",
              "\n",
              "[8 rows x 13 columns]"
            ]
          },
          "metadata": {
            "tags": []
          },
          "execution_count": 4
        }
      ]
    },
    {
      "cell_type": "markdown",
      "metadata": {
        "id": "6hM6nuiG-l9M"
      },
      "source": [
        "### Visualizações\n",
        "\n",
        "Para visualizar o *dataset* fornecido, podemos utilizar as bibliotecas ``matplotlib`` e ``seaborn``:"
      ]
    },
    {
      "cell_type": "code",
      "metadata": {
        "id": "SqrNskll-l9M"
      },
      "source": [
        "import matplotlib.pyplot as plt\n",
        "import seaborn as sns\n",
        "%matplotlib inline"
      ],
      "execution_count": 4,
      "outputs": []
    },
    {
      "cell_type": "code",
      "metadata": {
        "id": "IA9j6EEK-l9N",
        "colab": {
          "base_uri": "https://localhost:8080/",
          "height": 214
        },
        "outputId": "8d41139c-1e95-4120-8c7b-44c399ce6eb7"
      },
      "source": [
        "fig, axes = plt.subplots(nrows=1, ncols=4, figsize=(28, 4))\n",
        "\n",
        "sns.countplot(ax=axes[0], x='REPROVACOES_DE', data=df_training_dataset)\n",
        "sns.countplot(ax=axes[1], x='REPROVACOES_EM', data=df_training_dataset)\n",
        "sns.countplot(ax=axes[2], x='REPROVACOES_MF', data=df_training_dataset)\n",
        "sns.countplot(ax=axes[3], x='REPROVACOES_GO', data=df_training_dataset)"
      ],
      "execution_count": null,
      "outputs": [
        {
          "output_type": "execute_result",
          "data": {
            "text/plain": [
              "<matplotlib.axes._subplots.AxesSubplot at 0x7ffa33c11a20>"
            ]
          },
          "metadata": {
            "tags": []
          },
          "execution_count": 6
        },
        {
          "output_type": "display_data",
          "data": {
            "image/png": "[encoded data removed]",
            "text/plain": [
              "<Figure size 2016x288 with 4 Axes>"
            ]
          },
          "metadata": {
            "tags": [],
            "needs_background": "light"
          }
        }
      ]
    },
    {
      "cell_type": "code",
      "metadata": {
        "id": "DomgWuZ1-l9N",
        "colab": {
          "base_uri": "https://localhost:8080/",
          "height": 214
        },
        "outputId": "10a611c4-61ab-4a04-8656-f91f60685ff9"
      },
      "source": [
        "fig, axes = plt.subplots(nrows=1, ncols=4, figsize=(28, 4))\n",
        "\n",
        "sns.histplot(df_training_dataset['NOTA_DE'], ax=axes[0])\n",
        "sns.histplot(df_training_dataset['NOTA_EM'], ax=axes[1])\n",
        "sns.histplot(df_training_dataset['NOTA_MF'], ax=axes[2])\n",
        "sns.histplot(df_training_dataset['NOTA_GO'].dropna(), ax=axes[3])"
      ],
      "execution_count": null,
      "outputs": [
        {
          "output_type": "execute_result",
          "data": {
            "text/plain": [
              "<matplotlib.axes._subplots.AxesSubplot at 0x7ffa33675048>"
            ]
          },
          "metadata": {
            "tags": []
          },
          "execution_count": 7
        },
        {
          "output_type": "display_data",
          "data": {
            "image/png": "[encoded data removed]",
            "text/plain": [
              "<Figure size 2016x288 with 4 Axes>"
            ]
          },
          "metadata": {
            "tags": [],
            "needs_background": "light"
          }
        }
      ]
    },
    {
      "cell_type": "code",
      "metadata": {
        "scrolled": true,
        "id": "0ks6PePF-l9O",
        "colab": {
          "base_uri": "https://localhost:8080/",
          "height": 215
        },
        "outputId": "b3bcb080-249a-4cab-c509-afcb0911a54e"
      },
      "source": [
        "fig, axes = plt.subplots(nrows=1, ncols=4, figsize=(28, 4))\n",
        "\n",
        "sns.countplot(ax=axes[0], x='INGLES', data=df_training_dataset)\n",
        "sns.countplot(ax=axes[1], x='FALTAS', data=df_training_dataset)\n",
        "sns.countplot(ax=axes[2], x='H_AULA_PRES', data=df_training_dataset)\n",
        "sns.countplot(ax=axes[3], x='TAREFAS_ONLINE', data=df_training_dataset)"
      ],
      "execution_count": null,
      "outputs": [
        {
          "output_type": "execute_result",
          "data": {
            "text/plain": [
              "<matplotlib.axes._subplots.AxesSubplot at 0x7ffa326ce1d0>"
            ]
          },
          "metadata": {
            "tags": []
          },
          "execution_count": 8
        },
        {
          "output_type": "display_data",
          "data": {
            "image/png": "[encoded data removed]",
            "text/plain": [
              "<Figure size 2016x288 with 4 Axes>"
            ]
          },
          "metadata": {
            "tags": [],
            "needs_background": "light"
          }
        }
      ]
    },
    {
      "cell_type": "code",
      "metadata": {
        "id": "fiakl3HM-l9P",
        "colab": {
          "base_uri": "https://localhost:8080/",
          "height": 297
        },
        "outputId": "af90fa1b-86fa-4542-c779-cac83c3e5dd9"
      },
      "source": [
        "fig = plt.plot()\n",
        "sns.countplot(x='PERFIL', data=df_training_dataset)"
      ],
      "execution_count": null,
      "outputs": [
        {
          "output_type": "execute_result",
          "data": {
            "text/plain": [
              "<matplotlib.axes._subplots.AxesSubplot at 0x7ffa33b22278>"
            ]
          },
          "metadata": {
            "tags": []
          },
          "execution_count": 9
        },
        {
          "output_type": "display_data",
          "data": {
            "image/png": "[encoded data removed]",
            "text/plain": [
              "<Figure size 432x288 with 1 Axes>"
            ]
          },
          "metadata": {
            "tags": [],
            "needs_background": "light"
          }
        }
      ]
    },
    {
      "cell_type": "markdown",
      "metadata": {
        "id": "MsYJvDFbtYZK"
      },
      "source": [
        "A partir do gráfico acima, fica evidente que o *dataset* está **desbalanceado**, possuindo uma quantidade muito maior de estudantes com perfil ``EXATAS`` e ``DIFICULDADE``."
      ]
    },
    {
      "cell_type": "code",
      "metadata": {
        "colab": {
          "base_uri": "https://localhost:8080/",
          "height": 286
        },
        "id": "IbMZp5fx1BRz",
        "outputId": "cac89612-aee9-4d7c-9215-5255d0fb79ee"
      },
      "source": [
        "plt.figure(figsize=(28, 6))\r\n",
        "corrMatrix = df_training_dataset.corr()\r\n",
        "sns.heatmap(corrMatrix, annot=True)\r\n",
        "plt.show()"
      ],
      "execution_count": null,
      "outputs": [
        {
          "output_type": "display_data",
          "data": {
            "image/png": "[encoded data removed]",
            "text/plain": [
              "<Figure size 2016x432 with 2 Axes>"
            ]
          },
          "metadata": {
            "tags": [],
            "needs_background": "light"
          }
        }
      ]
    },
    {
      "cell_type": "markdown",
      "metadata": {
        "id": "hAB7sjERvIbp"
      },
      "source": [
        "Pela matriz de correlação é possível visualizar a óbvia correlação, inversamente proporcional, entre notas e reprovações."
      ]
    },
    {
      "cell_type": "markdown",
      "metadata": {
        "id": "wwl24L-t-l9S"
      },
      "source": [
        "## Iniciando o pré-processamento dos dados"
      ]
    },
    {
      "cell_type": "markdown",
      "metadata": {
        "id": "ou7nO4by-l9S"
      },
      "source": [
        "### Transformação 1: excluindo colunas do dataset"
      ]
    },
    {
      "cell_type": "markdown",
      "metadata": {
        "id": "m7eyWjES-l9U"
      },
      "source": [
        "As colunas ``MATRICULA`` e ``NOME`` são removidas pelo fato de serem características únicas de cada estudante. Já as colunas referentes às reprovações são retiradas pela já citada relação com as notas baixas. As colunas ``INGLES``,``FALTAS``, ``H_AULA_PRES`` e ``TAREFAS_ONLINE`` foram retiradas arbitrariamente, visto que mesmo que possuam relação com dificuldade nas matérias, o que realmente reflete a necessidade de ajuda são as notas em cada um dos cursos.\r\n",
        "\r\n",
        "Para aplicar essa transformação em um DataFrame pandas, basta utilizar a função ``drop``, explicitar o nome das colunas e definir ``axis=1``."
      ]
    },
    {
      "cell_type": "code",
      "metadata": {
        "id": "B2mXD4N4-l9V",
        "colab": {
          "base_uri": "https://localhost:8080/"
        },
        "outputId": "cac6e62e-561e-4ad2-9185-a27ef08073c1"
      },
      "source": [
        "# Visualizando as colunas do dataset original\n",
        "print(\"Colunas do dataset original: \\n\")\n",
        "print(df_training_dataset.columns)"
      ],
      "execution_count": 5,
      "outputs": [
        {
          "output_type": "stream",
          "text": [
            "Colunas do dataset original: \n",
            "\n",
            "Index(['MATRICULA', 'NOME', 'REPROVACOES_DE', 'REPROVACOES_EM',\n",
            "       'REPROVACOES_MF', 'REPROVACOES_GO', 'NOTA_DE', 'NOTA_EM', 'NOTA_MF',\n",
            "       'NOTA_GO', 'INGLES', 'H_AULA_PRES', 'TAREFAS_ONLINE', 'FALTAS',\n",
            "       'PERFIL'],\n",
            "      dtype='object')\n"
          ],
          "name": "stdout"
        }
      ]
    },
    {
      "cell_type": "code",
      "metadata": {
        "id": "Bw9U43SE-l9V"
      },
      "source": [
        "# # Aplicando a remoção de colunas do conjunto de dados base\n",
        "df_training_dataset_2 = df_training_dataset.drop(['MATRICULA', 'NOME', 'INGLES', 'REPROVACOES_DE',\n",
        "                          'REPROVACOES_MF', 'REPROVACOES_EM', 'REPROVACOES_GO',\n",
        "                          'FALTAS', 'H_AULA_PRES', 'TAREFAS_ONLINE'],axis=1)"
      ],
      "execution_count": 6,
      "outputs": []
    },
    {
      "cell_type": "code",
      "metadata": {
        "id": "Kjcu0exL-l9V",
        "colab": {
          "base_uri": "https://localhost:8080/"
        },
        "outputId": "90b20bf0-30ff-4cf4-8400-5da7f748c6a3"
      },
      "source": [
        "# Visualizando as colunas do dataset transformado\n",
        "print(\"Colunas do dataset após a transformação: \\n\")\n",
        "print(df_training_dataset_2.columns)"
      ],
      "execution_count": 8,
      "outputs": [
        {
          "output_type": "stream",
          "text": [
            "Colunas do dataset após a transformação: \n",
            "\n",
            "Index(['NOTA_DE', 'NOTA_EM', 'NOTA_MF', 'NOTA_GO', 'PERFIL'], dtype='object')\n"
          ],
          "name": "stdout"
        }
      ]
    },
    {
      "cell_type": "markdown",
      "metadata": {
        "id": "G5z7JzP9-l9W"
      },
      "source": [
        "### Transformação 2: criando novos *features*"
      ]
    },
    {
      "cell_type": "markdown",
      "metadata": {
        "id": "Tpfa2kiSRAwF"
      },
      "source": [
        "Na próxima célula é apresentado o código completo de uma transformação ``CombMedia``, para o cálculo da média de um conjunto de notas escolhido do DataFrame pandas. A função será utilizada para calcular as médias geral, de humanas e de exatas.\r\n",
        "\r\n",
        "Para a criação de uma transformação de dados personalizada no scikit-learn, é necessária basicamente a criação de uma classe com os métodos ``transform`` e ``fit``. No método transform será executada a lógica da nossa transformação."
      ]
    },
    {
      "cell_type": "code",
      "metadata": {
        "id": "-8JB7b2d-l9Q"
      },
      "source": [
        "from sklearn.base import BaseEstimator, TransformerMixin\n",
        "\n",
        "\n",
        "# All sklearn Transforms must have the `transform` and `fit` methods\n",
        "class CombMedias(BaseEstimator, TransformerMixin):\n",
        "    def __init__(self, columns, name):\n",
        "        self.columns = columns\n",
        "        self.name = name\n",
        "\n",
        "    def fit(self, X, y=None):\n",
        "        return self\n",
        "      \n",
        "    def comb(self, data):\n",
        "        return pd.Series([\n",
        "        np.sum([data[nota] for nota in self.columns])/len(self.columns)], index =[f'COMB_{self.name}']\n",
        "        )\n",
        "          \n",
        "    def transform(self, X):\n",
        "        # Primeiro realizamos a cópia do dataframe 'X' de entrada\n",
        "        data = X.copy()\n",
        "        data = data.join(data.apply(self.comb, axis=1))\n",
        "        return data"
      ],
      "execution_count": null,
      "outputs": []
    },
    {
      "cell_type": "markdown",
      "metadata": {
        "id": "u-s56T6SnrqV"
      },
      "source": [
        "Serão calculadas as médias das notas de humanas, de exatas e a média geral de cada aluno, com a utilização da função ``CombMedias``, criada anteriormente. Mas antes de efetuar estes cálculos é necessário tratar os valores faltantes, e temos três opções de tratamento para utilizar."
      ]
    },
    {
      "cell_type": "code",
      "metadata": {
        "id": "Y2enmAqz-l9W"
      },
      "source": [
        "cm = CombMedias(['NOTA_DE', 'NOTA_MF', 'NOTA_EM', 'NOTA_GO'], 'NOTAS')\n",
        "ch = CombMedias(['NOTA_DE', 'NOTA_EM'], 'HUMANAS')\n",
        "ce = CombMedias(['NOTA_MF', 'NOTA_GO'], 'EXATAS')"
      ],
      "execution_count": null,
      "outputs": []
    },
    {
      "cell_type": "markdown",
      "metadata": {
        "id": "3mhOTR-LAV4q"
      },
      "source": [
        "## Tratando valores faltantes e treinando modelos de predição"
      ]
    },
    {
      "cell_type": "markdown",
      "metadata": {
        "id": "dXpevw899zP-"
      },
      "source": [
        "### Opção 1: Removendo linhas com valores faltantes\r\n",
        "\r\n",
        "Neste primeiro modelo, as linhas com dados faltantes serão deletadas ao invés de preenchê-los, com a ajuda da função ``dropna()``. Em seguida, são aplicados os cálculos de médias já explicitados anteriormente. Nos próximos modelos, utilizaremos a função ``SimpleImputer`` para preenchimento de dados faltantes com valores médios ou constantes. \r\n",
        "\r\n"
      ]
    },
    {
      "cell_type": "code",
      "metadata": {
        "id": "Cc_dDOnvIRMO"
      },
      "source": [
        "df_training_dataset_drop = df_training_dataset_2.dropna()\r\n",
        "df_training_dataset_3 = pd.DataFrame.from_records(cm.fit_transform(df_training_dataset_drop))\r\n",
        "df_training_dataset_4 = pd.DataFrame.from_records(ch.fit_transform(df_training_dataset_3))\r\n",
        "df_training_dataset_5 = pd.DataFrame.from_records(ce.fit_transform(df_training_dataset_4))"
      ],
      "execution_count": null,
      "outputs": []
    },
    {
      "cell_type": "markdown",
      "metadata": {
        "id": "q6XmBio1oX_9"
      },
      "source": [
        "As próximas células permitem a visualização do dataset que será utilizado para treinamento do modelo preditivo, com suas novas colunas e um número reduzido de linhas."
      ]
    },
    {
      "cell_type": "code",
      "metadata": {
        "colab": {
          "base_uri": "https://localhost:8080/",
          "height": 195
        },
        "id": "He5SuJS1Iev3",
        "outputId": "82dc8be3-6f9e-4a53-ac6f-4fe278687c29"
      },
      "source": [
        "df_training_dataset_5.head()"
      ],
      "execution_count": null,
      "outputs": [
        {
          "output_type": "execute_result",
          "data": {
            "text/html": [
              "<div>\n",
              "<style scoped>\n",
              "    .dataframe tbody tr th:only-of-type {\n",
              "        vertical-align: middle;\n",
              "    }\n",
              "\n",
              "    .dataframe tbody tr th {\n",
              "        vertical-align: top;\n",
              "    }\n",
              "\n",
              "    .dataframe thead th {\n",
              "        text-align: right;\n",
              "    }\n",
              "</style>\n",
              "<table border=\"1\" class=\"dataframe\">\n",
              "  <thead>\n",
              "    <tr style=\"text-align: right;\">\n",
              "      <th></th>\n",
              "      <th>NOTA_DE</th>\n",
              "      <th>NOTA_EM</th>\n",
              "      <th>NOTA_MF</th>\n",
              "      <th>NOTA_GO</th>\n",
              "      <th>PERFIL</th>\n",
              "      <th>COMB_NOTAS</th>\n",
              "      <th>COMB_HUMANAS</th>\n",
              "      <th>COMB_EXATAS</th>\n",
              "    </tr>\n",
              "  </thead>\n",
              "  <tbody>\n",
              "    <tr>\n",
              "      <th>0</th>\n",
              "      <td>6.2</td>\n",
              "      <td>5.8</td>\n",
              "      <td>4.6</td>\n",
              "      <td>5.9</td>\n",
              "      <td>EXATAS</td>\n",
              "      <td>5.625</td>\n",
              "      <td>6.0</td>\n",
              "      <td>5.25</td>\n",
              "    </tr>\n",
              "    <tr>\n",
              "      <th>1</th>\n",
              "      <td>6.0</td>\n",
              "      <td>6.2</td>\n",
              "      <td>5.2</td>\n",
              "      <td>4.5</td>\n",
              "      <td>EXATAS</td>\n",
              "      <td>5.475</td>\n",
              "      <td>6.1</td>\n",
              "      <td>4.85</td>\n",
              "    </tr>\n",
              "    <tr>\n",
              "      <th>2</th>\n",
              "      <td>7.3</td>\n",
              "      <td>6.7</td>\n",
              "      <td>7.1</td>\n",
              "      <td>7.2</td>\n",
              "      <td>HUMANAS</td>\n",
              "      <td>7.075</td>\n",
              "      <td>7.0</td>\n",
              "      <td>7.15</td>\n",
              "    </tr>\n",
              "    <tr>\n",
              "      <th>3</th>\n",
              "      <td>0.0</td>\n",
              "      <td>0.0</td>\n",
              "      <td>0.0</td>\n",
              "      <td>0.0</td>\n",
              "      <td>DIFICULDADE</td>\n",
              "      <td>0.000</td>\n",
              "      <td>0.0</td>\n",
              "      <td>0.00</td>\n",
              "    </tr>\n",
              "    <tr>\n",
              "      <th>4</th>\n",
              "      <td>0.0</td>\n",
              "      <td>0.0</td>\n",
              "      <td>0.0</td>\n",
              "      <td>0.0</td>\n",
              "      <td>DIFICULDADE</td>\n",
              "      <td>0.000</td>\n",
              "      <td>0.0</td>\n",
              "      <td>0.00</td>\n",
              "    </tr>\n",
              "  </tbody>\n",
              "</table>\n",
              "</div>"
            ],
            "text/plain": [
              "   NOTA_DE  NOTA_EM  NOTA_MF  ...  COMB_NOTAS COMB_HUMANAS  COMB_EXATAS\n",
              "0      6.2      5.8      4.6  ...       5.625          6.0         5.25\n",
              "1      6.0      6.2      5.2  ...       5.475          6.1         4.85\n",
              "2      7.3      6.7      7.1  ...       7.075          7.0         7.15\n",
              "3      0.0      0.0      0.0  ...       0.000          0.0         0.00\n",
              "4      0.0      0.0      0.0  ...       0.000          0.0         0.00\n",
              "\n",
              "[5 rows x 8 columns]"
            ]
          },
          "metadata": {
            "tags": []
          },
          "execution_count": 19
        }
      ]
    },
    {
      "cell_type": "code",
      "metadata": {
        "colab": {
          "base_uri": "https://localhost:8080/"
        },
        "id": "lI-ZPs89Iinx",
        "outputId": "8e881aa1-fec3-4dec-973a-09b7fdfcf8fa"
      },
      "source": [
        "df_training_dataset_5.info()"
      ],
      "execution_count": null,
      "outputs": [
        {
          "output_type": "stream",
          "text": [
            "<class 'pandas.core.frame.DataFrame'>\n",
            "RangeIndex: 16284 entries, 0 to 16283\n",
            "Data columns (total 8 columns):\n",
            " #   Column        Non-Null Count  Dtype  \n",
            "---  ------        --------------  -----  \n",
            " 0   NOTA_DE       16284 non-null  float64\n",
            " 1   NOTA_EM       16284 non-null  float64\n",
            " 2   NOTA_MF       16284 non-null  float64\n",
            " 3   NOTA_GO       16284 non-null  float64\n",
            " 4   PERFIL        16284 non-null  object \n",
            " 5   COMB_NOTAS    16284 non-null  float64\n",
            " 6   COMB_HUMANAS  16284 non-null  float64\n",
            " 7   COMB_EXATAS   16284 non-null  float64\n",
            "dtypes: float64(7), object(1)\n",
            "memory usage: 1017.9+ KB\n"
          ],
          "name": "stdout"
        }
      ]
    },
    {
      "cell_type": "markdown",
      "metadata": {
        "id": "y4NchAIs-l9Y"
      },
      "source": [
        "Nota-se que não temos mais nenhum valor faltante no nosso conjunto de dados, mas o tamanho do *dataset* diminuiu em mais de 15%.\n"
      ]
    },
    {
      "cell_type": "markdown",
      "metadata": {
        "id": "cfTRBRFG-l9a"
      },
      "source": [
        "#### Definindo as features do modelo"
      ]
    },
    {
      "cell_type": "markdown",
      "metadata": {
        "id": "lyDS0bub-l9a"
      },
      "source": [
        "Finalizado o pré-processamento, já temos o conjunto de dados no formato necessário para o treinamento do nosso modelo. Iremos utilizar todas as colunas, exceto a coluna **PERFIL**, como *features* (variáveis de entrada).\n",
        "\n",
        "A variável **PERFIL** será a variável-alvo do modelo, conforme descrito no enunciado do desafio."
      ]
    },
    {
      "cell_type": "code",
      "metadata": {
        "id": "Kbml7PUrIqUL"
      },
      "source": [
        "# Definição das colunas que serão features (nota-se que a coluna NOME não está presente)\r\n",
        "features = [\r\n",
        "    'NOTA_DE', 'NOTA_EM', 'NOTA_MF', 'NOTA_GO', 'COMB_NOTAS','COMB_HUMANAS','COMB_EXATAS'\r\n",
        "]\r\n",
        "\r\n",
        "# Definição da variável-alvo\r\n",
        "target = [\"PERFIL\"]\r\n",
        "\r\n",
        "# Preparação dos argumentos para os métodos da biblioteca ``scikit-learn``\r\n",
        "X = df_training_dataset_5[features]\r\n",
        "y = df_training_dataset_5[target]"
      ],
      "execution_count": null,
      "outputs": []
    },
    {
      "cell_type": "markdown",
      "metadata": {
        "id": "GnIhrg-t-l9b"
      },
      "source": [
        "O conjunto de entrada (X):"
      ]
    },
    {
      "cell_type": "code",
      "metadata": {
        "id": "DBSX3PYo-l9b",
        "colab": {
          "base_uri": "https://localhost:8080/",
          "height": 195
        },
        "outputId": "b36f0f0c-c80d-436b-af7f-85dcdd9552c2"
      },
      "source": [
        "X.head()"
      ],
      "execution_count": null,
      "outputs": [
        {
          "output_type": "execute_result",
          "data": {
            "text/html": [
              "<div>\n",
              "<style scoped>\n",
              "    .dataframe tbody tr th:only-of-type {\n",
              "        vertical-align: middle;\n",
              "    }\n",
              "\n",
              "    .dataframe tbody tr th {\n",
              "        vertical-align: top;\n",
              "    }\n",
              "\n",
              "    .dataframe thead th {\n",
              "        text-align: right;\n",
              "    }\n",
              "</style>\n",
              "<table border=\"1\" class=\"dataframe\">\n",
              "  <thead>\n",
              "    <tr style=\"text-align: right;\">\n",
              "      <th></th>\n",
              "      <th>NOTA_DE</th>\n",
              "      <th>NOTA_EM</th>\n",
              "      <th>NOTA_MF</th>\n",
              "      <th>NOTA_GO</th>\n",
              "      <th>COMB_NOTAS</th>\n",
              "      <th>COMB_HUMANAS</th>\n",
              "      <th>COMB_EXATAS</th>\n",
              "    </tr>\n",
              "  </thead>\n",
              "  <tbody>\n",
              "    <tr>\n",
              "      <th>0</th>\n",
              "      <td>6.2</td>\n",
              "      <td>5.8</td>\n",
              "      <td>4.6</td>\n",
              "      <td>5.9</td>\n",
              "      <td>5.625</td>\n",
              "      <td>6.0</td>\n",
              "      <td>5.25</td>\n",
              "    </tr>\n",
              "    <tr>\n",
              "      <th>1</th>\n",
              "      <td>6.0</td>\n",
              "      <td>6.2</td>\n",
              "      <td>5.2</td>\n",
              "      <td>4.5</td>\n",
              "      <td>5.475</td>\n",
              "      <td>6.1</td>\n",
              "      <td>4.85</td>\n",
              "    </tr>\n",
              "    <tr>\n",
              "      <th>2</th>\n",
              "      <td>7.3</td>\n",
              "      <td>6.7</td>\n",
              "      <td>7.1</td>\n",
              "      <td>7.2</td>\n",
              "      <td>7.075</td>\n",
              "      <td>7.0</td>\n",
              "      <td>7.15</td>\n",
              "    </tr>\n",
              "    <tr>\n",
              "      <th>3</th>\n",
              "      <td>0.0</td>\n",
              "      <td>0.0</td>\n",
              "      <td>0.0</td>\n",
              "      <td>0.0</td>\n",
              "      <td>0.000</td>\n",
              "      <td>0.0</td>\n",
              "      <td>0.00</td>\n",
              "    </tr>\n",
              "    <tr>\n",
              "      <th>4</th>\n",
              "      <td>0.0</td>\n",
              "      <td>0.0</td>\n",
              "      <td>0.0</td>\n",
              "      <td>0.0</td>\n",
              "      <td>0.000</td>\n",
              "      <td>0.0</td>\n",
              "      <td>0.00</td>\n",
              "    </tr>\n",
              "  </tbody>\n",
              "</table>\n",
              "</div>"
            ],
            "text/plain": [
              "   NOTA_DE  NOTA_EM  NOTA_MF  NOTA_GO  COMB_NOTAS  COMB_HUMANAS  COMB_EXATAS\n",
              "0      6.2      5.8      4.6      5.9       5.625           6.0         5.25\n",
              "1      6.0      6.2      5.2      4.5       5.475           6.1         4.85\n",
              "2      7.3      6.7      7.1      7.2       7.075           7.0         7.15\n",
              "3      0.0      0.0      0.0      0.0       0.000           0.0         0.00\n",
              "4      0.0      0.0      0.0      0.0       0.000           0.0         0.00"
            ]
          },
          "metadata": {
            "tags": []
          },
          "execution_count": 22
        }
      ]
    },
    {
      "cell_type": "markdown",
      "metadata": {
        "id": "KNM1JnjT-l9b"
      },
      "source": [
        "As variáveis-alvo correspondentes (y):"
      ]
    },
    {
      "cell_type": "code",
      "metadata": {
        "id": "__kU0qcp-l9b",
        "colab": {
          "base_uri": "https://localhost:8080/",
          "height": 195
        },
        "outputId": "f317cad4-697b-4210-fcf8-be10e9f67b91"
      },
      "source": [
        "y.head()"
      ],
      "execution_count": null,
      "outputs": [
        {
          "output_type": "execute_result",
          "data": {
            "text/html": [
              "<div>\n",
              "<style scoped>\n",
              "    .dataframe tbody tr th:only-of-type {\n",
              "        vertical-align: middle;\n",
              "    }\n",
              "\n",
              "    .dataframe tbody tr th {\n",
              "        vertical-align: top;\n",
              "    }\n",
              "\n",
              "    .dataframe thead th {\n",
              "        text-align: right;\n",
              "    }\n",
              "</style>\n",
              "<table border=\"1\" class=\"dataframe\">\n",
              "  <thead>\n",
              "    <tr style=\"text-align: right;\">\n",
              "      <th></th>\n",
              "      <th>PERFIL</th>\n",
              "    </tr>\n",
              "  </thead>\n",
              "  <tbody>\n",
              "    <tr>\n",
              "      <th>0</th>\n",
              "      <td>EXATAS</td>\n",
              "    </tr>\n",
              "    <tr>\n",
              "      <th>1</th>\n",
              "      <td>EXATAS</td>\n",
              "    </tr>\n",
              "    <tr>\n",
              "      <th>2</th>\n",
              "      <td>HUMANAS</td>\n",
              "    </tr>\n",
              "    <tr>\n",
              "      <th>3</th>\n",
              "      <td>DIFICULDADE</td>\n",
              "    </tr>\n",
              "    <tr>\n",
              "      <th>4</th>\n",
              "      <td>DIFICULDADE</td>\n",
              "    </tr>\n",
              "  </tbody>\n",
              "</table>\n",
              "</div>"
            ],
            "text/plain": [
              "        PERFIL\n",
              "0       EXATAS\n",
              "1       EXATAS\n",
              "2      HUMANAS\n",
              "3  DIFICULDADE\n",
              "4  DIFICULDADE"
            ]
          },
          "metadata": {
            "tags": []
          },
          "execution_count": 23
        }
      ]
    },
    {
      "cell_type": "markdown",
      "metadata": {
        "id": "Y0FhKChc-l9c"
      },
      "source": [
        "#### Separando o dataset em um conjunto de treino e um conjunto de teste"
      ]
    },
    {
      "cell_type": "markdown",
      "metadata": {
        "id": "XD3x973c-l9c"
      },
      "source": [
        "Iremos separar o *dataset* fornecido em dois grupos: um para treinar nosso modelo, e outro para testarmos o resultado através de um teste cego. A separação do *dataset* pode ser feita facilmente com o método *train_test_split()* do scikit-learn:"
      ]
    },
    {
      "cell_type": "code",
      "metadata": {
        "id": "QlhIzCtG-l9d"
      },
      "source": [
        "# Separação dos dados em um conjunto de treino e um conjunto de teste\n",
        "X = X.to_numpy()\n",
        "y = y.to_numpy()\n",
        "X_train, X_test, y_train, y_test = train_test_split(X, y.ravel(), test_size=0.3, random_state=82)"
      ],
      "execution_count": null,
      "outputs": []
    },
    {
      "cell_type": "markdown",
      "metadata": {
        "id": "u_qfejJtun9K"
      },
      "source": [
        "Como todas colunas tem valores variando entre 0 e 10, não há necessidade de escaloná-las com a função ``sklearn.preprocessing.StandardScaler()``. Ela é importante para tratar *features* numéricos que possuem diferentes ordens de grandeza.\r\n",
        "\r\n",
        "Podem ser utilizadas algumas técnicas de balanceamento do dataset, por *over-sampling* e *under-sampling*. Neste caso, será utilizado o *SMOTE*, uma técnica de *over-sampling* para categorias minoritárias."
      ]
    },
    {
      "cell_type": "code",
      "metadata": {
        "id": "u5atG50WXYEo"
      },
      "source": [
        "# SMOTE (Synthetic Minority Over-sampling Technique)\r\n",
        "smote = SMOTE(n_jobs=2,random_state=132)\r\n",
        "X_train, y_train = smote.fit_resample(X_train, y_train)"
      ],
      "execution_count": null,
      "outputs": []
    },
    {
      "cell_type": "markdown",
      "metadata": {
        "id": "IpkxXQr7-l9d"
      },
      "source": [
        "#### Criando modelos baseados em redes neurais *MLP* e *XGBoost*"
      ]
    },
    {
      "cell_type": "markdown",
      "metadata": {
        "id": "XInhQ9wY-l9d"
      },
      "source": [
        "Criaremos classificadores baseados em **MLPClassifier** e em **XGBClassifier**. O critério principal para escolha do modelo será o conjunto de *F1-Scores* dos perfis.\n",
        "\n",
        "Material teórico sobre redes neurais na documentação oficial do scikit-learn: https://scikit-learn.org/stable/modules/generated/sklearn.neural_network.MLPClassifier.html, e sobre XGBClassifier na documentação oficial do XGBoost: https://xgboost.readthedocs.io/en/latest/python/python_api.html.\n",
        "\n",
        "O primeiro passo é basicamente instanciar um objeto *MLPClassifier* da biblioteca scikit-learn."
      ]
    },
    {
      "cell_type": "markdown",
      "metadata": {
        "id": "z_p4OHh8-l9e"
      },
      "source": [
        "##### *Testando o classificador de rede neural MLPClassifier*\r\n",
        "\r\n",
        "O modelo é definido com parâmetros arbitrários e o método ``fit`` é aplicado para ajustar o modelo ao conjunto de treino. Em seguida, o modelo é utilizado para predição dos valores **PERFIL** (``y_pred``) baseado no conjunto de teste ``X_test``, para futura comparação com os valores verdadeiros ``y_test``."
      ]
    },
    {
      "cell_type": "code",
      "metadata": {
        "id": "2vhdyO50-l9e"
      },
      "source": [
        "mlp_model_1 =  MLPClassifier(hidden_layer_sizes=(50, 50, 50),activation='logistic', solver='adam',learning_rate='invscaling',alpha=0)"
      ],
      "execution_count": null,
      "outputs": []
    },
    {
      "cell_type": "code",
      "metadata": {
        "id": "ql82xwUo-l9e"
      },
      "source": [
        "# Treino do modelo (é chamado o método *fit()* com os conjuntos de treino)\n",
        "mlp_model_1.fit(\n",
        "    X_train,\n",
        "    y_train\n",
        ")\n",
        "# Realização de teste cego no modelo criado\n",
        "y_pred = mlp_model_1.predict(X_test)"
      ],
      "execution_count": null,
      "outputs": []
    },
    {
      "cell_type": "code",
      "metadata": {
        "id": "2HS2SzD4-l9g",
        "colab": {
          "base_uri": "https://localhost:8080/"
        },
        "outputId": "3a72cc2e-44da-4450-ac6c-dceb3f87fa8e"
      },
      "source": [
        "print(y_pred)"
      ],
      "execution_count": null,
      "outputs": [
        {
          "output_type": "stream",
          "text": [
            "['EXCELENTE' 'DIFICULDADE' 'HUMANAS' ... 'EXCELENTE' 'EXATAS'\n",
            " 'DIFICULDADE']\n"
          ],
          "name": "stdout"
        }
      ]
    },
    {
      "cell_type": "markdown",
      "metadata": {
        "id": "68vcrVzhpV_s"
      },
      "source": [
        "Na célula seguinte, criamos uma função para a plotagem de uma matriz de confusão, facilitando a visualização dos resultados de predição em relação aos valores reais de teste."
      ]
    },
    {
      "cell_type": "code",
      "metadata": {
        "id": "LBLKk2Ug8Nxx"
      },
      "source": [
        "import itertools\r\n",
        "from sklearn.metrics import confusion_matrix\r\n",
        "\r\n",
        "def plot_confusion_matrix(cm, target_names, title='Confusion matrix', cmap=None, normalize=True):\r\n",
        "    accuracy = np.trace(cm) / float(np.sum(cm))\r\n",
        "    misclass = 1 - accuracy\r\n",
        "    if cmap is None:\r\n",
        "        cmap = plt.get_cmap('Blues')\r\n",
        "    plt.figure(figsize=(8, 6))\r\n",
        "    plt.imshow(cm, interpolation='nearest', cmap=cmap)\r\n",
        "    plt.title(title)\r\n",
        "    plt.colorbar()\r\n",
        "    if target_names is not None:\r\n",
        "        tick_marks = np.arange(len(target_names))\r\n",
        "        plt.xticks(tick_marks, target_names, rotation=45)\r\n",
        "        plt.yticks(tick_marks, target_names)\r\n",
        "    if normalize:\r\n",
        "        cm = cm.astype('float') / cm.sum(axis=1)[:, np.newaxis]\r\n",
        "    thresh = cm.max() / 1.5 if normalize else cm.max() / 2\r\n",
        "    for i, j in itertools.product(range(cm.shape[0]), range(cm.shape[1])):\r\n",
        "        if normalize:\r\n",
        "            plt.text(j, i, \"{:0.4f}\".format(cm[i, j]),\r\n",
        "                     horizontalalignment=\"center\",\r\n",
        "                     color=\"white\" if cm[i, j] > thresh else \"black\")\r\n",
        "        else:\r\n",
        "            plt.text(j, i, \"{:,}\".format(cm[i, j]),\r\n",
        "                     horizontalalignment=\"center\",\r\n",
        "                     color=\"white\" if cm[i, j] > thresh else \"black\")\r\n",
        "    plt.tight_layout()\r\n",
        "    plt.ylabel('True label')\r\n",
        "    plt.xlabel('Predicted label\\naccuracy={:0.4f}; misclass={:0.4f}'.format(accuracy, misclass))\r\n",
        "    plt.show()"
      ],
      "execution_count": null,
      "outputs": []
    },
    {
      "cell_type": "code",
      "metadata": {
        "colab": {
          "base_uri": "https://localhost:8080/",
          "height": 669
        },
        "id": "3yTNensq8Ofv",
        "outputId": "63bd5ca2-12eb-4d70-a659-1d34d64e1731"
      },
      "source": [
        "plot_confusion_matrix(confusion_matrix(y_test, y_pred), ['DIFICULDADE', 'EXATAS', 'EXCELENTE', 'HUMANAS', 'MUITO_BOM'])\r\n",
        "print(classification_report(y_test, y_pred))"
      ],
      "execution_count": null,
      "outputs": [
        {
          "output_type": "display_data",
          "data": {
            "image/png": "[encoded data removed]",
            "text/plain": [
              "<Figure size 576x432 with 2 Axes>"
            ]
          },
          "metadata": {
            "tags": [],
            "needs_background": "light"
          }
        },
        {
          "output_type": "stream",
          "text": [
            "              precision    recall  f1-score   support\n",
            "\n",
            " DIFICULDADE       0.86      0.76      0.80      1690\n",
            "      EXATAS       0.81      0.79      0.80      2039\n",
            "   EXCELENTE       0.51      0.80      0.62       170\n",
            "     HUMANAS       0.78      0.69      0.73       772\n",
            "   MUITO_BOM       0.19      0.40      0.26       215\n",
            "\n",
            "    accuracy                           0.75      4886\n",
            "   macro avg       0.63      0.69      0.64      4886\n",
            "weighted avg       0.78      0.75      0.76      4886\n",
            "\n"
          ],
          "name": "stdout"
        }
      ]
    },
    {
      "cell_type": "markdown",
      "metadata": {
        "id": "a-au_AG6VV_n"
      },
      "source": [
        "Pela matriz de confusão, fica claro que o maior problema é a previsão correta do *label* ``MUITO_BOM``. As maiores taxas de acerto estão nos perfis que possuem a maior quantidade de dados, ``DIFICULDADE`` e ``EXATAS``. Os outros três perfis acabam se confudindo muito e gerando maiores taxas de erro.\r\n",
        "\r\n",
        "Apesar dos valores de precisão (*precision*) e revocação (*recall*) do perfil ``MUITO_BOM`` no relatório de classificação serem baixos, eles são muito melhores se comparados a modelos que não utilizam a técnica de balanceamento *SMOTE*. Sem esta técnica a acurácia geral é maior, mas os perfis em quantidade minoritária sofrem muito e os modelos se tornam menos representativos."
      ]
    },
    {
      "cell_type": "markdown",
      "metadata": {
        "id": "YLZWYhyw6fIt"
      },
      "source": [
        "##### *Testando o classificador XGBClassifier*\r\n",
        "\r\n",
        "Aplicamos as mesmas etapas do modelo anterior para a predição baseada em XGBoost."
      ]
    },
    {
      "cell_type": "code",
      "metadata": {
        "id": "6HuBe_mFPkLU"
      },
      "source": [
        "xgb_model_1 = xgb.XGBClassifier(objective='multi:logistic',n_jobs=2)\r\n",
        "# Treino do modelo (é chamado o método *fit()* com os conjuntos de treino)\r\n",
        "xgb_model_1.fit(\r\n",
        "    X_train,\r\n",
        "    y_train\r\n",
        ")\r\n",
        "# Realização de teste cego no modelo criado\r\n",
        "y_pred = xgb_model_1.predict(X_test)"
      ],
      "execution_count": null,
      "outputs": []
    },
    {
      "cell_type": "code",
      "metadata": {
        "colab": {
          "base_uri": "https://localhost:8080/",
          "height": 669
        },
        "id": "6aLhlZQdPwmX",
        "outputId": "f2684b70-9909-42ee-c42f-54b4a0ba9ecc"
      },
      "source": [
        "plot_confusion_matrix(confusion_matrix(y_test, y_pred), ['DIFICULDADE', 'EXATAS', 'EXCELENTE', 'HUMANAS', 'MUITO_BOM'])\r\n",
        "print(classification_report(y_test, y_pred))"
      ],
      "execution_count": null,
      "outputs": [
        {
          "output_type": "display_data",
          "data": {
            "image/png": "[encoded data removed]",
            "text/plain": [
              "<Figure size 576x432 with 2 Axes>"
            ]
          },
          "metadata": {
            "tags": [],
            "needs_background": "light"
          }
        },
        {
          "output_type": "stream",
          "text": [
            "              precision    recall  f1-score   support\n",
            "\n",
            " DIFICULDADE       0.87      0.75      0.80      1690\n",
            "      EXATAS       0.81      0.86      0.84      2039\n",
            "   EXCELENTE       0.53      0.76      0.62       170\n",
            "     HUMANAS       0.83      0.79      0.81       772\n",
            "   MUITO_BOM       0.24      0.32      0.28       215\n",
            "\n",
            "    accuracy                           0.78      4886\n",
            "   macro avg       0.66      0.70      0.67      4886\n",
            "weighted avg       0.80      0.78      0.79      4886\n",
            "\n"
          ],
          "name": "stdout"
        }
      ]
    },
    {
      "cell_type": "markdown",
      "metadata": {
        "id": "q7AQq5SNUgvt"
      },
      "source": [
        "Tanto a acurácia do modelo XGBoost quanto os valores de *F1-Score* para cada perfil são melhores do que os do modelo MLP. Daqui em frente utilizaremos apenas este modelo."
      ]
    },
    {
      "cell_type": "markdown",
      "metadata": {
        "id": "iNp0oMnR-l9d"
      },
      "source": [
        "<hr>"
      ]
    },
    {
      "cell_type": "markdown",
      "metadata": {
        "id": "GcqsjkUBMmsw"
      },
      "source": [
        "### Opção 2: Preenchendo valores faltantes com valores médios\r\n",
        "\r\n",
        "Outra opção para tratarmos os dados faltantes do *dataframe* é, para cada coluna, inserir a média dos valores existentes em suas células vazias. Para isto, utilizaremos as funções ``SimpleImputer`` (com ``strategy='mean'``) e ``ColumnTransformer``. Neste caso, apenas a coluna ``NOTA_GO`` será alterada pois é a única que possui valores faltantes."
      ]
    },
    {
      "cell_type": "code",
      "metadata": {
        "id": "ezOWuTTcdf77"
      },
      "source": [
        "from sklearn.compose import ColumnTransformer\r\n",
        "#inserção de valores médios das colunas nas células vazias\r\n",
        "t_mean = [('num', SimpleImputer(missing_values=np.NaN, strategy='mean'), [0,1,2,3])]\r\n",
        "transformer_mean = ColumnTransformer(transformers=t_mean, remainder='passthrough')"
      ],
      "execution_count": null,
      "outputs": []
    },
    {
      "cell_type": "code",
      "metadata": {
        "colab": {
          "base_uri": "https://localhost:8080/"
        },
        "id": "KXCM8n8-dn5R",
        "outputId": "d466d476-7ec7-4d87-f9e1-8b809906616c"
      },
      "source": [
        "# Visualizando os dados faltantes do dataset após a primeira transformação (df_training_dataset_2)\r\n",
        "print(\"Valores nulos antes da transformação SimpleImputer: \\n\\n{}\\n\".format(df_training_dataset_2.isnull().sum(axis = 0)))"
      ],
      "execution_count": null,
      "outputs": [
        {
          "output_type": "stream",
          "text": [
            "Valores nulos antes da transformação SimpleImputer: \n",
            "\n",
            "NOTA_DE       0\n",
            "NOTA_EM       0\n",
            "NOTA_MF       0\n",
            "NOTA_GO    3716\n",
            "PERFIL        0\n",
            "dtype: int64\n",
            "\n"
          ],
          "name": "stdout"
        }
      ]
    },
    {
      "cell_type": "code",
      "metadata": {
        "id": "0ElE2orSdrWU"
      },
      "source": [
        "# Aplicamos o SimpleImputer ``si`` ao conjunto de dados df_training_dataset_2 (resultado da primeira transformação)\r\n",
        "# Reconstrução de um novo DataFrame Pandas com o conjunto imputado (df_data_mean)\r\n",
        "df_data_mean = pd.DataFrame.from_records(\r\n",
        "    data=transformer_mean.fit_transform(X=df_training_dataset_2),columns=df_training_dataset_2.columns,index=df_training_dataset_2.index)"
      ],
      "execution_count": null,
      "outputs": []
    },
    {
      "cell_type": "code",
      "metadata": {
        "colab": {
          "base_uri": "https://localhost:8080/"
        },
        "id": "vVsEeqxUdsJT",
        "outputId": "8511433a-736b-4bd4-a210-14d53a30eb70"
      },
      "source": [
        "# Visualizando os dados faltantes do dataset após a segunda transformação (SimpleImputer) (df_data_mean)\r\n",
        "print(\"Valores nulos no dataset após a transformação SimpleImputer: \\n\\n{}\\n\".format(df_data_mean.isnull().sum(axis = 0)))"
      ],
      "execution_count": null,
      "outputs": [
        {
          "output_type": "stream",
          "text": [
            "Valores nulos no dataset após a transformação SimpleImputer: \n",
            "\n",
            "NOTA_DE    0\n",
            "NOTA_EM    0\n",
            "NOTA_MF    0\n",
            "NOTA_GO    0\n",
            "PERFIL     0\n",
            "dtype: int64\n",
            "\n"
          ],
          "name": "stdout"
        }
      ]
    },
    {
      "cell_type": "markdown",
      "metadata": {
        "id": "G7KskhFQfq1y"
      },
      "source": [
        "Após o tratamento dos valores faltantes, podemos criar as *features* relacionadas às médias das notas:"
      ]
    },
    {
      "cell_type": "code",
      "metadata": {
        "id": "cdUSO-et-l9X"
      },
      "source": [
        "# Médias das notas em geral, das matérias de humanas e das matérias de exatas \n",
        "df_training_dataset_3 = pd.DataFrame.from_records(cm.fit_transform(df_data_mean))\n",
        "df_training_dataset_4 = pd.DataFrame.from_records(ch.fit_transform(df_training_dataset_3))\n",
        "df_training_dataset_5 = pd.DataFrame.from_records(ce.fit_transform(df_training_dataset_4))"
      ],
      "execution_count": null,
      "outputs": []
    },
    {
      "cell_type": "markdown",
      "metadata": {
        "id": "sKa3uprJf19_"
      },
      "source": [
        "Desta forma, o *dataset* final é representado a seguir."
      ]
    },
    {
      "cell_type": "code",
      "metadata": {
        "id": "__TrG80N-l9Z",
        "colab": {
          "base_uri": "https://localhost:8080/",
          "height": 195
        },
        "outputId": "53b62b33-2d93-499a-ecfd-1441809c637d"
      },
      "source": [
        "df_training_dataset_5.head()"
      ],
      "execution_count": null,
      "outputs": [
        {
          "output_type": "execute_result",
          "data": {
            "text/html": [
              "<div>\n",
              "<style scoped>\n",
              "    .dataframe tbody tr th:only-of-type {\n",
              "        vertical-align: middle;\n",
              "    }\n",
              "\n",
              "    .dataframe tbody tr th {\n",
              "        vertical-align: top;\n",
              "    }\n",
              "\n",
              "    .dataframe thead th {\n",
              "        text-align: right;\n",
              "    }\n",
              "</style>\n",
              "<table border=\"1\" class=\"dataframe\">\n",
              "  <thead>\n",
              "    <tr style=\"text-align: right;\">\n",
              "      <th></th>\n",
              "      <th>NOTA_DE</th>\n",
              "      <th>NOTA_EM</th>\n",
              "      <th>NOTA_MF</th>\n",
              "      <th>NOTA_GO</th>\n",
              "      <th>PERFIL</th>\n",
              "      <th>COMB_NOTAS</th>\n",
              "      <th>COMB_HUMANAS</th>\n",
              "      <th>COMB_EXATAS</th>\n",
              "    </tr>\n",
              "  </thead>\n",
              "  <tbody>\n",
              "    <tr>\n",
              "      <th>0</th>\n",
              "      <td>6.2</td>\n",
              "      <td>5.8</td>\n",
              "      <td>4.6</td>\n",
              "      <td>5.9</td>\n",
              "      <td>EXATAS</td>\n",
              "      <td>5.625</td>\n",
              "      <td>6.0</td>\n",
              "      <td>5.25</td>\n",
              "    </tr>\n",
              "    <tr>\n",
              "      <th>1</th>\n",
              "      <td>6.0</td>\n",
              "      <td>6.2</td>\n",
              "      <td>5.2</td>\n",
              "      <td>4.5</td>\n",
              "      <td>EXATAS</td>\n",
              "      <td>5.475</td>\n",
              "      <td>6.1</td>\n",
              "      <td>4.85</td>\n",
              "    </tr>\n",
              "    <tr>\n",
              "      <th>2</th>\n",
              "      <td>7.3</td>\n",
              "      <td>6.7</td>\n",
              "      <td>7.1</td>\n",
              "      <td>7.2</td>\n",
              "      <td>HUMANAS</td>\n",
              "      <td>7.075</td>\n",
              "      <td>7.0</td>\n",
              "      <td>7.15</td>\n",
              "    </tr>\n",
              "    <tr>\n",
              "      <th>3</th>\n",
              "      <td>0.0</td>\n",
              "      <td>0.0</td>\n",
              "      <td>0.0</td>\n",
              "      <td>0.0</td>\n",
              "      <td>DIFICULDADE</td>\n",
              "      <td>0.000</td>\n",
              "      <td>0.0</td>\n",
              "      <td>0.00</td>\n",
              "    </tr>\n",
              "    <tr>\n",
              "      <th>4</th>\n",
              "      <td>0.0</td>\n",
              "      <td>0.0</td>\n",
              "      <td>0.0</td>\n",
              "      <td>0.0</td>\n",
              "      <td>DIFICULDADE</td>\n",
              "      <td>0.000</td>\n",
              "      <td>0.0</td>\n",
              "      <td>0.00</td>\n",
              "    </tr>\n",
              "  </tbody>\n",
              "</table>\n",
              "</div>"
            ],
            "text/plain": [
              "   NOTA_DE  NOTA_EM  NOTA_MF  ...  COMB_NOTAS COMB_HUMANAS  COMB_EXATAS\n",
              "0      6.2      5.8      4.6  ...       5.625          6.0         5.25\n",
              "1      6.0      6.2      5.2  ...       5.475          6.1         4.85\n",
              "2      7.3      6.7      7.1  ...       7.075          7.0         7.15\n",
              "3      0.0      0.0      0.0  ...       0.000          0.0         0.00\n",
              "4      0.0      0.0      0.0  ...       0.000          0.0         0.00\n",
              "\n",
              "[5 rows x 8 columns]"
            ]
          },
          "metadata": {
            "tags": []
          },
          "execution_count": 38
        }
      ]
    },
    {
      "cell_type": "markdown",
      "metadata": {
        "id": "s5Q6uiw2gJN1"
      },
      "source": [
        "Desta vez, o dataset possui 20000 linhas e não possui valores faltantes:"
      ]
    },
    {
      "cell_type": "code",
      "metadata": {
        "id": "oEAAyVfQ-l9Z",
        "colab": {
          "base_uri": "https://localhost:8080/"
        },
        "outputId": "b2b94a71-b476-49cf-a377-3f1372d8ab5e"
      },
      "source": [
        "df_training_dataset_5.info()"
      ],
      "execution_count": null,
      "outputs": [
        {
          "output_type": "stream",
          "text": [
            "<class 'pandas.core.frame.DataFrame'>\n",
            "RangeIndex: 20000 entries, 0 to 19999\n",
            "Data columns (total 8 columns):\n",
            " #   Column        Non-Null Count  Dtype  \n",
            "---  ------        --------------  -----  \n",
            " 0   NOTA_DE       20000 non-null  float64\n",
            " 1   NOTA_EM       20000 non-null  float64\n",
            " 2   NOTA_MF       20000 non-null  float64\n",
            " 3   NOTA_GO       20000 non-null  float64\n",
            " 4   PERFIL        20000 non-null  object \n",
            " 5   COMB_NOTAS    20000 non-null  float64\n",
            " 6   COMB_HUMANAS  20000 non-null  float64\n",
            " 7   COMB_EXATAS   20000 non-null  float64\n",
            "dtypes: float64(7), object(1)\n",
            "memory usage: 1.2+ MB\n"
          ],
          "name": "stdout"
        }
      ]
    },
    {
      "cell_type": "markdown",
      "metadata": {
        "id": "snI6QK0lgYwJ"
      },
      "source": [
        "Realiza-se a separação dos conjuntos de treino e de teste e o balanceamento do conjunto de treino:"
      ]
    },
    {
      "cell_type": "code",
      "metadata": {
        "id": "f3XDqSmj-l9a"
      },
      "source": [
        "# Preparação dos argumentos para os métodos da biblioteca ``scikit-learn``\n",
        "X = df_training_dataset_5[features].to_numpy()\n",
        "y = df_training_dataset_5[target].to_numpy()"
      ],
      "execution_count": null,
      "outputs": []
    },
    {
      "cell_type": "code",
      "metadata": {
        "id": "ezkK--40hOFw"
      },
      "source": [
        "# Separação dos dados em um conjunto de treino e um conjunto de teste\r\n",
        "X_train, X_test, y_train, y_test = train_test_split(X, y.ravel(), test_size=0.3, random_state=82) \r\n",
        "# SMOTE (Synthetic Minority Over-sampling Technique)\r\n",
        "smote = SMOTE(n_jobs=2,random_state=132)\r\n",
        "X_train, y_train = smote.fit_resample(X_train, y_train)"
      ],
      "execution_count": null,
      "outputs": []
    },
    {
      "cell_type": "markdown",
      "metadata": {
        "id": "5kzuYlnpgfxp"
      },
      "source": [
        "Aplicação do modelo *XGBClassifier*, já que ele garantiu um modelo de predição melhor que o *MLPClassifier* na [seção anterior](https://colab.research.google.com/drive/10j1JKwMHfbRQT0yMhmd3l2LxgTzACwFr?authuser=1#scrollTo=dXpevw899zP-&line=3&uniqifier=1)."
      ]
    },
    {
      "cell_type": "code",
      "metadata": {
        "id": "Pi7FNwv7haI7"
      },
      "source": [
        "xgb_model_2= xgb.XGBClassifier(objective='multi:logistic',n_jobs=2)\r\n",
        "# Treino do modelo (é chamado o método *fit()* com os conjuntos de treino)\r\n",
        "xgb_model_2.fit(\r\n",
        "    X_train,\r\n",
        "    y_train\r\n",
        ")\r\n",
        "# Realização de teste cego no modelo criado\r\n",
        "y_pred = xgb_model_2.predict(X_test)"
      ],
      "execution_count": null,
      "outputs": []
    },
    {
      "cell_type": "code",
      "metadata": {
        "id": "u3EPFNK6hkhk",
        "colab": {
          "base_uri": "https://localhost:8080/",
          "height": 669
        },
        "outputId": "a2a9ac9c-5c10-4485-a580-67d5e22dbeed"
      },
      "source": [
        "plot_confusion_matrix(confusion_matrix(y_test, y_pred), ['DIFICULDADE', 'EXATAS', 'EXCELENTE', 'HUMANAS', 'MUITO_BOM'])\r\n",
        "print(classification_report(y_test, y_pred))"
      ],
      "execution_count": null,
      "outputs": [
        {
          "output_type": "display_data",
          "data": {
            "image/png": "[encoded data removed]",
            "text/plain": [
              "<Figure size 576x432 with 2 Axes>"
            ]
          },
          "metadata": {
            "tags": [],
            "needs_background": "light"
          }
        },
        {
          "output_type": "stream",
          "text": [
            "              precision    recall  f1-score   support\n",
            "\n",
            " DIFICULDADE       0.87      0.76      0.81      2106\n",
            "      EXATAS       0.81      0.88      0.84      2502\n",
            "   EXCELENTE       0.53      0.73      0.61       198\n",
            "     HUMANAS       0.84      0.76      0.80       940\n",
            "   MUITO_BOM       0.24      0.34      0.28       254\n",
            "\n",
            "    accuracy                           0.79      6000\n",
            "   macro avg       0.66      0.69      0.67      6000\n",
            "weighted avg       0.81      0.79      0.79      6000\n",
            "\n"
          ],
          "name": "stdout"
        }
      ]
    },
    {
      "cell_type": "markdown",
      "metadata": {
        "id": "207PL5pHiQrc"
      },
      "source": [
        "Se comparado ao modelo *XGBoost* com remoção de linhas, houve uma pequena melhoria na acurácia (de 78 para 79%), mas os valores de *F1-Score* pouco variaram."
      ]
    },
    {
      "cell_type": "markdown",
      "metadata": {
        "id": "_7qwUNVYyDL7"
      },
      "source": [
        "### Opção 3: Preenchendo com valores constantes igual a zero\r\n",
        "\r\n",
        "Nesta última opção de tratamento de valores faltantes, substituiremos as células vazias por 0 (zero). Esta é uma opção interessante caso o motivo dos valores faltantes fosse por ausência do estudante nos dias das provas, mas não sabemos se este é o caso. De qualquer forma, aplicaremos este método para avaliá-lo como opção.\r\n",
        "\r\n",
        "Utilizaremos novamente as funções ``SimpleImputer`` (desta vez com parâmetros ``strategy='constant'`` e ``fill_value=0``) e ``ColumnTransformer``."
      ]
    },
    {
      "cell_type": "code",
      "metadata": {
        "id": "j7wprMe7iVDv"
      },
      "source": [
        "#transformação dos valores faltantes com a inserção de valor constante e igual a zero\r\n",
        "t_csnt = [('num', SimpleImputer(missing_values=np.NaN, strategy='constant', fill_value=0), [0,1,2,3])]\r\n",
        "transformer_csnt = ColumnTransformer(transformers=t_csnt, remainder='passthrough')"
      ],
      "execution_count": null,
      "outputs": []
    },
    {
      "cell_type": "code",
      "metadata": {
        "id": "6lS-46SLidld"
      },
      "source": [
        "# Aplicamos o SimpleImputer ``si`` ao conjunto de dados df_training_dataset_2 (resultado da primeira transformação)\r\n",
        "# Reconstrução de um novo DataFrame Pandas com o conjunto imputado (df_data_cnst)\r\n",
        "df_data_cnst = pd.DataFrame.from_records(\r\n",
        "    data=transformer_csnt.fit_transform(X=df_training_dataset_2),columns=df_training_dataset_2.columns,index=df_training_dataset_2.index)"
      ],
      "execution_count": null,
      "outputs": []
    },
    {
      "cell_type": "markdown",
      "metadata": {
        "id": "g8KwJJMmkriD"
      },
      "source": [
        "Em seguida realizamos os procedimentos restantes: aplicamos as transformações restantes, separamos o *dataset* em conjunto de treino e de teste, balanceamos o *training set* e aplicamos o modelo."
      ]
    },
    {
      "cell_type": "code",
      "metadata": {
        "id": "vWmApVRZiedy"
      },
      "source": [
        "# Médias das notas em geral, das matérias de humanas e das matérias de exatas \r\n",
        "df_training_dataset_3 = pd.DataFrame.from_records(cm.fit_transform(df_data_cnst))\r\n",
        "df_training_dataset_4 = pd.DataFrame.from_records(ch.fit_transform(df_training_dataset_3))\r\n",
        "df_training_dataset_5 = pd.DataFrame.from_records(ce.fit_transform(df_training_dataset_4))"
      ],
      "execution_count": null,
      "outputs": []
    },
    {
      "cell_type": "code",
      "metadata": {
        "id": "wyhlpiIMiog9"
      },
      "source": [
        "# Preparação dos argumentos para os métodos da biblioteca ``scikit-learn``\r\n",
        "X = df_training_dataset_5[features].to_numpy()\r\n",
        "y = df_training_dataset_5[target].to_numpy()"
      ],
      "execution_count": null,
      "outputs": []
    },
    {
      "cell_type": "code",
      "metadata": {
        "id": "FKQl_I8XipZc"
      },
      "source": [
        "# Separação dos dados em um conjunto de treino e um conjunto de teste\r\n",
        "X_train, X_test, y_train, y_test = train_test_split(X, y.ravel(), test_size=0.3, random_state=82)\r\n",
        "# SMOTE (Synthetic Minority Over-sampling Technique)\r\n",
        "smote = SMOTE(n_jobs=2,random_state=132)\r\n",
        "X_train, y_train = smote.fit_resample(X_train, y_train) "
      ],
      "execution_count": null,
      "outputs": []
    },
    {
      "cell_type": "code",
      "metadata": {
        "id": "BgfZcwDGixbF"
      },
      "source": [
        "xgb_model_3 = xgb.XGBClassifier(objective='multi:logistic',n_jobs=2)\r\n",
        "# Treino do modelo (é chamado o método *fit()* com os conjuntos de treino)\r\n",
        "xgb_model_3.fit(\r\n",
        "    X_train,\r\n",
        "    y_train\r\n",
        ")\r\n",
        "# Realização de teste cego no modelo criado\r\n",
        "y_pred = xgb_model_3.predict(X_test)"
      ],
      "execution_count": null,
      "outputs": []
    },
    {
      "cell_type": "code",
      "metadata": {
        "id": "LFwmEE0qi6T-",
        "colab": {
          "base_uri": "https://localhost:8080/",
          "height": 669
        },
        "outputId": "b05346fd-f6ac-46f1-a69b-2a6477846050"
      },
      "source": [
        "plot_confusion_matrix(confusion_matrix(y_test, y_pred), ['DIFICULDADE', 'EXATAS', 'EXCELENTE', 'HUMANAS', 'MUITO_BOM'])\r\n",
        "print(classification_report(y_test, y_pred))"
      ],
      "execution_count": null,
      "outputs": [
        {
          "output_type": "display_data",
          "data": {
            "image/png": "[encoded data removed]",
            "text/plain": [
              "<Figure size 576x432 with 2 Axes>"
            ]
          },
          "metadata": {
            "tags": [],
            "needs_background": "light"
          }
        },
        {
          "output_type": "stream",
          "text": [
            "              precision    recall  f1-score   support\n",
            "\n",
            " DIFICULDADE       0.87      0.75      0.81      2106\n",
            "      EXATAS       0.81      0.87      0.84      2502\n",
            "   EXCELENTE       0.53      0.72      0.61       198\n",
            "     HUMANAS       0.83      0.75      0.79       940\n",
            "   MUITO_BOM       0.23      0.34      0.28       254\n",
            "\n",
            "    accuracy                           0.78      6000\n",
            "   macro avg       0.66      0.69      0.67      6000\n",
            "weighted avg       0.80      0.78      0.79      6000\n",
            "\n"
          ],
          "name": "stdout"
        }
      ]
    },
    {
      "cell_type": "markdown",
      "metadata": {
        "id": "AT3AFcE2ljoL"
      },
      "source": [
        "A acurácia deste modelo retorna a 78% e os valores *F1-Score* pouco mudam novamente."
      ]
    },
    {
      "cell_type": "markdown",
      "metadata": {
        "id": "HWPF4htJl9PO"
      },
      "source": [
        "## Seleção do modelo a ser utilizado"
      ]
    },
    {
      "cell_type": "markdown",
      "metadata": {
        "id": "7LUW5hoE-AQo"
      },
      "source": [
        "Como a diminuição do tamanho do *dataset*, comparado ao preenchimento das células vazias do *dataframe*, pouco afeta a acurácia e os valores *F1-Score* entre os modelos, o modelo utilizado será o primeiro dos *XGBClassifiers*. Presumir os valores das células vazias pode ser prejudicial ao modelo, pois não se sabe exatamente o motivo da ausência destes valores, podendo os valores inseridos gerarem um grande erro.\r\n",
        "\r\n",
        "**Modelo para submissão do desafio: ``xgb_model_1``.**"
      ]
    },
    {
      "cell_type": "markdown",
      "metadata": {
        "id": "YHiPF16f-l9g"
      },
      "source": [
        "<hr>\n",
        "\n",
        "## Scoring dos dados necessários para entregar a solução"
      ]
    },
    {
      "cell_type": "markdown",
      "metadata": {
        "id": "wyqHoT_g-l9h"
      },
      "source": [
        "Como entrega da solução, espera-se os resultados classificados no seguinte *dataset*, chamado \"to_be_scored.csv\":"
      ]
    },
    {
      "cell_type": "markdown",
      "metadata": {
        "id": "Ap7yf5X1-l9h"
      },
      "source": [
        "### Download da \"folha de respostas\""
      ]
    },
    {
      "cell_type": "code",
      "metadata": {
        "id": "YNoT3-4N-l9h",
        "colab": {
          "base_uri": "https://localhost:8080/",
          "height": 333
        },
        "outputId": "a51d84b0-9002-49ec-8cfd-4b4b234a441d"
      },
      "source": [
        "import urllib.request\n",
        "url = 'https://raw.githubusercontent.com/vanderlei-test/dataset-uninassau/master/to_be_scored_uninassau.csv'\n",
        "filename = 'to_be_scored_uninassau.csv'\n",
        "urllib.request.urlretrieve(url, filename)\n",
        "    \n",
        "df_to_be_scored = pd.read_csv(r'to_be_scored_uninassau.csv')\n",
        "df_to_be_scored.tail()"
      ],
      "execution_count": null,
      "outputs": [
        {
          "output_type": "execute_result",
          "data": {
            "text/html": [
              "<div>\n",
              "<style scoped>\n",
              "    .dataframe tbody tr th:only-of-type {\n",
              "        vertical-align: middle;\n",
              "    }\n",
              "\n",
              "    .dataframe tbody tr th {\n",
              "        vertical-align: top;\n",
              "    }\n",
              "\n",
              "    .dataframe thead th {\n",
              "        text-align: right;\n",
              "    }\n",
              "</style>\n",
              "<table border=\"1\" class=\"dataframe\">\n",
              "  <thead>\n",
              "    <tr style=\"text-align: right;\">\n",
              "      <th></th>\n",
              "      <th>MATRICULA</th>\n",
              "      <th>NOME</th>\n",
              "      <th>REPROVACOES_DE</th>\n",
              "      <th>REPROVACOES_EM</th>\n",
              "      <th>REPROVACOES_MF</th>\n",
              "      <th>REPROVACOES_GO</th>\n",
              "      <th>NOTA_DE</th>\n",
              "      <th>NOTA_EM</th>\n",
              "      <th>NOTA_MF</th>\n",
              "      <th>NOTA_GO</th>\n",
              "      <th>INGLES</th>\n",
              "      <th>H_AULA_PRES</th>\n",
              "      <th>TAREFAS_ONLINE</th>\n",
              "      <th>FALTAS</th>\n",
              "    </tr>\n",
              "  </thead>\n",
              "  <tbody>\n",
              "    <tr>\n",
              "      <th>495</th>\n",
              "      <td>940576</td>\n",
              "      <td>Samuel Bahia Cranulunan</td>\n",
              "      <td>0</td>\n",
              "      <td>0</td>\n",
              "      <td>0</td>\n",
              "      <td>0</td>\n",
              "      <td>6.3</td>\n",
              "      <td>5.3</td>\n",
              "      <td>7.0</td>\n",
              "      <td>5.6</td>\n",
              "      <td>1</td>\n",
              "      <td>4</td>\n",
              "      <td>0</td>\n",
              "      <td>8</td>\n",
              "    </tr>\n",
              "    <tr>\n",
              "      <th>496</th>\n",
              "      <td>682956</td>\n",
              "      <td>Samuel de Linhares</td>\n",
              "      <td>0</td>\n",
              "      <td>0</td>\n",
              "      <td>0</td>\n",
              "      <td>0</td>\n",
              "      <td>5.7</td>\n",
              "      <td>5.9</td>\n",
              "      <td>5.8</td>\n",
              "      <td>5.0</td>\n",
              "      <td>1</td>\n",
              "      <td>1</td>\n",
              "      <td>1</td>\n",
              "      <td>6</td>\n",
              "    </tr>\n",
              "    <tr>\n",
              "      <th>497</th>\n",
              "      <td>850896</td>\n",
              "      <td>Gigi Olga de Oliveira</td>\n",
              "      <td>0</td>\n",
              "      <td>0</td>\n",
              "      <td>0</td>\n",
              "      <td>0</td>\n",
              "      <td>6.7</td>\n",
              "      <td>7.1</td>\n",
              "      <td>5.7</td>\n",
              "      <td>6.3</td>\n",
              "      <td>0</td>\n",
              "      <td>16</td>\n",
              "      <td>6</td>\n",
              "      <td>3</td>\n",
              "    </tr>\n",
              "    <tr>\n",
              "      <th>498</th>\n",
              "      <td>525876</td>\n",
              "      <td>Marta Oaman</td>\n",
              "      <td>0</td>\n",
              "      <td>0</td>\n",
              "      <td>0</td>\n",
              "      <td>0</td>\n",
              "      <td>6.7</td>\n",
              "      <td>7.2</td>\n",
              "      <td>5.2</td>\n",
              "      <td>5.7</td>\n",
              "      <td>1</td>\n",
              "      <td>10</td>\n",
              "      <td>3</td>\n",
              "      <td>5</td>\n",
              "    </tr>\n",
              "    <tr>\n",
              "      <th>499</th>\n",
              "      <td>867666</td>\n",
              "      <td>Eliel Jardel da Costa Sanches</td>\n",
              "      <td>0</td>\n",
              "      <td>0</td>\n",
              "      <td>0</td>\n",
              "      <td>0</td>\n",
              "      <td>7.1</td>\n",
              "      <td>6.8</td>\n",
              "      <td>6.5</td>\n",
              "      <td>6.0</td>\n",
              "      <td>1</td>\n",
              "      <td>5</td>\n",
              "      <td>3</td>\n",
              "      <td>6</td>\n",
              "    </tr>\n",
              "  </tbody>\n",
              "</table>\n",
              "</div>"
            ],
            "text/plain": [
              "     MATRICULA                           NOME  ...  TAREFAS_ONLINE  FALTAS\n",
              "495     940576        Samuel Bahia Cranulunan  ...               0       8\n",
              "496     682956             Samuel de Linhares  ...               1       6\n",
              "497     850896          Gigi Olga de Oliveira  ...               6       3\n",
              "498     525876                    Marta Oaman  ...               3       5\n",
              "499     867666  Eliel Jardel da Costa Sanches  ...               3       6\n",
              "\n",
              "[5 rows x 14 columns]"
            ]
          },
          "metadata": {
            "tags": []
          },
          "execution_count": 51
        }
      ]
    },
    {
      "cell_type": "markdown",
      "metadata": {
        "id": "8J3c-DmV-l9i"
      },
      "source": [
        "O *dataframe* ``to_be_scored`` é a \"folha de respostas\". A coluna **PERFIL** não existe nessa amostra, que não pode ser então utilizada para treino de modelos de aprendizado supervisionado."
      ]
    },
    {
      "cell_type": "code",
      "metadata": {
        "id": "9D1qyi4V-l9i",
        "colab": {
          "base_uri": "https://localhost:8080/"
        },
        "outputId": "6e5b0c20-f150-4dea-87c0-4c1f258d60a6"
      },
      "source": [
        "df_to_be_scored.info()"
      ],
      "execution_count": null,
      "outputs": [
        {
          "output_type": "stream",
          "text": [
            "<class 'pandas.core.frame.DataFrame'>\n",
            "RangeIndex: 500 entries, 0 to 499\n",
            "Data columns (total 14 columns):\n",
            " #   Column          Non-Null Count  Dtype  \n",
            "---  ------          --------------  -----  \n",
            " 0   MATRICULA       500 non-null    int64  \n",
            " 1   NOME            500 non-null    object \n",
            " 2   REPROVACOES_DE  500 non-null    int64  \n",
            " 3   REPROVACOES_EM  500 non-null    int64  \n",
            " 4   REPROVACOES_MF  500 non-null    int64  \n",
            " 5   REPROVACOES_GO  500 non-null    int64  \n",
            " 6   NOTA_DE         500 non-null    float64\n",
            " 7   NOTA_EM         500 non-null    float64\n",
            " 8   NOTA_MF         500 non-null    float64\n",
            " 9   NOTA_GO         500 non-null    float64\n",
            " 10  INGLES          500 non-null    int64  \n",
            " 11  H_AULA_PRES     500 non-null    int64  \n",
            " 12  TAREFAS_ONLINE  500 non-null    int64  \n",
            " 13  FALTAS          500 non-null    int64  \n",
            "dtypes: float64(4), int64(9), object(1)\n",
            "memory usage: 54.8+ KB\n"
          ],
          "name": "stdout"
        }
      ]
    },
    {
      "cell_type": "markdown",
      "metadata": {
        "id": "T8LLtOuX-l9i"
      },
      "source": [
        "Para poder aplicar o modelo e classificar a folha de respostas, é preciso primeiro aplicar as mesmas transformações com colunas aplicadas no *dataset* de treino. Nenhuma linha deste *dataset* será deletada pois esta é a folha de respostas e a submissão do desafio exige todas as linhas para avaliação. \n",
        "\n",
        "Na célula abaixo, repetimos rapidamente os mesmos passos de pré-processamento usados no *dataset* de treino.\n"
      ]
    },
    {
      "cell_type": "code",
      "metadata": {
        "id": "AlpF9nZd-l9j",
        "colab": {
          "base_uri": "https://localhost:8080/",
          "height": 195
        },
        "outputId": "bb52736e-c76d-4c43-912a-da3906d2dafa"
      },
      "source": [
        "# Aplicando a transformação ``DropColumns`` ao conjunto de dados base\n",
        "rm_columns.fit(X=df_to_be_scored)\n",
        "\n",
        "# Reconstruindo um DataFrame Pandas com o resultado da transformação\n",
        "df_to_be_scored_2 = pd.DataFrame.from_records(\n",
        "    data=rm_columns.transform(\n",
        "        X=df_to_be_scored\n",
        "    ),\n",
        ")\n",
        "#cálculo das médias\n",
        "df_to_be_scored_3 = pd.DataFrame.from_records(cm.fit_transform(df_to_be_scored_2))\n",
        "df_to_be_scored_4 = pd.DataFrame.from_records(ch.fit_transform(df_to_be_scored_3))\n",
        "df_to_be_scored_5 = pd.DataFrame.from_records(ce.fit_transform(df_to_be_scored_4))\n",
        "\n",
        "df_to_be_scored_5.tail()"
      ],
      "execution_count": null,
      "outputs": [
        {
          "output_type": "execute_result",
          "data": {
            "text/html": [
              "<div>\n",
              "<style scoped>\n",
              "    .dataframe tbody tr th:only-of-type {\n",
              "        vertical-align: middle;\n",
              "    }\n",
              "\n",
              "    .dataframe tbody tr th {\n",
              "        vertical-align: top;\n",
              "    }\n",
              "\n",
              "    .dataframe thead th {\n",
              "        text-align: right;\n",
              "    }\n",
              "</style>\n",
              "<table border=\"1\" class=\"dataframe\">\n",
              "  <thead>\n",
              "    <tr style=\"text-align: right;\">\n",
              "      <th></th>\n",
              "      <th>NOTA_DE</th>\n",
              "      <th>NOTA_EM</th>\n",
              "      <th>NOTA_MF</th>\n",
              "      <th>NOTA_GO</th>\n",
              "      <th>COMB_NOTAS</th>\n",
              "      <th>COMB_HUMANAS</th>\n",
              "      <th>COMB_EXATAS</th>\n",
              "    </tr>\n",
              "  </thead>\n",
              "  <tbody>\n",
              "    <tr>\n",
              "      <th>495</th>\n",
              "      <td>6.3</td>\n",
              "      <td>5.3</td>\n",
              "      <td>7.0</td>\n",
              "      <td>5.6</td>\n",
              "      <td>6.05</td>\n",
              "      <td>5.80</td>\n",
              "      <td>6.30</td>\n",
              "    </tr>\n",
              "    <tr>\n",
              "      <th>496</th>\n",
              "      <td>5.7</td>\n",
              "      <td>5.9</td>\n",
              "      <td>5.8</td>\n",
              "      <td>5.0</td>\n",
              "      <td>5.60</td>\n",
              "      <td>5.80</td>\n",
              "      <td>5.40</td>\n",
              "    </tr>\n",
              "    <tr>\n",
              "      <th>497</th>\n",
              "      <td>6.7</td>\n",
              "      <td>7.1</td>\n",
              "      <td>5.7</td>\n",
              "      <td>6.3</td>\n",
              "      <td>6.45</td>\n",
              "      <td>6.90</td>\n",
              "      <td>6.00</td>\n",
              "    </tr>\n",
              "    <tr>\n",
              "      <th>498</th>\n",
              "      <td>6.7</td>\n",
              "      <td>7.2</td>\n",
              "      <td>5.2</td>\n",
              "      <td>5.7</td>\n",
              "      <td>6.20</td>\n",
              "      <td>6.95</td>\n",
              "      <td>5.45</td>\n",
              "    </tr>\n",
              "    <tr>\n",
              "      <th>499</th>\n",
              "      <td>7.1</td>\n",
              "      <td>6.8</td>\n",
              "      <td>6.5</td>\n",
              "      <td>6.0</td>\n",
              "      <td>6.60</td>\n",
              "      <td>6.95</td>\n",
              "      <td>6.25</td>\n",
              "    </tr>\n",
              "  </tbody>\n",
              "</table>\n",
              "</div>"
            ],
            "text/plain": [
              "     NOTA_DE  NOTA_EM  NOTA_MF  NOTA_GO  COMB_NOTAS  COMB_HUMANAS  COMB_EXATAS\n",
              "495      6.3      5.3      7.0      5.6        6.05          5.80         6.30\n",
              "496      5.7      5.9      5.8      5.0        5.60          5.80         5.40\n",
              "497      6.7      7.1      5.7      6.3        6.45          6.90         6.00\n",
              "498      6.7      7.2      5.2      5.7        6.20          6.95         5.45\n",
              "499      7.1      6.8      6.5      6.0        6.60          6.95         6.25"
            ]
          },
          "metadata": {
            "tags": []
          },
          "execution_count": 53
        }
      ]
    },
    {
      "cell_type": "markdown",
      "metadata": {
        "id": "QpK6rd23-l9j"
      },
      "source": [
        "Pode ser verificado abaixo que as colunas da folha de resposta agora são idênticas às que foram usadas para treinar o modelo:"
      ]
    },
    {
      "cell_type": "code",
      "metadata": {
        "id": "Lb5RVCmH-l9j",
        "colab": {
          "base_uri": "https://localhost:8080/"
        },
        "outputId": "01867d7c-c431-425b-e0cf-43cdca78940d"
      },
      "source": [
        "df_to_be_scored_5.columns"
      ],
      "execution_count": null,
      "outputs": [
        {
          "output_type": "execute_result",
          "data": {
            "text/plain": [
              "Index(['NOTA_DE', 'NOTA_EM', 'NOTA_MF', 'NOTA_GO', 'COMB_NOTAS',\n",
              "       'COMB_HUMANAS', 'COMB_EXATAS'],\n",
              "      dtype='object')"
            ]
          },
          "metadata": {
            "tags": []
          },
          "execution_count": 54
        }
      ]
    },
    {
      "cell_type": "markdown",
      "metadata": {
        "id": "ET5TB7Kt-l9k"
      },
      "source": [
        "### Executando as predições na \"folha de respostas\"\r\n",
        "\r\n",
        "Fazendo a previsão dos valores ``target`` com o modelo ``xgb_model_1`` e adicionando-os à folha de resposta, obtêm-se:"
      ]
    },
    {
      "cell_type": "code",
      "metadata": {
        "id": "k2VnpGY7-l9k",
        "colab": {
          "base_uri": "https://localhost:8080/",
          "height": 195
        },
        "outputId": "89437e15-4744-460b-9919-d4ef58463058"
      },
      "source": [
        "y_pred = xgb_model_1.predict(df_to_be_scored_5.to_numpy())\n",
        "df_to_be_scored_5['target'] = y_pred\n",
        "df_to_be_scored_5.tail()"
      ],
      "execution_count": null,
      "outputs": [
        {
          "output_type": "execute_result",
          "data": {
            "text/html": [
              "<div>\n",
              "<style scoped>\n",
              "    .dataframe tbody tr th:only-of-type {\n",
              "        vertical-align: middle;\n",
              "    }\n",
              "\n",
              "    .dataframe tbody tr th {\n",
              "        vertical-align: top;\n",
              "    }\n",
              "\n",
              "    .dataframe thead th {\n",
              "        text-align: right;\n",
              "    }\n",
              "</style>\n",
              "<table border=\"1\" class=\"dataframe\">\n",
              "  <thead>\n",
              "    <tr style=\"text-align: right;\">\n",
              "      <th></th>\n",
              "      <th>NOTA_DE</th>\n",
              "      <th>NOTA_EM</th>\n",
              "      <th>NOTA_MF</th>\n",
              "      <th>NOTA_GO</th>\n",
              "      <th>COMB_NOTAS</th>\n",
              "      <th>COMB_HUMANAS</th>\n",
              "      <th>COMB_EXATAS</th>\n",
              "      <th>target</th>\n",
              "    </tr>\n",
              "  </thead>\n",
              "  <tbody>\n",
              "    <tr>\n",
              "      <th>495</th>\n",
              "      <td>6.3</td>\n",
              "      <td>5.3</td>\n",
              "      <td>7.0</td>\n",
              "      <td>5.6</td>\n",
              "      <td>6.05</td>\n",
              "      <td>5.80</td>\n",
              "      <td>6.30</td>\n",
              "      <td>HUMANAS</td>\n",
              "    </tr>\n",
              "    <tr>\n",
              "      <th>496</th>\n",
              "      <td>5.7</td>\n",
              "      <td>5.9</td>\n",
              "      <td>5.8</td>\n",
              "      <td>5.0</td>\n",
              "      <td>5.60</td>\n",
              "      <td>5.80</td>\n",
              "      <td>5.40</td>\n",
              "      <td>EXATAS</td>\n",
              "    </tr>\n",
              "    <tr>\n",
              "      <th>497</th>\n",
              "      <td>6.7</td>\n",
              "      <td>7.1</td>\n",
              "      <td>5.7</td>\n",
              "      <td>6.3</td>\n",
              "      <td>6.45</td>\n",
              "      <td>6.90</td>\n",
              "      <td>6.00</td>\n",
              "      <td>EXATAS</td>\n",
              "    </tr>\n",
              "    <tr>\n",
              "      <th>498</th>\n",
              "      <td>6.7</td>\n",
              "      <td>7.2</td>\n",
              "      <td>5.2</td>\n",
              "      <td>5.7</td>\n",
              "      <td>6.20</td>\n",
              "      <td>6.95</td>\n",
              "      <td>5.45</td>\n",
              "      <td>EXATAS</td>\n",
              "    </tr>\n",
              "    <tr>\n",
              "      <th>499</th>\n",
              "      <td>7.1</td>\n",
              "      <td>6.8</td>\n",
              "      <td>6.5</td>\n",
              "      <td>6.0</td>\n",
              "      <td>6.60</td>\n",
              "      <td>6.95</td>\n",
              "      <td>6.25</td>\n",
              "      <td>EXATAS</td>\n",
              "    </tr>\n",
              "  </tbody>\n",
              "</table>\n",
              "</div>"
            ],
            "text/plain": [
              "     NOTA_DE  NOTA_EM  NOTA_MF  ...  COMB_HUMANAS  COMB_EXATAS   target\n",
              "495      6.3      5.3      7.0  ...          5.80         6.30  HUMANAS\n",
              "496      5.7      5.9      5.8  ...          5.80         5.40   EXATAS\n",
              "497      6.7      7.1      5.7  ...          6.90         6.00   EXATAS\n",
              "498      6.7      7.2      5.2  ...          6.95         5.45   EXATAS\n",
              "499      7.1      6.8      6.5  ...          6.95         6.25   EXATAS\n",
              "\n",
              "[5 rows x 8 columns]"
            ]
          },
          "metadata": {
            "tags": []
          },
          "execution_count": 55
        }
      ]
    },
    {
      "cell_type": "markdown",
      "metadata": {
        "id": "i9_cHgoY-l9k"
      },
      "source": [
        "### Salvando a folha de respostas como um arquivo .csv para ser submetido\r\n",
        "\r\n",
        "O arquivo a ser submetido deve ter o nome \"results.csv\", então a folha de respostas é transformada em um arquivo CSV da seguinte maneira:"
      ]
    },
    {
      "cell_type": "code",
      "metadata": {
        "id": "Ituzy_dP-l9l"
      },
      "source": [
        "df_to_be_scored_5.to_csv('results.csv',index=False)"
      ],
      "execution_count": null,
      "outputs": []
    },
    {
      "cell_type": "markdown",
      "metadata": {
        "id": "ap031Nm09cTc"
      },
      "source": [
        "Pronto! A folha de respostas está pronta para ser submetida com os resultados obtidos pelo modelo de aprendizado de máquina criado."
      ]
    }
  ]
}
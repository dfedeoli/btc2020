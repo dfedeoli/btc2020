{
  "nbformat": 4,
  "nbformat_minor": 0,
  "metadata": {
    "kernelspec": {
      "display_name": "Python 3",
      "language": "python",
      "name": "python3"
    },
    "language_info": {
      "codemirror_mode": {
        "name": "ipython",
        "version": 3
      },
      "file_extension": ".py",
      "mimetype": "text/x-python",
      "name": "python",
      "nbconvert_exporter": "python",
      "pygments_lexer": "ipython3",
      "version": "3.8.3"
    },
    "colab": {
      "name": "notebook_btc6.ipynb",
      "provenance": [],
      "collapsed_sections": [],
      "include_colab_link": true
    }
  },
  "cells": [
    {
      "cell_type": "markdown",
      "metadata": {
        "id": "view-in-github",
        "colab_type": "text"
      },
      "source": [
        "<a href=\"https://colab.research.google.com/github/dfedeoli/btc2020/blob/main/notebook_btc6.ipynb\" target=\"_parent\"><img src=\"https://colab.research.google.com/assets/colab-badge.svg\" alt=\"Open In Colab\"/></a>"
      ]
    },
    {
      "cell_type": "markdown",
      "metadata": {
        "collapsed": true,
        "id": "cM_1s-qUjofp"
      },
      "source": [
        "# MARATONA BEHIND THE CODE 2020\n",
        "\n",
        "## DESAFIO 6 - LIT\n",
        "\n",
        "O LIT faz personalização do ensino com o \"Paul\", o primeiro tutor do mundo a utilizar a tecnologia de Inteligência Artificial IBM Watson para potencializar a aprendizagem e também a personalização, visando ajudar o aluno a estudar da forma mais adequada para absorver o máximo de conteúdo possível sem desfocar do que ele realmente deve aprender, eliminando assim conteúdos que o aluno já sabe.\n",
        "\n",
        "Nesse Desafio de Segmentação de Mercado, os participantes deverão dividir por segmentos comportamentais e por competências os alunos do LIT, para gerar uma experiência na plataforma ainda mais personalizada.\n",
        "\n",
        "Para tanto, neste desafio deverá ser desenvolvido uma solução tecnológica para segmentar os alunos por comportamento e competências.\n",
        "\n",
        "Do ponto de vista comportamental, os alunos deverão ser divididos em 6 grupos a partir da interação do aluno ao longo de sua jornada no LIT. Cada perfil busca medir o grau de esforço do aluno dentro do progama educacional e qual a melhor jornada para o estudante.\n",
        "\n",
        "Com a introdução de um novo processo de onboarding na plataforma, teemos a oportunidade de utilizar os dados preenchidos pelos alunos para fazer uma melhor recomendação de quais dos mais 150 cursos do LIT, o aluno deveria se matricular, focando em seus interesses e responsabilidades.\n",
        "\n",
        "Sendo assim, esperamos poder indicar para cada aluno do LIT quais são os cursos ideais para ele, de acordo com as competências que eles precisam desenvolver para a sua carreira. Esperamos também durante a sua jornada de aprendizagem no LIT, gerar ações de engajamento de acordo com sua atividade na plataforma.\n",
        "\n",
        "Neste desafio, é necessário criar um modelo de aprendizado de máquina capaz de, com base nas variáveis fornecidas no dataset, identificar o que define o perfil de cada aluno para poder realizar previsões sobre futuros alunos.\n",
        "\n",
        "Proposição completa do Desafio: https://github.com/maratonadev-br/desafio-6-2020"
      ]
    },
    {
      "cell_type": "markdown",
      "metadata": {
        "id": "voAfUl8Ujofq"
      },
      "source": [
        "<hr>"
      ]
    },
    {
      "cell_type": "markdown",
      "metadata": {
        "id": "lm76VdDZYmUD"
      },
      "source": [
        "## Importando pacotes importantes"
      ]
    },
    {
      "cell_type": "code",
      "metadata": {
        "id": "qGQXc1aIjofy"
      },
      "source": [
        "import pandas as pd\r\n",
        "import matplotlib.pyplot as plt\r\n",
        "import seaborn as sns\r\n",
        "%matplotlib inline\r\n",
        "from xgboost import XGBClassifier\r\n",
        "import numpy as np\r\n",
        "from sklearn.metrics import classification_report\r\n",
        "import itertools\r\n",
        "from sklearn.metrics import confusion_matrix"
      ],
      "execution_count": null,
      "outputs": []
    },
    {
      "cell_type": "markdown",
      "metadata": {
        "id": "oOOeNyyGjofx"
      },
      "source": [
        "## Download dos conjuntos de dados em formato .csv"
      ]
    },
    {
      "cell_type": "code",
      "metadata": {
        "id": "yF8q19Xujofy",
        "colab": {
          "base_uri": "https://localhost:8080/",
          "height": 434
        },
        "outputId": "35dffcc9-a86f-4e47-edb1-b904ca732c07"
      },
      "source": [
        "!wget --no-check-certificate --content-disposition https://raw.githubusercontent.com/vanderlei-test/dataset-3/master/training_dataset.csv\n",
        "df_training_dataset = pd.read_csv(r'training_dataset.csv')\n",
        "df_training_dataset.tail()"
      ],
      "execution_count": null,
      "outputs": [
        {
          "output_type": "stream",
          "text": [
            "--2021-03-02 20:15:45--  https://raw.githubusercontent.com/vanderlei-test/dataset-3/master/training_dataset.csv\n",
            "Resolving raw.githubusercontent.com (raw.githubusercontent.com)... 185.199.109.133, 185.199.111.133, 185.199.110.133, ...\n",
            "Connecting to raw.githubusercontent.com (raw.githubusercontent.com)|185.199.109.133|:443... connected.\n",
            "HTTP request sent, awaiting response... 200 OK\n",
            "Length: 1736600 (1.7M) [text/plain]\n",
            "Saving to: ‘training_dataset.csv’\n",
            "\n",
            "training_dataset.cs 100%[===================>]   1.66M  --.-KB/s    in 0.06s   \n",
            "\n",
            "2021-03-02 20:15:46 (27.4 MB/s) - ‘training_dataset.csv’ saved [1736600/1736600]\n",
            "\n"
          ],
          "name": "stdout"
        },
        {
          "output_type": "execute_result",
          "data": {
            "text/html": [
              "<div>\n",
              "<style scoped>\n",
              "    .dataframe tbody tr th:only-of-type {\n",
              "        vertical-align: middle;\n",
              "    }\n",
              "\n",
              "    .dataframe tbody tr th {\n",
              "        vertical-align: top;\n",
              "    }\n",
              "\n",
              "    .dataframe thead th {\n",
              "        text-align: right;\n",
              "    }\n",
              "</style>\n",
              "<table border=\"1\" class=\"dataframe\">\n",
              "  <thead>\n",
              "    <tr style=\"text-align: right;\">\n",
              "      <th></th>\n",
              "      <th>id</th>\n",
              "      <th>graduacao</th>\n",
              "      <th>universidade</th>\n",
              "      <th>profissao</th>\n",
              "      <th>organizacao</th>\n",
              "      <th>pretende_fazer_cursos_lit</th>\n",
              "      <th>interesse_mba_lit</th>\n",
              "      <th>importante_ter_certificado</th>\n",
              "      <th>horas_semanais_estudo</th>\n",
              "      <th>como_conheceu_lit</th>\n",
              "      <th>total_modulos</th>\n",
              "      <th>modulos_iniciados</th>\n",
              "      <th>modulos_finalizados</th>\n",
              "      <th>certificados</th>\n",
              "      <th>categoria</th>\n",
              "    </tr>\n",
              "  </thead>\n",
              "  <tbody>\n",
              "    <tr>\n",
              "      <th>15852</th>\n",
              "      <td>620397030.0</td>\n",
              "      <td>Bacharelado</td>\n",
              "      <td>UFF</td>\n",
              "      <td>Outros</td>\n",
              "      <td>Borracha</td>\n",
              "      <td>0.0</td>\n",
              "      <td>0.0</td>\n",
              "      <td>1.0</td>\n",
              "      <td>8.0</td>\n",
              "      <td>NaN</td>\n",
              "      <td>10.0</td>\n",
              "      <td>NaN</td>\n",
              "      <td>NaN</td>\n",
              "      <td>NaN</td>\n",
              "      <td>perfil6</td>\n",
              "    </tr>\n",
              "    <tr>\n",
              "      <th>15853</th>\n",
              "      <td>229931283.0</td>\n",
              "      <td>Bacharelado</td>\n",
              "      <td>NaN</td>\n",
              "      <td>Advogado</td>\n",
              "      <td>NaN</td>\n",
              "      <td>0.0</td>\n",
              "      <td>0.0</td>\n",
              "      <td>1.0</td>\n",
              "      <td>7.0</td>\n",
              "      <td>Linkedin</td>\n",
              "      <td>42.0</td>\n",
              "      <td>17.0</td>\n",
              "      <td>15.0</td>\n",
              "      <td>NaN</td>\n",
              "      <td>perfil5</td>\n",
              "    </tr>\n",
              "    <tr>\n",
              "      <th>15854</th>\n",
              "      <td>480674907.0</td>\n",
              "      <td>Tecnólogo</td>\n",
              "      <td>UNIP</td>\n",
              "      <td>Sócio/Dono/Proprietário</td>\n",
              "      <td>NaN</td>\n",
              "      <td>0.0</td>\n",
              "      <td>NaN</td>\n",
              "      <td>1.0</td>\n",
              "      <td>7.0</td>\n",
              "      <td>Outros</td>\n",
              "      <td>30.0</td>\n",
              "      <td>9.0</td>\n",
              "      <td>8.0</td>\n",
              "      <td>0.0</td>\n",
              "      <td>perfil5</td>\n",
              "    </tr>\n",
              "    <tr>\n",
              "      <th>15855</th>\n",
              "      <td>559626807.0</td>\n",
              "      <td>SEM FORMAÇÃO</td>\n",
              "      <td>UNIVERSIDADE NOVE DE JULHO</td>\n",
              "      <td>Advogado</td>\n",
              "      <td>Estado</td>\n",
              "      <td>0.0</td>\n",
              "      <td>0.0</td>\n",
              "      <td>1.0</td>\n",
              "      <td>10.0</td>\n",
              "      <td>NaN</td>\n",
              "      <td>226.0</td>\n",
              "      <td>102.0</td>\n",
              "      <td>93.0</td>\n",
              "      <td>1.0</td>\n",
              "      <td>perfil1</td>\n",
              "    </tr>\n",
              "    <tr>\n",
              "      <th>15856</th>\n",
              "      <td>743652801.0</td>\n",
              "      <td>NaN</td>\n",
              "      <td>FGV-RJ</td>\n",
              "      <td>NaN</td>\n",
              "      <td>Siderurgica</td>\n",
              "      <td>1.0</td>\n",
              "      <td>1.0</td>\n",
              "      <td>1.0</td>\n",
              "      <td>9.0</td>\n",
              "      <td>Outros</td>\n",
              "      <td>125.0</td>\n",
              "      <td>98.0</td>\n",
              "      <td>97.0</td>\n",
              "      <td>1.0</td>\n",
              "      <td>perfil1</td>\n",
              "    </tr>\n",
              "  </tbody>\n",
              "</table>\n",
              "</div>"
            ],
            "text/plain": [
              "                id     graduacao  ... certificados categoria\n",
              "15852  620397030.0   Bacharelado  ...          NaN   perfil6\n",
              "15853  229931283.0   Bacharelado  ...          NaN   perfil5\n",
              "15854  480674907.0     Tecnólogo  ...          0.0   perfil5\n",
              "15855  559626807.0  SEM FORMAÇÃO  ...          1.0   perfil1\n",
              "15856  743652801.0           NaN  ...          1.0   perfil1\n",
              "\n",
              "[5 rows x 15 columns]"
            ]
          },
          "metadata": {
            "tags": []
          },
          "execution_count": 2
        }
      ]
    },
    {
      "cell_type": "markdown",
      "metadata": {
        "id": "yp7VBU3gjofz"
      },
      "source": [
        "Sobre o arquivo \"training_dataset.csv\", temos algumas informações gerais sobre os usuários da plataforma:\n",
        "\n",
        "**id**: número de matrícula/identificação do estudante;\n",
        "\n",
        "**graduacao**: Nível de formação do estudante;\n",
        "\n",
        "**universidade**: Local de formação;\n",
        "\n",
        "**profissao**: profissão do estudante do LIT;\n",
        "\n",
        "**organizacao**: Área de atuação;\n",
        "\n",
        "**pretende_fazer_cursos_lit**: se pretende fazer cursos do LIT;\n",
        "\n",
        "**interesse_mba_lit**: se tem interesse em fazer um MBA no LIT;\n",
        "\n",
        "**importante_ter_certificado**: se o aluno acha importante ter certificado;\n",
        "\n",
        "**horas_semanais_estudo**: horas semanais de estudo do aluno;\n",
        "\n",
        "**como_conheceu_lit**: por qual plataforma ou mídia conheceu o LIT;\n",
        "\n",
        "**total_modulos**: total de módulos do estudante;\n",
        "\n",
        "**modulos_iniciados**: módulos iniciados pelo estudante;\n",
        "\n",
        "**modulos_finalizados**: módulos finalizados pelo estudante;\n",
        "\n",
        "**certificados**: se possui ou não certificado;\n",
        "\n",
        "**categoria**: perfil do estudante."
      ]
    },
    {
      "cell_type": "code",
      "metadata": {
        "id": "mKNPTaXMjof0",
        "colab": {
          "base_uri": "https://localhost:8080/"
        },
        "outputId": "184677b4-dd15-40c0-fcd1-c917f22d2227"
      },
      "source": [
        "df_training_dataset.info()"
      ],
      "execution_count": null,
      "outputs": [
        {
          "output_type": "stream",
          "text": [
            "<class 'pandas.core.frame.DataFrame'>\n",
            "RangeIndex: 15857 entries, 0 to 15856\n",
            "Data columns (total 15 columns):\n",
            " #   Column                      Non-Null Count  Dtype  \n",
            "---  ------                      --------------  -----  \n",
            " 0   id                          13945 non-null  float64\n",
            " 1   graduacao                   13950 non-null  object \n",
            " 2   universidade                13920 non-null  object \n",
            " 3   profissao                   13977 non-null  object \n",
            " 4   organizacao                 13961 non-null  object \n",
            " 5   pretende_fazer_cursos_lit   13989 non-null  float64\n",
            " 6   interesse_mba_lit           14003 non-null  float64\n",
            " 7   importante_ter_certificado  13918 non-null  float64\n",
            " 8   horas_semanais_estudo       13959 non-null  float64\n",
            " 9   como_conheceu_lit           13915 non-null  object \n",
            " 10  total_modulos               13987 non-null  float64\n",
            " 11  modulos_iniciados           14044 non-null  float64\n",
            " 12  modulos_finalizados         13924 non-null  float64\n",
            " 13  certificados                13979 non-null  float64\n",
            " 14  categoria                   15857 non-null  object \n",
            "dtypes: float64(9), object(6)\n",
            "memory usage: 1.8+ MB\n"
          ],
          "name": "stdout"
        }
      ]
    },
    {
      "cell_type": "code",
      "metadata": {
        "id": "9PyyW13_jof1",
        "colab": {
          "base_uri": "https://localhost:8080/"
        },
        "outputId": "d8d22c57-d9b0-48cc-c5c5-e6e10cb59426"
      },
      "source": [
        "df_training_dataset.nunique()"
      ],
      "execution_count": null,
      "outputs": [
        {
          "output_type": "execute_result",
          "data": {
            "text/plain": [
              "id                            13945\n",
              "graduacao                         6\n",
              "universidade                     21\n",
              "profissao                        12\n",
              "organizacao                      11\n",
              "pretende_fazer_cursos_lit         2\n",
              "interesse_mba_lit                 2\n",
              "importante_ter_certificado        1\n",
              "horas_semanais_estudo             9\n",
              "como_conheceu_lit                 9\n",
              "total_modulos                   578\n",
              "modulos_iniciados               372\n",
              "modulos_finalizados             339\n",
              "certificados                     23\n",
              "categoria                         6\n",
              "dtype: int64"
            ]
          },
          "metadata": {
            "tags": []
          },
          "execution_count": 4
        }
      ]
    },
    {
      "cell_type": "markdown",
      "metadata": {
        "id": "xDb4JslmmL_J"
      },
      "source": [
        "Como a variável ``importante_ter_certificado`` possui apenas uma resposta (1.0), esta coluna será desde já removida."
      ]
    },
    {
      "cell_type": "code",
      "metadata": {
        "id": "iC2zVe7ImeQ-"
      },
      "source": [
        "df_training_dataset_1 = df_training_dataset.drop(['importante_ter_certificado'], axis=1)"
      ],
      "execution_count": null,
      "outputs": []
    },
    {
      "cell_type": "markdown",
      "metadata": {
        "id": "PrQHi9kQjof1"
      },
      "source": [
        "<hr>\n",
        "\n",
        "## Detalhamento do desafio: classificação multiclasse\n",
        "\n",
        "Este é um desafio cujo objetivo de negócio é a segmentação dos usuários de uma plataforma de ensino. Para tal, podemos utilizar duas abordagens: aprendizado de máquina supervisionado (classificação) ou não-supervisionado (clustering). Neste desafio será aplicada a classificação, pois é disponível um dataset já com \"labels\", ou em outras palavras, já com exemplos de dados juntamente com a variável alvo.\n",
        "\n",
        "Na biblioteca scikit-learn temos diversos algoritmos para classificação. O participante é livre para utilizar o framework que desejar para completar esse desafio.\n",
        "\n",
        "A coluna-alvo neste desafio é a coluna ``categoria``."
      ]
    },
    {
      "cell_type": "markdown",
      "metadata": {
        "id": "RvZqK0Ssjof2"
      },
      "source": [
        "<hr>"
      ]
    },
    {
      "cell_type": "markdown",
      "metadata": {
        "id": "UqvlZqqMjof4"
      },
      "source": [
        "## Pré-processando o dataset antes do treinamento"
      ]
    },
    {
      "cell_type": "markdown",
      "metadata": {
        "id": "Y2VmrAUOjof6"
      },
      "source": [
        "### Eliminando colunas indesejadas\n",
        "\n",
        "Vamos **demonstrar** abaixo como usar o método **DataFrame.drop()**.\n",
        "\n",
        "Docs: https://pandas.pydata.org/pandas-docs/stable/reference/api/pandas.DataFrame.drop.html"
      ]
    },
    {
      "cell_type": "code",
      "metadata": {
        "colab": {
          "base_uri": "https://localhost:8080/",
          "height": 283
        },
        "id": "SIYcNHb9lCEL",
        "outputId": "fc611017-61b0-4f19-8345-c5f940f397c1"
      },
      "source": [
        "plt.figure(figsize=(28, 6))\r\n",
        "corrMatrix = df_training_dataset_1.corr()\r\n",
        "sns.heatmap(corrMatrix, annot=True)\r\n",
        "plt.show()"
      ],
      "execution_count": null,
      "outputs": [
        {
          "output_type": "display_data",
          "data": {
            "image/png": "[encoded data removed]",
            "text/plain": [
              "<Figure size 2016x432 with 2 Axes>"
            ]
          },
          "metadata": {
            "tags": [],
            "needs_background": "light"
          }
        }
      ]
    },
    {
      "cell_type": "markdown",
      "metadata": {
        "id": "0OLFF6RajbDb"
      },
      "source": [
        "De acordo com a matriz de correlação, as variáveis ``pretende_fazer_cursos_lit`` e ``interesse_mba_lit`` tem completa relação entre si, assim como possuem alta correlação as variáveis: ``total_modulos``, ``modulos_iniciados`` e ``modulos_finalizados``. Por este motivo, são removidas algumas destas colunas redundantes. Percebe-se também que a coluna ``id`` é própria de cada aluno, não interferindo em seus perfis.\r\n",
        "\r\n",
        "Analisando as colunas de variáveis do tipo *string* e o próposito da plataforma LIT, é possível concluir que alguma destas colunas não fazem, necessariamente, diferença no perfil do aluno. Por ser uma plataforma focada em cursos online e MBA, as profissões dos alunos deve influenciar em seus perfis, visto que a busca pelo LIT provavelmente possui foco profissional e não-acadêmico.\r\n",
        "\r\n",
        "Foram testadas várias combinações de colunas categóricas para a determinação do modelo de aprendizado de máquina, mas o dataset final utilizado só utilizou a coluna ``profissao``."
      ]
    },
    {
      "cell_type": "code",
      "metadata": {
        "id": "ekDAqt7kjof3",
        "colab": {
          "base_uri": "https://localhost:8080/",
          "height": 195
        },
        "outputId": "56f0da1b-7e58-40fe-dfb5-8e23747e6455"
      },
      "source": [
        "df1 = df_training_dataset_1.drop(['id',\n",
        "               'graduacao',\n",
        "               'universidade',\n",
        "               'organizacao',\n",
        "               'modulos_iniciados',\n",
        "               'pretende_fazer_cursos_lit',\n",
        "               'total_modulos',\n",
        "               'como_conheceu_lit'], axis=1)\n",
        "df1.head()"
      ],
      "execution_count": null,
      "outputs": [
        {
          "output_type": "execute_result",
          "data": {
            "text/html": [
              "<div>\n",
              "<style scoped>\n",
              "    .dataframe tbody tr th:only-of-type {\n",
              "        vertical-align: middle;\n",
              "    }\n",
              "\n",
              "    .dataframe tbody tr th {\n",
              "        vertical-align: top;\n",
              "    }\n",
              "\n",
              "    .dataframe thead th {\n",
              "        text-align: right;\n",
              "    }\n",
              "</style>\n",
              "<table border=\"1\" class=\"dataframe\">\n",
              "  <thead>\n",
              "    <tr style=\"text-align: right;\">\n",
              "      <th></th>\n",
              "      <th>profissao</th>\n",
              "      <th>interesse_mba_lit</th>\n",
              "      <th>horas_semanais_estudo</th>\n",
              "      <th>modulos_finalizados</th>\n",
              "      <th>certificados</th>\n",
              "      <th>categoria</th>\n",
              "    </tr>\n",
              "  </thead>\n",
              "  <tbody>\n",
              "    <tr>\n",
              "      <th>0</th>\n",
              "      <td>Analista Senior</td>\n",
              "      <td>1.0</td>\n",
              "      <td>6.0</td>\n",
              "      <td>4.0</td>\n",
              "      <td>0.0</td>\n",
              "      <td>perfil6</td>\n",
              "    </tr>\n",
              "    <tr>\n",
              "      <th>1</th>\n",
              "      <td>Supervisor</td>\n",
              "      <td>0.0</td>\n",
              "      <td>6.0</td>\n",
              "      <td>34.0</td>\n",
              "      <td>0.0</td>\n",
              "      <td>perfil2</td>\n",
              "    </tr>\n",
              "    <tr>\n",
              "      <th>2</th>\n",
              "      <td>Outros</td>\n",
              "      <td>1.0</td>\n",
              "      <td>10.0</td>\n",
              "      <td>27.0</td>\n",
              "      <td>0.0</td>\n",
              "      <td>perfil2</td>\n",
              "    </tr>\n",
              "    <tr>\n",
              "      <th>3</th>\n",
              "      <td>Outros</td>\n",
              "      <td>1.0</td>\n",
              "      <td>5.0</td>\n",
              "      <td>6.0</td>\n",
              "      <td>0.0</td>\n",
              "      <td>perfil5</td>\n",
              "    </tr>\n",
              "    <tr>\n",
              "      <th>4</th>\n",
              "      <td>SEM EXPERIÊNCIA</td>\n",
              "      <td>0.0</td>\n",
              "      <td>7.0</td>\n",
              "      <td>44.0</td>\n",
              "      <td>0.0</td>\n",
              "      <td>perfil2</td>\n",
              "    </tr>\n",
              "  </tbody>\n",
              "</table>\n",
              "</div>"
            ],
            "text/plain": [
              "         profissao  interesse_mba_lit  ...  certificados  categoria\n",
              "0  Analista Senior                1.0  ...           0.0    perfil6\n",
              "1       Supervisor                0.0  ...           0.0    perfil2\n",
              "2           Outros                1.0  ...           0.0    perfil2\n",
              "3           Outros                1.0  ...           0.0    perfil5\n",
              "4  SEM EXPERIÊNCIA                0.0  ...           0.0    perfil2\n",
              "\n",
              "[5 rows x 6 columns]"
            ]
          },
          "metadata": {
            "tags": []
          },
          "execution_count": 12
        }
      ]
    },
    {
      "cell_type": "markdown",
      "metadata": {
        "id": "rRetPRn9jof4"
      },
      "source": [
        "### Removendo todas as linhas que possuem algum valor nulos em determinadas colunas"
      ]
    },
    {
      "cell_type": "markdown",
      "metadata": {
        "id": "TkCa9QZijof4"
      },
      "source": [
        "Usando o método Pandas **DataFrame.dropna()** você pode remover todas as linhas nulas do dataset.\n",
        "\n",
        "Docs: https://pandas.pydata.org/pandas-docs/stable/reference/api/pandas.DataFrame.dropna.html"
      ]
    },
    {
      "cell_type": "code",
      "metadata": {
        "id": "F2aGVSfLjof5",
        "colab": {
          "base_uri": "https://localhost:8080/"
        },
        "outputId": "0f1659c2-92f6-4ab0-baa9-15c057371255"
      },
      "source": [
        "# Exibindo os dados ausentes do conjunto de dados antes da primeira transformação (df)\n",
        "print(\"Valores nulos no df_training_dataset antes da transformação DropNA: \\n\\n{}\\n\".format(df1.isnull().sum(axis = 0)))"
      ],
      "execution_count": null,
      "outputs": [
        {
          "output_type": "stream",
          "text": [
            "Valores nulos no df_training_dataset antes da transformação DropNA: \n",
            "\n",
            "profissao                1880\n",
            "interesse_mba_lit        1854\n",
            "horas_semanais_estudo    1898\n",
            "modulos_finalizados      1933\n",
            "certificados             1878\n",
            "categoria                   0\n",
            "dtype: int64\n",
            "\n"
          ],
          "name": "stdout"
        }
      ]
    },
    {
      "cell_type": "code",
      "metadata": {
        "id": "1ocaPAwCjof3"
      },
      "source": [
        "df2 = df1.dropna()"
      ],
      "execution_count": null,
      "outputs": []
    },
    {
      "cell_type": "code",
      "metadata": {
        "scrolled": true,
        "id": "AxVwmYnhjof5",
        "colab": {
          "base_uri": "https://localhost:8080/"
        },
        "outputId": "60d70663-b04e-4257-9245-0eece41c9022"
      },
      "source": [
        "# Exibindo os dados ausentes do conjunto de dados após a primeira transformação (df)\n",
        "print(\"Valores nulos no df_training_dataset após a transformação DropNA: \\n\\n{}\\n\".format(df2.isnull().sum(axis = 0)))"
      ],
      "execution_count": null,
      "outputs": [
        {
          "output_type": "stream",
          "text": [
            "Valores nulos no df_training_dataset após a transformação DropNA: \n",
            "\n",
            "profissao                0\n",
            "interesse_mba_lit        0\n",
            "horas_semanais_estudo    0\n",
            "modulos_finalizados      0\n",
            "certificados             0\n",
            "categoria                0\n",
            "dtype: int64\n",
            "\n"
          ],
          "name": "stdout"
        }
      ]
    },
    {
      "cell_type": "code",
      "metadata": {
        "id": "32N01Y5mjof4",
        "colab": {
          "base_uri": "https://localhost:8080/",
          "height": 195
        },
        "outputId": "ed053a20-c52e-48bc-f8fb-1433db383ade"
      },
      "source": [
        "df2.head()"
      ],
      "execution_count": null,
      "outputs": [
        {
          "output_type": "execute_result",
          "data": {
            "text/html": [
              "<div>\n",
              "<style scoped>\n",
              "    .dataframe tbody tr th:only-of-type {\n",
              "        vertical-align: middle;\n",
              "    }\n",
              "\n",
              "    .dataframe tbody tr th {\n",
              "        vertical-align: top;\n",
              "    }\n",
              "\n",
              "    .dataframe thead th {\n",
              "        text-align: right;\n",
              "    }\n",
              "</style>\n",
              "<table border=\"1\" class=\"dataframe\">\n",
              "  <thead>\n",
              "    <tr style=\"text-align: right;\">\n",
              "      <th></th>\n",
              "      <th>profissao</th>\n",
              "      <th>interesse_mba_lit</th>\n",
              "      <th>horas_semanais_estudo</th>\n",
              "      <th>modulos_finalizados</th>\n",
              "      <th>certificados</th>\n",
              "      <th>categoria</th>\n",
              "    </tr>\n",
              "  </thead>\n",
              "  <tbody>\n",
              "    <tr>\n",
              "      <th>0</th>\n",
              "      <td>Analista Senior</td>\n",
              "      <td>1.0</td>\n",
              "      <td>6.0</td>\n",
              "      <td>4.0</td>\n",
              "      <td>0.0</td>\n",
              "      <td>perfil6</td>\n",
              "    </tr>\n",
              "    <tr>\n",
              "      <th>1</th>\n",
              "      <td>Supervisor</td>\n",
              "      <td>0.0</td>\n",
              "      <td>6.0</td>\n",
              "      <td>34.0</td>\n",
              "      <td>0.0</td>\n",
              "      <td>perfil2</td>\n",
              "    </tr>\n",
              "    <tr>\n",
              "      <th>2</th>\n",
              "      <td>Outros</td>\n",
              "      <td>1.0</td>\n",
              "      <td>10.0</td>\n",
              "      <td>27.0</td>\n",
              "      <td>0.0</td>\n",
              "      <td>perfil2</td>\n",
              "    </tr>\n",
              "    <tr>\n",
              "      <th>3</th>\n",
              "      <td>Outros</td>\n",
              "      <td>1.0</td>\n",
              "      <td>5.0</td>\n",
              "      <td>6.0</td>\n",
              "      <td>0.0</td>\n",
              "      <td>perfil5</td>\n",
              "    </tr>\n",
              "    <tr>\n",
              "      <th>4</th>\n",
              "      <td>SEM EXPERIÊNCIA</td>\n",
              "      <td>0.0</td>\n",
              "      <td>7.0</td>\n",
              "      <td>44.0</td>\n",
              "      <td>0.0</td>\n",
              "      <td>perfil2</td>\n",
              "    </tr>\n",
              "  </tbody>\n",
              "</table>\n",
              "</div>"
            ],
            "text/plain": [
              "         profissao  interesse_mba_lit  ...  certificados  categoria\n",
              "0  Analista Senior                1.0  ...           0.0    perfil6\n",
              "1       Supervisor                0.0  ...           0.0    perfil2\n",
              "2           Outros                1.0  ...           0.0    perfil2\n",
              "3           Outros                1.0  ...           0.0    perfil5\n",
              "4  SEM EXPERIÊNCIA                0.0  ...           0.0    perfil2\n",
              "\n",
              "[5 rows x 6 columns]"
            ]
          },
          "metadata": {
            "tags": []
          },
          "execution_count": 19
        }
      ]
    },
    {
      "cell_type": "markdown",
      "metadata": {
        "id": "8-0hSXrLjof8"
      },
      "source": [
        "### Tratamento de de variáveis categóricas\n",
        "\n",
        "Os  modelos de predição não são bons com variáveis categóricas (ou *strings*). Dado uma coluna com variável categórica, o que podemos realizar é a codificação dessa coluna em múltiplas colunas contendo variáveis binárias. Esse processo é chamado de *one-hot-encoding* ou *dummy encoding*."
      ]
    },
    {
      "cell_type": "code",
      "metadata": {
        "id": "oKKoELvWjof3",
        "colab": {
          "base_uri": "https://localhost:8080/",
          "height": 232
        },
        "outputId": "6f6afc7e-eee5-4ce3-f38c-8295d58cdc71"
      },
      "source": [
        "df3 = pd.get_dummies(df2, columns=['profissao'])\n",
        "df3.head()"
      ],
      "execution_count": null,
      "outputs": [
        {
          "output_type": "execute_result",
          "data": {
            "text/html": [
              "<div>\n",
              "<style scoped>\n",
              "    .dataframe tbody tr th:only-of-type {\n",
              "        vertical-align: middle;\n",
              "    }\n",
              "\n",
              "    .dataframe tbody tr th {\n",
              "        vertical-align: top;\n",
              "    }\n",
              "\n",
              "    .dataframe thead th {\n",
              "        text-align: right;\n",
              "    }\n",
              "</style>\n",
              "<table border=\"1\" class=\"dataframe\">\n",
              "  <thead>\n",
              "    <tr style=\"text-align: right;\">\n",
              "      <th></th>\n",
              "      <th>interesse_mba_lit</th>\n",
              "      <th>horas_semanais_estudo</th>\n",
              "      <th>modulos_finalizados</th>\n",
              "      <th>certificados</th>\n",
              "      <th>categoria</th>\n",
              "      <th>profissao_Advogado</th>\n",
              "      <th>profissao_Analista</th>\n",
              "      <th>profissao_Analista Senior</th>\n",
              "      <th>profissao_Assessor</th>\n",
              "      <th>profissao_Coordenador</th>\n",
              "      <th>profissao_Diretor</th>\n",
              "      <th>profissao_Engenheiro</th>\n",
              "      <th>profissao_Gerente</th>\n",
              "      <th>profissao_Outros</th>\n",
              "      <th>profissao_SEM EXPERIÊNCIA</th>\n",
              "      <th>profissao_Supervisor</th>\n",
              "      <th>profissao_Sócio/Dono/Proprietário</th>\n",
              "    </tr>\n",
              "  </thead>\n",
              "  <tbody>\n",
              "    <tr>\n",
              "      <th>0</th>\n",
              "      <td>1.0</td>\n",
              "      <td>6.0</td>\n",
              "      <td>4.0</td>\n",
              "      <td>0.0</td>\n",
              "      <td>perfil6</td>\n",
              "      <td>0</td>\n",
              "      <td>0</td>\n",
              "      <td>1</td>\n",
              "      <td>0</td>\n",
              "      <td>0</td>\n",
              "      <td>0</td>\n",
              "      <td>0</td>\n",
              "      <td>0</td>\n",
              "      <td>0</td>\n",
              "      <td>0</td>\n",
              "      <td>0</td>\n",
              "      <td>0</td>\n",
              "    </tr>\n",
              "    <tr>\n",
              "      <th>1</th>\n",
              "      <td>0.0</td>\n",
              "      <td>6.0</td>\n",
              "      <td>34.0</td>\n",
              "      <td>0.0</td>\n",
              "      <td>perfil2</td>\n",
              "      <td>0</td>\n",
              "      <td>0</td>\n",
              "      <td>0</td>\n",
              "      <td>0</td>\n",
              "      <td>0</td>\n",
              "      <td>0</td>\n",
              "      <td>0</td>\n",
              "      <td>0</td>\n",
              "      <td>0</td>\n",
              "      <td>0</td>\n",
              "      <td>1</td>\n",
              "      <td>0</td>\n",
              "    </tr>\n",
              "    <tr>\n",
              "      <th>2</th>\n",
              "      <td>1.0</td>\n",
              "      <td>10.0</td>\n",
              "      <td>27.0</td>\n",
              "      <td>0.0</td>\n",
              "      <td>perfil2</td>\n",
              "      <td>0</td>\n",
              "      <td>0</td>\n",
              "      <td>0</td>\n",
              "      <td>0</td>\n",
              "      <td>0</td>\n",
              "      <td>0</td>\n",
              "      <td>0</td>\n",
              "      <td>0</td>\n",
              "      <td>1</td>\n",
              "      <td>0</td>\n",
              "      <td>0</td>\n",
              "      <td>0</td>\n",
              "    </tr>\n",
              "    <tr>\n",
              "      <th>3</th>\n",
              "      <td>1.0</td>\n",
              "      <td>5.0</td>\n",
              "      <td>6.0</td>\n",
              "      <td>0.0</td>\n",
              "      <td>perfil5</td>\n",
              "      <td>0</td>\n",
              "      <td>0</td>\n",
              "      <td>0</td>\n",
              "      <td>0</td>\n",
              "      <td>0</td>\n",
              "      <td>0</td>\n",
              "      <td>0</td>\n",
              "      <td>0</td>\n",
              "      <td>1</td>\n",
              "      <td>0</td>\n",
              "      <td>0</td>\n",
              "      <td>0</td>\n",
              "    </tr>\n",
              "    <tr>\n",
              "      <th>4</th>\n",
              "      <td>0.0</td>\n",
              "      <td>7.0</td>\n",
              "      <td>44.0</td>\n",
              "      <td>0.0</td>\n",
              "      <td>perfil2</td>\n",
              "      <td>0</td>\n",
              "      <td>0</td>\n",
              "      <td>0</td>\n",
              "      <td>0</td>\n",
              "      <td>0</td>\n",
              "      <td>0</td>\n",
              "      <td>0</td>\n",
              "      <td>0</td>\n",
              "      <td>0</td>\n",
              "      <td>1</td>\n",
              "      <td>0</td>\n",
              "      <td>0</td>\n",
              "    </tr>\n",
              "  </tbody>\n",
              "</table>\n",
              "</div>"
            ],
            "text/plain": [
              "   interesse_mba_lit  ...  profissao_Sócio/Dono/Proprietário\n",
              "0                1.0  ...                                  0\n",
              "1                0.0  ...                                  0\n",
              "2                1.0  ...                                  0\n",
              "3                1.0  ...                                  0\n",
              "4                0.0  ...                                  0\n",
              "\n",
              "[5 rows x 17 columns]"
            ]
          },
          "metadata": {
            "tags": []
          },
          "execution_count": 16
        }
      ]
    },
    {
      "cell_type": "markdown",
      "metadata": {
        "id": "2URvQPYnjof-"
      },
      "source": [
        "<hr>"
      ]
    },
    {
      "cell_type": "markdown",
      "metadata": {
        "id": "CiMVOrKQjof-"
      },
      "source": [
        "## Treinando um classificador com base em um XGBoost Classifier"
      ]
    },
    {
      "cell_type": "markdown",
      "metadata": {
        "id": "D2xsWnZJjof-"
      },
      "source": [
        "### Selecionando FEATURES e definindo a variável TARGET\r\n",
        "\r\n",
        "Antes de iniciar o treinamento do modelo de classificação, é necessário dividir as variáveis do dataset entre *features* (variáveis-características) e *target* (variável-alvo)."
      ]
    },
    {
      "cell_type": "code",
      "metadata": {
        "id": "IURvKFk0jof_",
        "colab": {
          "base_uri": "https://localhost:8080/"
        },
        "outputId": "10c0ca66-e9e1-4b97-d82c-2449c650be6c"
      },
      "source": [
        "df3.columns"
      ],
      "execution_count": null,
      "outputs": [
        {
          "output_type": "execute_result",
          "data": {
            "text/plain": [
              "Index(['interesse_mba_lit', 'horas_semanais_estudo', 'modulos_finalizados',\n",
              "       'certificados', 'categoria', 'profissao_Advogado', 'profissao_Analista',\n",
              "       'profissao_Analista Senior', 'profissao_Assessor',\n",
              "       'profissao_Coordenador', 'profissao_Diretor', 'profissao_Engenheiro',\n",
              "       'profissao_Gerente', 'profissao_Outros', 'profissao_SEM EXPERIÊNCIA',\n",
              "       'profissao_Supervisor', 'profissao_Sócio/Dono/Proprietário'],\n",
              "      dtype='object')"
            ]
          },
          "metadata": {
            "tags": []
          },
          "execution_count": 17
        }
      ]
    },
    {
      "cell_type": "code",
      "metadata": {
        "id": "-oULsf-4jof_"
      },
      "source": [
        "features = df3[\n",
        "    [\n",
        "       'interesse_mba_lit', 'horas_semanais_estudo', 'modulos_finalizados',\n",
        "       'certificados', 'profissao_Advogado', 'profissao_Analista',\n",
        "       'profissao_Analista Senior', 'profissao_Assessor',\n",
        "       'profissao_Coordenador', 'profissao_Diretor', 'profissao_Engenheiro',\n",
        "       'profissao_Gerente', 'profissao_Outros', 'profissao_SEM EXPERIÊNCIA',\n",
        "       'profissao_Supervisor', 'profissao_Sócio/Dono/Proprietário'\n",
        "    ]\n",
        "]\n",
        "target = df3['categoria']"
      ],
      "execution_count": null,
      "outputs": []
    },
    {
      "cell_type": "markdown",
      "metadata": {
        "id": "hrB4k1q8jof_"
      },
      "source": [
        "### Dividindo nosso conjunto de dados em conjuntos de treinamento e teste\r\n",
        "\r\n",
        "Então, é necessário dividir o conjunto de dados em conjunto de treinamento e conjunto de teste:"
      ]
    },
    {
      "cell_type": "code",
      "metadata": {
        "id": "LO2KxDTFjogA"
      },
      "source": [
        "from sklearn.model_selection import train_test_split\n",
        "\n",
        "X_train, X_test, y_train, y_test = train_test_split(features, target, test_size=0.25, random_state=42)"
      ],
      "execution_count": null,
      "outputs": []
    },
    {
      "cell_type": "markdown",
      "metadata": {
        "id": "lzElFZHraK0N"
      },
      "source": [
        "Não foi utilizada nenhuma técnica de balanceamento do conjunto de dados (*Smote*, *Tomek*, etc.), pois em testes de modelos foi determinado que estas técnicas não aumentavam significativamente a acurácia e/ou o *F1-Score* do modelo."
      ]
    },
    {
      "cell_type": "markdown",
      "metadata": {
        "id": "pbTcIX_KjogA"
      },
      "source": [
        "### Definindo um modelo de árvore de decisão XGBoost\r\n",
        "\r\n",
        "Para garantir um modelo otimizado é possível utilizar o ``RandomizedSearchCV``, uma função que permite uma pesquisa randomizada do melhor modelo a ser utilizado, de acordo com uma série de valores definidos pelo usuários para os hiper-parâmetros. Foi escolhida esta função de pesquisa pois não é tão demorada quanto o ``GridSearchCV``, que faz uma busca mais extensa."
      ]
    },
    {
      "cell_type": "code",
      "metadata": {
        "id": "0fYuyzmyaoR7"
      },
      "source": [
        "from sklearn.model_selection import RandomizedSearchCV"
      ],
      "execution_count": null,
      "outputs": []
    },
    {
      "cell_type": "markdown",
      "metadata": {
        "id": "jDk_Sv4_cfg7"
      },
      "source": [
        "Os parâmetros e valores para a determinação do melhor modelo possível são os seguintes:"
      ]
    },
    {
      "cell_type": "code",
      "metadata": {
        "id": "DopSDVjXarU5"
      },
      "source": [
        "params = {\r\n",
        "        'learning_rate': [0.05, 0.10, 0.15, 0.20],\r\n",
        "        'min_child_weight': [1, 3, 5, 7, 15, 30, 60, 90],\r\n",
        "        'gamma': [0.5, 1, 1.5, 2, 5],\r\n",
        "        'colsample_bytree': [0.6, 0.8, 1.0],\r\n",
        "        'max_depth': [3, 2, 4, 5, 6, 7, 8],\r\n",
        "        'n_estimators': [100,300,500,700,900, 1100],\r\n",
        "        'objective': ['multi:logistic']\r\n",
        "        }"
      ],
      "execution_count": null,
      "outputs": []
    },
    {
      "cell_type": "markdown",
      "metadata": {
        "id": "C49sEkTac4MA"
      },
      "source": [
        "O classificador utilizado é o ``XGBClassifier``, por 600 iterações, *cross-validation* = 5 (3000 iterações totais) e o valor que se busca otimizar é o *F1-Score*."
      ]
    },
    {
      "cell_type": "code",
      "metadata": {
        "id": "QCyqXqiTaxaF"
      },
      "source": [
        "classifier = XGBClassifier()\r\n",
        "\r\n",
        "random_search_f1 = RandomizedSearchCV(classifier, param_distributions=params, n_iter=600, scoring='f1_weighted', cv=5, verbose=3, n_jobs=-1)"
      ],
      "execution_count": null,
      "outputs": []
    },
    {
      "cell_type": "markdown",
      "metadata": {
        "id": "5Xo6sGyodF98"
      },
      "source": [
        "Para encontrar o modelo ideal entre os possíveis com estes parâmetros, é utilizado o conjunto de dados inteiro, não apenas o de treinamento. Aplica-se o método a seguir:"
      ]
    },
    {
      "cell_type": "code",
      "metadata": {
        "id": "gasbvhs7azhl"
      },
      "source": [
        "X = df3.drop(['categoria'], axis=1).to_numpy()\r\n",
        "y = df3['categoria'].to_numpy()\r\n",
        "\r\n",
        "random_search_f1.fit(X, y)"
      ],
      "execution_count": null,
      "outputs": []
    },
    {
      "cell_type": "code",
      "metadata": {
        "id": "gI09ua9laz_T"
      },
      "source": [
        "random_search_f1.best_estimator_"
      ],
      "execution_count": null,
      "outputs": []
    },
    {
      "cell_type": "markdown",
      "metadata": {
        "id": "z9NssEVRdpy4"
      },
      "source": [
        "O modelo encontrado é demonstrado na célula seguinte. As células anteriores, do processo de pesquisa do modelo ideal, foram rodadas em um *notebook* diferente, e não serão rodadas neste pois é um processo demorado."
      ]
    },
    {
      "cell_type": "code",
      "metadata": {
        "id": "6EL3VoI0jogB"
      },
      "source": [
        "boost_model = XGBClassifier(colsample_bytree=0.8, gamma=1.5,\n",
        "              learning_rate=0.15, max_depth=6,\n",
        "              min_child_weight=15,\n",
        "              n_estimators=300, n_jobs=-1,\n",
        "              objective='multi:logistic',\n",
        "              random_state=0)"
      ],
      "execution_count": null,
      "outputs": []
    },
    {
      "cell_type": "markdown",
      "metadata": {
        "id": "EEJVRzn5jogB"
      },
      "source": [
        "### Fazendo previsões na amostra de teste\r\n",
        "\r\n",
        "Com o modelo definido, inicia-se o treinamento com os dataset ``X_train`` e ``y_train``, seguido da predição do y utilizando as variáveis ``X_test``."
      ]
    },
    {
      "cell_type": "code",
      "metadata": {
        "id": "OJ8w8X23jogC",
        "outputId": "b04517e2-f3c0-4b75-f79d-13934bfaff7b"
      },
      "source": [
        "y_pred = boost_model.fit(X_train, y_train).predict(X_test)\n",
        "print(y_pred)"
      ],
      "execution_count": null,
      "outputs": [
        {
          "output_type": "stream",
          "text": [
            "['perfil6' 'perfil1' 'perfil6' ... 'perfil6' 'perfil3' 'perfil1']\n"
          ],
          "name": "stdout"
        }
      ]
    },
    {
      "cell_type": "markdown",
      "metadata": {
        "id": "6aCXWj9PjogC"
      },
      "source": [
        "### Analisando a qualidade do modelo através da matriz de confusão\r\n",
        "\r\n",
        "A função abaixo é escrita para a plotagem da matriz de confusão:"
      ]
    },
    {
      "cell_type": "code",
      "metadata": {
        "id": "m6sELcxTjogC"
      },
      "source": [
        "def plot_confusion_matrix(cm, target_names, title='Confusion matrix', cmap=None, normalize=True):\n",
        "    accuracy = np.trace(cm) / float(np.sum(cm))\n",
        "    misclass = 1 - accuracy\n",
        "    if cmap is None:\n",
        "        cmap = plt.get_cmap('Blues')\n",
        "    plt.figure(figsize=(8, 6))\n",
        "    plt.imshow(cm, interpolation='nearest', cmap=cmap)\n",
        "    plt.title(title)\n",
        "    plt.colorbar()\n",
        "    if target_names is not None:\n",
        "        tick_marks = np.arange(len(target_names))\n",
        "        plt.xticks(tick_marks, target_names, rotation=45)\n",
        "        plt.yticks(tick_marks, target_names)\n",
        "    if normalize:\n",
        "        cm = cm.astype('float') / cm.sum(axis=1)[:, np.newaxis]\n",
        "    thresh = cm.max() / 1.5 if normalize else cm.max() / 2\n",
        "    for i, j in itertools.product(range(cm.shape[0]), range(cm.shape[1])):\n",
        "        if normalize:\n",
        "            plt.text(j, i, \"{:0.4f}\".format(cm[i, j]),\n",
        "                     horizontalalignment=\"center\",\n",
        "                     color=\"white\" if cm[i, j] > thresh else \"black\")\n",
        "        else:\n",
        "            plt.text(j, i, \"{:,}\".format(cm[i, j]),\n",
        "                     horizontalalignment=\"center\",\n",
        "                     color=\"white\" if cm[i, j] > thresh else \"black\")\n",
        "    plt.tight_layout()\n",
        "    plt.ylabel('True label')\n",
        "    plt.xlabel('Predicted label\\naccuracy={:0.4f}; misclass={:0.4f}'.format(accuracy, misclass))\n",
        "    plt.show()"
      ],
      "execution_count": null,
      "outputs": []
    },
    {
      "cell_type": "markdown",
      "metadata": {
        "id": "R8rTLJn1hkPf"
      },
      "source": [
        "Comparando os vetores ``y_test`` e ``y_pred``, obtêm-se a matriz de confusão e o relatório de classificação seguintes:"
      ]
    },
    {
      "cell_type": "code",
      "metadata": {
        "id": "RcOYYV-rjogD",
        "outputId": "7dc59d8e-3105-4c44-a921-613deef8496c"
      },
      "source": [
        "plot_confusion_matrix(confusion_matrix(y_test, y_pred), ['perfil1', 'perfil2', 'perfil3', 'perfil4', 'perfil5', 'perfil6'])\n",
        "print(classification_report(y_test, y_pred))"
      ],
      "execution_count": null,
      "outputs": [
        {
          "output_type": "display_data",
          "data": {
            "image/png": "[encoded data removed]",
            "text/plain": [
              "<Figure size 576x432 with 2 Axes>"
            ]
          },
          "metadata": {
            "tags": [],
            "needs_background": "light"
          }
        },
        {
          "output_type": "stream",
          "text": [
            "              precision    recall  f1-score   support\n",
            "\n",
            "     perfil1       0.84      0.80      0.82       406\n",
            "     perfil2       0.85      0.86      0.85       626\n",
            "     perfil3       0.80      0.81      0.81       144\n",
            "     perfil4       0.84      0.83      0.84       262\n",
            "     perfil5       0.83      0.86      0.84       276\n",
            "     perfil6       0.85      0.86      0.86       674\n",
            "\n",
            "    accuracy                           0.84      2388\n",
            "   macro avg       0.84      0.84      0.84      2388\n",
            "weighted avg       0.84      0.84      0.84      2388\n",
            "\n"
          ],
          "name": "stdout"
        }
      ]
    },
    {
      "cell_type": "markdown",
      "metadata": {
        "id": "fzlFec3ih_wX"
      },
      "source": [
        "Percebe-se que foram obtidos valores adequados para todos os perfis de alunos do LIT, com os *F1-Score* variando entre 81 e 86% e uma acurácia total de 84%. \r\n",
        "\r\n",
        "Os maiores erros de classificação ocorrem entre os perfis 1, 2 e 6, como é possível visualizar na matriz de confusão. Para melhorar este modelo, o ideal é buscar características que diferenciem de melhor forma estes três perfis."
      ]
    },
    {
      "cell_type": "markdown",
      "metadata": {
        "id": "N1S8i7nPjogF"
      },
      "source": [
        "<hr>"
      ]
    },
    {
      "cell_type": "markdown",
      "metadata": {
        "id": "Hbw24kdDjogF"
      },
      "source": [
        "## Scoring dos dados necessários para entregar a solução"
      ]
    },
    {
      "cell_type": "markdown",
      "metadata": {
        "id": "X4H-72hvjogF"
      },
      "source": [
        "Como entrega da sua solução, esperamos os resultados classificados no seguinte dataset chamado \"to_be_scored.csv\":"
      ]
    },
    {
      "cell_type": "markdown",
      "metadata": {
        "id": "pOOpi-AAjogG"
      },
      "source": [
        "### Download da \"folha de respostas\""
      ]
    },
    {
      "cell_type": "code",
      "metadata": {
        "scrolled": false,
        "id": "Yo4HQop9jogG",
        "outputId": "55fd5093-35c5-4007-9886-1e6c5225c855"
      },
      "source": [
        "import urllib.request\n",
        "url = 'https://raw.githubusercontent.com/vanderlei-test/dataset-3/master/to_be_scored.csv'\n",
        "filename = 'to_be_scored.csv'\n",
        "urllib.request.urlretrieve(url, filename)\n",
        "\n",
        "df_to_be_scored = pd.read_csv(r'to_be_scored.csv')\n",
        "df_to_be_scored.tail()"
      ],
      "execution_count": null,
      "outputs": [
        {
          "output_type": "execute_result",
          "data": {
            "text/html": [
              "<div>\n",
              "<style scoped>\n",
              "    .dataframe tbody tr th:only-of-type {\n",
              "        vertical-align: middle;\n",
              "    }\n",
              "\n",
              "    .dataframe tbody tr th {\n",
              "        vertical-align: top;\n",
              "    }\n",
              "\n",
              "    .dataframe thead th {\n",
              "        text-align: right;\n",
              "    }\n",
              "</style>\n",
              "<table border=\"1\" class=\"dataframe\">\n",
              "  <thead>\n",
              "    <tr style=\"text-align: right;\">\n",
              "      <th></th>\n",
              "      <th>id</th>\n",
              "      <th>graduacao</th>\n",
              "      <th>universidade</th>\n",
              "      <th>profissao</th>\n",
              "      <th>organizacao</th>\n",
              "      <th>pretende_fazer_cursos_lit</th>\n",
              "      <th>interesse_mba_lit</th>\n",
              "      <th>importante_ter_certificado</th>\n",
              "      <th>horas_semanais_estudo</th>\n",
              "      <th>como_conheceu_lit</th>\n",
              "      <th>total_modulos</th>\n",
              "      <th>modulos_iniciados</th>\n",
              "      <th>modulos_finalizados</th>\n",
              "      <th>certificados</th>\n",
              "    </tr>\n",
              "  </thead>\n",
              "  <tbody>\n",
              "    <tr>\n",
              "      <th>995</th>\n",
              "      <td>741745189</td>\n",
              "      <td>SEM FORMAÇÃO</td>\n",
              "      <td>UNIVERSIDADE NOVE DE JULHO</td>\n",
              "      <td>Coordenador</td>\n",
              "      <td>Borracha</td>\n",
              "      <td>0</td>\n",
              "      <td>0</td>\n",
              "      <td>1</td>\n",
              "      <td>2</td>\n",
              "      <td>YouTube</td>\n",
              "      <td>245</td>\n",
              "      <td>63</td>\n",
              "      <td>45</td>\n",
              "      <td>1</td>\n",
              "    </tr>\n",
              "    <tr>\n",
              "      <th>996</th>\n",
              "      <td>996387882</td>\n",
              "      <td>Bacharelado</td>\n",
              "      <td>UFRN</td>\n",
              "      <td>Assessor</td>\n",
              "      <td>Estado</td>\n",
              "      <td>1</td>\n",
              "      <td>1</td>\n",
              "      <td>1</td>\n",
              "      <td>8</td>\n",
              "      <td>Google</td>\n",
              "      <td>163</td>\n",
              "      <td>111</td>\n",
              "      <td>96</td>\n",
              "      <td>0</td>\n",
              "    </tr>\n",
              "    <tr>\n",
              "      <th>997</th>\n",
              "      <td>668869418</td>\n",
              "      <td>Bacharelado</td>\n",
              "      <td>UFSCar</td>\n",
              "      <td>Gerente</td>\n",
              "      <td>Siderurgica</td>\n",
              "      <td>1</td>\n",
              "      <td>1</td>\n",
              "      <td>1</td>\n",
              "      <td>9</td>\n",
              "      <td>Facebook</td>\n",
              "      <td>56</td>\n",
              "      <td>10</td>\n",
              "      <td>4</td>\n",
              "      <td>0</td>\n",
              "    </tr>\n",
              "    <tr>\n",
              "      <th>998</th>\n",
              "      <td>676531718</td>\n",
              "      <td>Tecnólogo</td>\n",
              "      <td>FATEC</td>\n",
              "      <td>Outros</td>\n",
              "      <td>servicos</td>\n",
              "      <td>1</td>\n",
              "      <td>1</td>\n",
              "      <td>1</td>\n",
              "      <td>9</td>\n",
              "      <td>Mídia (revista/jornal/web)</td>\n",
              "      <td>138</td>\n",
              "      <td>60</td>\n",
              "      <td>30</td>\n",
              "      <td>0</td>\n",
              "    </tr>\n",
              "    <tr>\n",
              "      <th>999</th>\n",
              "      <td>388402340</td>\n",
              "      <td>Especialização</td>\n",
              "      <td>UNIP</td>\n",
              "      <td>Advogado</td>\n",
              "      <td>Montadora</td>\n",
              "      <td>0</td>\n",
              "      <td>0</td>\n",
              "      <td>1</td>\n",
              "      <td>9</td>\n",
              "      <td>Mídia (revista/jornal/web)</td>\n",
              "      <td>22</td>\n",
              "      <td>20</td>\n",
              "      <td>19</td>\n",
              "      <td>0</td>\n",
              "    </tr>\n",
              "  </tbody>\n",
              "</table>\n",
              "</div>"
            ],
            "text/plain": [
              "            id       graduacao                universidade    profissao  \\\n",
              "995  741745189    SEM FORMAÇÃO  UNIVERSIDADE NOVE DE JULHO  Coordenador   \n",
              "996  996387882     Bacharelado                        UFRN     Assessor   \n",
              "997  668869418     Bacharelado                      UFSCar      Gerente   \n",
              "998  676531718       Tecnólogo                       FATEC       Outros   \n",
              "999  388402340  Especialização                        UNIP     Advogado   \n",
              "\n",
              "     organizacao  pretende_fazer_cursos_lit  interesse_mba_lit  \\\n",
              "995     Borracha                          0                  0   \n",
              "996       Estado                          1                  1   \n",
              "997  Siderurgica                          1                  1   \n",
              "998     servicos                          1                  1   \n",
              "999    Montadora                          0                  0   \n",
              "\n",
              "     importante_ter_certificado  horas_semanais_estudo  \\\n",
              "995                           1                      2   \n",
              "996                           1                      8   \n",
              "997                           1                      9   \n",
              "998                           1                      9   \n",
              "999                           1                      9   \n",
              "\n",
              "              como_conheceu_lit  total_modulos  modulos_iniciados  \\\n",
              "995                     YouTube            245                 63   \n",
              "996                      Google            163                111   \n",
              "997                    Facebook             56                 10   \n",
              "998  Mídia (revista/jornal/web)            138                 60   \n",
              "999  Mídia (revista/jornal/web)             22                 20   \n",
              "\n",
              "     modulos_finalizados  certificados  \n",
              "995                   45             1  \n",
              "996                   96             0  \n",
              "997                    4             0  \n",
              "998                   30             0  \n",
              "999                   19             0  "
            ]
          },
          "metadata": {
            "tags": []
          },
          "execution_count": 16
        }
      ]
    },
    {
      "cell_type": "markdown",
      "metadata": {
        "id": "DuaHQxRjjogH"
      },
      "source": [
        "O dataframe ``to_be_scored`` é a \"folha de respostas\". A coluna \"categoria\" não existe nessa amostra."
      ]
    },
    {
      "cell_type": "code",
      "metadata": {
        "scrolled": true,
        "id": "RDgBCmZejogH",
        "outputId": "b72513c1-058a-4172-8237-4e691361c302"
      },
      "source": [
        "df_to_be_scored.info()"
      ],
      "execution_count": null,
      "outputs": [
        {
          "output_type": "stream",
          "text": [
            "<class 'pandas.core.frame.DataFrame'>\n",
            "RangeIndex: 1000 entries, 0 to 999\n",
            "Data columns (total 14 columns):\n",
            " #   Column                      Non-Null Count  Dtype \n",
            "---  ------                      --------------  ----- \n",
            " 0   id                          1000 non-null   int64 \n",
            " 1   graduacao                   1000 non-null   object\n",
            " 2   universidade                1000 non-null   object\n",
            " 3   profissao                   1000 non-null   object\n",
            " 4   organizacao                 1000 non-null   object\n",
            " 5   pretende_fazer_cursos_lit   1000 non-null   int64 \n",
            " 6   interesse_mba_lit           1000 non-null   int64 \n",
            " 7   importante_ter_certificado  1000 non-null   int64 \n",
            " 8   horas_semanais_estudo       1000 non-null   int64 \n",
            " 9   como_conheceu_lit           1000 non-null   object\n",
            " 10  total_modulos               1000 non-null   int64 \n",
            " 11  modulos_iniciados           1000 non-null   int64 \n",
            " 12  modulos_finalizados         1000 non-null   int64 \n",
            " 13  certificados                1000 non-null   int64 \n",
            "dtypes: int64(9), object(5)\n",
            "memory usage: 109.5+ KB\n"
          ],
          "name": "stdout"
        }
      ]
    },
    {
      "cell_type": "markdown",
      "metadata": {
        "id": "gUSnL04zjogH"
      },
      "source": [
        "\n",
        "Para poder aplicar o modelo e classificar a folha de respostas, é preciso primeiro aplicar as mesmas transformações com colunas aplicadas no dataset de treino, menos a remoção de linhas da folha de respostas. Ao final, as 1000 entradas devem estar classificadas, com os valores previstos em uma coluna chamada \"target\".\n",
        "\n"
      ]
    },
    {
      "cell_type": "markdown",
      "metadata": {
        "id": "dNLul5JwjogH"
      },
      "source": [
        "Na célula abaixo, repetimos rapidamente os mesmos passos de pré-processamento utilizados no modelo treinado XGBoost."
      ]
    },
    {
      "cell_type": "code",
      "metadata": {
        "id": "vD_csydbjogI",
        "outputId": "93e1d0d0-556a-4c4c-fe26-4e279b6447f3"
      },
      "source": [
        "# 1 - Remoção de colunas\n",
        "df_to_be_scored_1 = df_to_be_scored.drop(['id',\n",
        "               'graduacao',\n",
        "               'universidade',\n",
        "               'organizacao',\n",
        "               'importante_ter_certificado',\n",
        "               'modulos_iniciados',\n",
        "               'pretende_fazer_cursos_lit',\n",
        "               'total_modulos',\n",
        "               'como_conheceu_lit'], axis=1)\n",
        "\n",
        "# 2 - Encoding com \"dummy variables\"\n",
        "df_to_be_scored_2 = pd.get_dummies(df_to_be_scored_1, columns=['profissao'])\n",
        "df_to_be_scored_2.tail()"
      ],
      "execution_count": null,
      "outputs": [
        {
          "output_type": "execute_result",
          "data": {
            "text/html": [
              "<div>\n",
              "<style scoped>\n",
              "    .dataframe tbody tr th:only-of-type {\n",
              "        vertical-align: middle;\n",
              "    }\n",
              "\n",
              "    .dataframe tbody tr th {\n",
              "        vertical-align: top;\n",
              "    }\n",
              "\n",
              "    .dataframe thead th {\n",
              "        text-align: right;\n",
              "    }\n",
              "</style>\n",
              "<table border=\"1\" class=\"dataframe\">\n",
              "  <thead>\n",
              "    <tr style=\"text-align: right;\">\n",
              "      <th></th>\n",
              "      <th>interesse_mba_lit</th>\n",
              "      <th>horas_semanais_estudo</th>\n",
              "      <th>modulos_finalizados</th>\n",
              "      <th>certificados</th>\n",
              "      <th>profissao_Advogado</th>\n",
              "      <th>profissao_Analista</th>\n",
              "      <th>profissao_Analista Senior</th>\n",
              "      <th>profissao_Assessor</th>\n",
              "      <th>profissao_Coordenador</th>\n",
              "      <th>profissao_Diretor</th>\n",
              "      <th>profissao_Engenheiro</th>\n",
              "      <th>profissao_Gerente</th>\n",
              "      <th>profissao_Outros</th>\n",
              "      <th>profissao_SEM EXPERIÊNCIA</th>\n",
              "      <th>profissao_Supervisor</th>\n",
              "      <th>profissao_Sócio/Dono/Proprietário</th>\n",
              "    </tr>\n",
              "  </thead>\n",
              "  <tbody>\n",
              "    <tr>\n",
              "      <th>995</th>\n",
              "      <td>0</td>\n",
              "      <td>2</td>\n",
              "      <td>45</td>\n",
              "      <td>1</td>\n",
              "      <td>0</td>\n",
              "      <td>0</td>\n",
              "      <td>0</td>\n",
              "      <td>0</td>\n",
              "      <td>1</td>\n",
              "      <td>0</td>\n",
              "      <td>0</td>\n",
              "      <td>0</td>\n",
              "      <td>0</td>\n",
              "      <td>0</td>\n",
              "      <td>0</td>\n",
              "      <td>0</td>\n",
              "    </tr>\n",
              "    <tr>\n",
              "      <th>996</th>\n",
              "      <td>1</td>\n",
              "      <td>8</td>\n",
              "      <td>96</td>\n",
              "      <td>0</td>\n",
              "      <td>0</td>\n",
              "      <td>0</td>\n",
              "      <td>0</td>\n",
              "      <td>1</td>\n",
              "      <td>0</td>\n",
              "      <td>0</td>\n",
              "      <td>0</td>\n",
              "      <td>0</td>\n",
              "      <td>0</td>\n",
              "      <td>0</td>\n",
              "      <td>0</td>\n",
              "      <td>0</td>\n",
              "    </tr>\n",
              "    <tr>\n",
              "      <th>997</th>\n",
              "      <td>1</td>\n",
              "      <td>9</td>\n",
              "      <td>4</td>\n",
              "      <td>0</td>\n",
              "      <td>0</td>\n",
              "      <td>0</td>\n",
              "      <td>0</td>\n",
              "      <td>0</td>\n",
              "      <td>0</td>\n",
              "      <td>0</td>\n",
              "      <td>0</td>\n",
              "      <td>1</td>\n",
              "      <td>0</td>\n",
              "      <td>0</td>\n",
              "      <td>0</td>\n",
              "      <td>0</td>\n",
              "    </tr>\n",
              "    <tr>\n",
              "      <th>998</th>\n",
              "      <td>1</td>\n",
              "      <td>9</td>\n",
              "      <td>30</td>\n",
              "      <td>0</td>\n",
              "      <td>0</td>\n",
              "      <td>0</td>\n",
              "      <td>0</td>\n",
              "      <td>0</td>\n",
              "      <td>0</td>\n",
              "      <td>0</td>\n",
              "      <td>0</td>\n",
              "      <td>0</td>\n",
              "      <td>1</td>\n",
              "      <td>0</td>\n",
              "      <td>0</td>\n",
              "      <td>0</td>\n",
              "    </tr>\n",
              "    <tr>\n",
              "      <th>999</th>\n",
              "      <td>0</td>\n",
              "      <td>9</td>\n",
              "      <td>19</td>\n",
              "      <td>0</td>\n",
              "      <td>1</td>\n",
              "      <td>0</td>\n",
              "      <td>0</td>\n",
              "      <td>0</td>\n",
              "      <td>0</td>\n",
              "      <td>0</td>\n",
              "      <td>0</td>\n",
              "      <td>0</td>\n",
              "      <td>0</td>\n",
              "      <td>0</td>\n",
              "      <td>0</td>\n",
              "      <td>0</td>\n",
              "    </tr>\n",
              "  </tbody>\n",
              "</table>\n",
              "</div>"
            ],
            "text/plain": [
              "     interesse_mba_lit  horas_semanais_estudo  modulos_finalizados  \\\n",
              "995                  0                      2                   45   \n",
              "996                  1                      8                   96   \n",
              "997                  1                      9                    4   \n",
              "998                  1                      9                   30   \n",
              "999                  0                      9                   19   \n",
              "\n",
              "     certificados  profissao_Advogado  profissao_Analista  \\\n",
              "995             1                   0                   0   \n",
              "996             0                   0                   0   \n",
              "997             0                   0                   0   \n",
              "998             0                   0                   0   \n",
              "999             0                   1                   0   \n",
              "\n",
              "     profissao_Analista Senior  profissao_Assessor  profissao_Coordenador  \\\n",
              "995                          0                   0                      1   \n",
              "996                          0                   1                      0   \n",
              "997                          0                   0                      0   \n",
              "998                          0                   0                      0   \n",
              "999                          0                   0                      0   \n",
              "\n",
              "     profissao_Diretor  profissao_Engenheiro  profissao_Gerente  \\\n",
              "995                  0                     0                  0   \n",
              "996                  0                     0                  0   \n",
              "997                  0                     0                  1   \n",
              "998                  0                     0                  0   \n",
              "999                  0                     0                  0   \n",
              "\n",
              "     profissao_Outros  profissao_SEM EXPERIÊNCIA  profissao_Supervisor  \\\n",
              "995                 0                          0                     0   \n",
              "996                 0                          0                     0   \n",
              "997                 0                          0                     0   \n",
              "998                 1                          0                     0   \n",
              "999                 0                          0                     0   \n",
              "\n",
              "     profissao_Sócio/Dono/Proprietário  \n",
              "995                                  0  \n",
              "996                                  0  \n",
              "997                                  0  \n",
              "998                                  0  \n",
              "999                                  0  "
            ]
          },
          "metadata": {
            "tags": []
          },
          "execution_count": 18
        }
      ]
    },
    {
      "cell_type": "markdown",
      "metadata": {
        "id": "viLiKvbYjogI"
      },
      "source": [
        "<hr>\n",
        "\n",
        "Pode ser verificado abaixo que as colunas da folha de resposta agora são idênticas às que foram usadas para treinar o modelo:"
      ]
    },
    {
      "cell_type": "code",
      "metadata": {
        "id": "v4v1phXSjogI",
        "outputId": "a5981e12-56f8-4ac0-b4aa-d30e7719400b"
      },
      "source": [
        "features.columns"
      ],
      "execution_count": null,
      "outputs": [
        {
          "output_type": "execute_result",
          "data": {
            "text/plain": [
              "Index(['interesse_mba_lit', 'horas_semanais_estudo', 'modulos_finalizados',\n",
              "       'certificados', 'profissao_Advogado', 'profissao_Analista',\n",
              "       'profissao_Analista Senior', 'profissao_Assessor',\n",
              "       'profissao_Coordenador', 'profissao_Diretor', 'profissao_Engenheiro',\n",
              "       'profissao_Gerente', 'profissao_Outros', 'profissao_SEM EXPERIÊNCIA',\n",
              "       'profissao_Supervisor', 'profissao_Sócio/Dono/Proprietário'],\n",
              "      dtype='object')"
            ]
          },
          "metadata": {
            "tags": []
          },
          "execution_count": 19
        }
      ]
    },
    {
      "cell_type": "code",
      "metadata": {
        "id": "jZEIu-Z8jogI",
        "outputId": "63e27e46-dfa5-4a32-f296-2f1f5c8cb59a"
      },
      "source": [
        "df_to_be_scored_2.columns"
      ],
      "execution_count": null,
      "outputs": [
        {
          "output_type": "execute_result",
          "data": {
            "text/plain": [
              "Index(['interesse_mba_lit', 'horas_semanais_estudo', 'modulos_finalizados',\n",
              "       'certificados', 'profissao_Advogado', 'profissao_Analista',\n",
              "       'profissao_Analista Senior', 'profissao_Assessor',\n",
              "       'profissao_Coordenador', 'profissao_Diretor', 'profissao_Engenheiro',\n",
              "       'profissao_Gerente', 'profissao_Outros', 'profissao_SEM EXPERIÊNCIA',\n",
              "       'profissao_Supervisor', 'profissao_Sócio/Dono/Proprietário'],\n",
              "      dtype='object')"
            ]
          },
          "metadata": {
            "tags": []
          },
          "execution_count": 20
        }
      ]
    },
    {
      "cell_type": "markdown",
      "metadata": {
        "id": "FB8zhzmDjvL3"
      },
      "source": [
        "Fazendo a predição dos perfis de cada aluno, obtêm-se o dataset final com a varíavel ``target`` inclusa."
      ]
    },
    {
      "cell_type": "code",
      "metadata": {
        "scrolled": false,
        "id": "bedaIaH_jogJ",
        "outputId": "911ffac4-2486-4d0d-d6d8-2f1e314a0a04"
      },
      "source": [
        "y_pred = boost_model.predict(df_to_be_scored_2)\n",
        "df_to_be_scored_2['target'] = y_pred\n",
        "df_to_be_scored_2.tail()"
      ],
      "execution_count": null,
      "outputs": [
        {
          "output_type": "execute_result",
          "data": {
            "text/html": [
              "<div>\n",
              "<style scoped>\n",
              "    .dataframe tbody tr th:only-of-type {\n",
              "        vertical-align: middle;\n",
              "    }\n",
              "\n",
              "    .dataframe tbody tr th {\n",
              "        vertical-align: top;\n",
              "    }\n",
              "\n",
              "    .dataframe thead th {\n",
              "        text-align: right;\n",
              "    }\n",
              "</style>\n",
              "<table border=\"1\" class=\"dataframe\">\n",
              "  <thead>\n",
              "    <tr style=\"text-align: right;\">\n",
              "      <th></th>\n",
              "      <th>interesse_mba_lit</th>\n",
              "      <th>horas_semanais_estudo</th>\n",
              "      <th>modulos_finalizados</th>\n",
              "      <th>certificados</th>\n",
              "      <th>profissao_Advogado</th>\n",
              "      <th>profissao_Analista</th>\n",
              "      <th>profissao_Analista Senior</th>\n",
              "      <th>profissao_Assessor</th>\n",
              "      <th>profissao_Coordenador</th>\n",
              "      <th>profissao_Diretor</th>\n",
              "      <th>profissao_Engenheiro</th>\n",
              "      <th>profissao_Gerente</th>\n",
              "      <th>profissao_Outros</th>\n",
              "      <th>profissao_SEM EXPERIÊNCIA</th>\n",
              "      <th>profissao_Supervisor</th>\n",
              "      <th>profissao_Sócio/Dono/Proprietário</th>\n",
              "      <th>target</th>\n",
              "    </tr>\n",
              "  </thead>\n",
              "  <tbody>\n",
              "    <tr>\n",
              "      <th>995</th>\n",
              "      <td>0</td>\n",
              "      <td>2</td>\n",
              "      <td>45</td>\n",
              "      <td>1</td>\n",
              "      <td>0</td>\n",
              "      <td>0</td>\n",
              "      <td>0</td>\n",
              "      <td>0</td>\n",
              "      <td>1</td>\n",
              "      <td>0</td>\n",
              "      <td>0</td>\n",
              "      <td>0</td>\n",
              "      <td>0</td>\n",
              "      <td>0</td>\n",
              "      <td>0</td>\n",
              "      <td>0</td>\n",
              "      <td>perfil1</td>\n",
              "    </tr>\n",
              "    <tr>\n",
              "      <th>996</th>\n",
              "      <td>1</td>\n",
              "      <td>8</td>\n",
              "      <td>96</td>\n",
              "      <td>0</td>\n",
              "      <td>0</td>\n",
              "      <td>0</td>\n",
              "      <td>0</td>\n",
              "      <td>1</td>\n",
              "      <td>0</td>\n",
              "      <td>0</td>\n",
              "      <td>0</td>\n",
              "      <td>0</td>\n",
              "      <td>0</td>\n",
              "      <td>0</td>\n",
              "      <td>0</td>\n",
              "      <td>0</td>\n",
              "      <td>perfil2</td>\n",
              "    </tr>\n",
              "    <tr>\n",
              "      <th>997</th>\n",
              "      <td>1</td>\n",
              "      <td>9</td>\n",
              "      <td>4</td>\n",
              "      <td>0</td>\n",
              "      <td>0</td>\n",
              "      <td>0</td>\n",
              "      <td>0</td>\n",
              "      <td>0</td>\n",
              "      <td>0</td>\n",
              "      <td>0</td>\n",
              "      <td>0</td>\n",
              "      <td>1</td>\n",
              "      <td>0</td>\n",
              "      <td>0</td>\n",
              "      <td>0</td>\n",
              "      <td>0</td>\n",
              "      <td>perfil6</td>\n",
              "    </tr>\n",
              "    <tr>\n",
              "      <th>998</th>\n",
              "      <td>1</td>\n",
              "      <td>9</td>\n",
              "      <td>30</td>\n",
              "      <td>0</td>\n",
              "      <td>0</td>\n",
              "      <td>0</td>\n",
              "      <td>0</td>\n",
              "      <td>0</td>\n",
              "      <td>0</td>\n",
              "      <td>0</td>\n",
              "      <td>0</td>\n",
              "      <td>0</td>\n",
              "      <td>1</td>\n",
              "      <td>0</td>\n",
              "      <td>0</td>\n",
              "      <td>0</td>\n",
              "      <td>perfil2</td>\n",
              "    </tr>\n",
              "    <tr>\n",
              "      <th>999</th>\n",
              "      <td>0</td>\n",
              "      <td>9</td>\n",
              "      <td>19</td>\n",
              "      <td>0</td>\n",
              "      <td>1</td>\n",
              "      <td>0</td>\n",
              "      <td>0</td>\n",
              "      <td>0</td>\n",
              "      <td>0</td>\n",
              "      <td>0</td>\n",
              "      <td>0</td>\n",
              "      <td>0</td>\n",
              "      <td>0</td>\n",
              "      <td>0</td>\n",
              "      <td>0</td>\n",
              "      <td>0</td>\n",
              "      <td>perfil3</td>\n",
              "    </tr>\n",
              "  </tbody>\n",
              "</table>\n",
              "</div>"
            ],
            "text/plain": [
              "     interesse_mba_lit  horas_semanais_estudo  modulos_finalizados  \\\n",
              "995                  0                      2                   45   \n",
              "996                  1                      8                   96   \n",
              "997                  1                      9                    4   \n",
              "998                  1                      9                   30   \n",
              "999                  0                      9                   19   \n",
              "\n",
              "     certificados  profissao_Advogado  profissao_Analista  \\\n",
              "995             1                   0                   0   \n",
              "996             0                   0                   0   \n",
              "997             0                   0                   0   \n",
              "998             0                   0                   0   \n",
              "999             0                   1                   0   \n",
              "\n",
              "     profissao_Analista Senior  profissao_Assessor  profissao_Coordenador  \\\n",
              "995                          0                   0                      1   \n",
              "996                          0                   1                      0   \n",
              "997                          0                   0                      0   \n",
              "998                          0                   0                      0   \n",
              "999                          0                   0                      0   \n",
              "\n",
              "     profissao_Diretor  profissao_Engenheiro  profissao_Gerente  \\\n",
              "995                  0                     0                  0   \n",
              "996                  0                     0                  0   \n",
              "997                  0                     0                  1   \n",
              "998                  0                     0                  0   \n",
              "999                  0                     0                  0   \n",
              "\n",
              "     profissao_Outros  profissao_SEM EXPERIÊNCIA  profissao_Supervisor  \\\n",
              "995                 0                          0                     0   \n",
              "996                 0                          0                     0   \n",
              "997                 0                          0                     0   \n",
              "998                 1                          0                     0   \n",
              "999                 0                          0                     0   \n",
              "\n",
              "     profissao_Sócio/Dono/Proprietário   target  \n",
              "995                                  0  perfil1  \n",
              "996                                  0  perfil2  \n",
              "997                                  0  perfil6  \n",
              "998                                  0  perfil2  \n",
              "999                                  0  perfil3  "
            ]
          },
          "metadata": {
            "tags": []
          },
          "execution_count": 21
        }
      ]
    },
    {
      "cell_type": "markdown",
      "metadata": {
        "id": "m5CPL7jqjogK"
      },
      "source": [
        "### Salvando a folha de respostas como um arquivo .csv para ser submetido"
      ]
    },
    {
      "cell_type": "code",
      "metadata": {
        "id": "zdnJtXJijogK"
      },
      "source": [
        "df_to_be_scored_2.to_csv('results.csv',index=False)"
      ],
      "execution_count": null,
      "outputs": []
    },
    {
      "cell_type": "markdown",
      "metadata": {
        "id": "erTDYd92j7qQ"
      },
      "source": [
        "Pronto, a folha de respostas pode ser submetida para o Desafio 6 da Maratona Behind The Code 2020."
      ]
    }
  ]
}